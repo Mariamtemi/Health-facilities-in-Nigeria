{
  "nbformat": 4,
  "nbformat_minor": 0,
  "metadata": {
    "colab": {
      "name": "mariamatoyebi@gmail.com_KerasModel.ipynb",
      "version": "0.3.2",
      "provenance": [],
      "collapsed_sections": [],
      "include_colab_link": true
    },
    "kernelspec": {
      "name": "python3",
      "display_name": "Python 3"
    },
    "accelerator": "GPU"
  },
  "cells": [
    {
      "cell_type": "markdown",
      "metadata": {
        "id": "view-in-github",
        "colab_type": "text"
      },
      "source": [
        "<a href=\"https://colab.research.google.com/github/Mariamtemi/Health-facilities-in-Nigeria/blob/master/mariamatoyebi_gmail_com_KerasModel.ipynb\" target=\"_parent\"><img src=\"https://colab.research.google.com/assets/colab-badge.svg\" alt=\"Open In Colab\"/></a>"
      ]
    },
    {
      "metadata": {
        "id": "KyZCiXIBQC3B",
        "colab_type": "text"
      },
      "cell_type": "markdown",
      "source": [
        "# Final Challenge"
      ]
    },
    {
      "metadata": {
        "id": "HQQFJqTUeMW2",
        "colab_type": "text"
      },
      "cell_type": "markdown",
      "source": [
        "This is a basic notebook to train a  Neural Network using the Keras library to predict whether clients will default loan repayment . "
      ]
    },
    {
      "metadata": {
        "id": "l4zMlmw9N6Ea",
        "colab_type": "code",
        "outputId": "46d66a9d-7936-4565-9da6-67b11e200f79",
        "colab": {
          "base_uri": "https://localhost:8080/",
          "height": 34
        }
      },
      "cell_type": "code",
      "source": [
        "from google.colab import drive\n",
        "drive.mount('/content/drive/')\n",
        "import os\n",
        "os.chdir('drive/My Drive/paylater')"
      ],
      "execution_count": 0,
      "outputs": [
        {
          "output_type": "stream",
          "text": [
            "Drive already mounted at /content/drive/; to attempt to forcibly remount, call drive.mount(\"/content/drive/\", force_remount=True).\n"
          ],
          "name": "stdout"
        }
      ]
    },
    {
      "metadata": {
        "id": "ZwH98TdHjMQF",
        "colab_type": "text"
      },
      "cell_type": "markdown",
      "source": [
        "#Import the required modules"
      ]
    },
    {
      "metadata": {
        "id": "DtsGs7ZaN84g",
        "colab_type": "code",
        "colab": {}
      },
      "cell_type": "code",
      "source": [
        "import warnings\n",
        "warnings.simplefilter(action='ignore', category=FutureWarning)\n",
        "import pandas as pd\n",
        "import numpy as np\n",
        "from sklearn import preprocessing\n",
        "import matplotlib.pyplot as plt \n",
        "plt.rc(\"font\", size=14)\n",
        "from sklearn.model_selection import train_test_split\n",
        "import seaborn as sns\n",
        "sns.set(style=\"white\")\n",
        "sns.set(style=\"whitegrid\", color_codes=True)"
      ],
      "execution_count": 0,
      "outputs": []
    },
    {
      "metadata": {
        "id": "xmB5sAVKN9GE",
        "colab_type": "code",
        "outputId": "aec7aa95-de0d-4923-d24b-dead0fee3555",
        "colab": {
          "base_uri": "https://localhost:8080/",
          "height": 88
        }
      },
      "cell_type": "code",
      "source": [
        "data = pd.read_csv('final_challenge.csv', header=0)\n",
        "print(data.shape)\n"
      ],
      "execution_count": 0,
      "outputs": [
        {
          "output_type": "stream",
          "text": [
            "(159596, 35)\n"
          ],
          "name": "stdout"
        },
        {
          "output_type": "stream",
          "text": [
            "/usr/local/lib/python3.6/dist-packages/IPython/core/interactiveshell.py:2718: DtypeWarning: Columns (2,12,27,33) have mixed types. Specify dtype option on import or set low_memory=False.\n",
            "  interactivity=interactivity, compiler=compiler, result=result)\n"
          ],
          "name": "stderr"
        }
      ]
    },
    {
      "metadata": {
        "id": "S2FBVB1rOj16",
        "colab_type": "code",
        "outputId": "e1732965-78df-4570-b2ea-382a4057d627",
        "colab": {
          "base_uri": "https://localhost:8080/",
          "height": 34
        }
      },
      "cell_type": "code",
      "source": [
        "#data.info()\n",
        "data.isnull().values.any()\n"
      ],
      "execution_count": 0,
      "outputs": [
        {
          "output_type": "execute_result",
          "data": {
            "text/plain": [
              "False"
            ]
          },
          "metadata": {
            "tags": []
          },
          "execution_count": 4
        }
      ]
    },
    {
      "metadata": {
        "colab_type": "text",
        "id": "GUN9cv_N6art"
      },
      "cell_type": "markdown",
      "source": [
        "**Fixing some columns**\n",
        "\n",
        "1)  conversion of the date columns to the correct format.\n",
        "\n",
        "2) obtaining the absolute values for the settleDays column\n",
        "\n",
        "3) converting the string values of clienttimeatEmployer to numeric values\n"
      ]
    },
    {
      "metadata": {
        "id": "zo7kEiScCGPU",
        "colab_type": "code",
        "colab": {}
      },
      "cell_type": "code",
      "source": [
        "data['applicationDate'] =  pd.to_datetime(data['applicationDate'],errors=\"coerce\"  )\n",
        "data['approvalDate'] =  pd.to_datetime(data['approvalDate'],errors=\"coerce\" )\n",
        "data['disbursementDate'] =  pd.to_datetime(data['disbursementDate'],errors=\"coerce\" )\n",
        "data['dueDate'] =  pd.to_datetime(data['dueDate'], errors=\"coerce\" )\n",
        "data['paidAt'] =  pd.to_datetime(data['paidAt'],errors=\"coerce\" )\n",
        "data['repaidDate'] =  pd.to_datetime(data['repaidDate'],errors=\"coerce\" )\n",
        "data['repaymnentDueDate'] =  pd.to_datetime(data['repaymentDueDate'], errors=\"coerce\" )\n",
        "data['settleDays'] = data['settleDays'].abs()\n",
        "data['clientTimeAtEmployer'] = pd.to_numeric(data['clientTimeAtEmployer'], errors='coerce')"
      ],
      "execution_count": 0,
      "outputs": []
    },
    {
      "metadata": {
        "id": "tXjreJbyPz3U",
        "colab_type": "text"
      },
      "cell_type": "markdown",
      "source": [
        "#Data Exploration"
      ]
    },
    {
      "metadata": {
        "id": "NdzGZEXoQV_h",
        "colab_type": "text"
      },
      "cell_type": "markdown",
      "source": [
        "Let's drop some columns, loan type and declined date and preview our data\n"
      ]
    },
    {
      "metadata": {
        "id": "tcZprtcUOjv2",
        "colab_type": "code",
        "outputId": "a9ffdce4-f2ca-41a2-c9cf-c7b6347bfbf9",
        "colab": {
          "base_uri": "https://localhost:8080/",
          "height": 338
        }
      },
      "cell_type": "code",
      "source": [
        "data = data.drop(['loanType','declinedDate'], axis=1)   #drop two columns\n",
        "data.head()"
      ],
      "execution_count": 0,
      "outputs": [
        {
          "output_type": "execute_result",
          "data": {
            "text/html": [
              "<div>\n",
              "<style scoped>\n",
              "    .dataframe tbody tr th:only-of-type {\n",
              "        vertical-align: middle;\n",
              "    }\n",
              "\n",
              "    .dataframe tbody tr th {\n",
              "        vertical-align: top;\n",
              "    }\n",
              "\n",
              "    .dataframe thead th {\n",
              "        text-align: right;\n",
              "    }\n",
              "</style>\n",
              "<table border=\"1\" class=\"dataframe\">\n",
              "  <thead>\n",
              "    <tr style=\"text-align: right;\">\n",
              "      <th></th>\n",
              "      <th>clientId</th>\n",
              "      <th>clientIncome</th>\n",
              "      <th>incomeVerified</th>\n",
              "      <th>clientAge</th>\n",
              "      <th>clientGender</th>\n",
              "      <th>clientMaritalStatus</th>\n",
              "      <th>clientLoanPurpose</th>\n",
              "      <th>clientResidentialStauts</th>\n",
              "      <th>clientState</th>\n",
              "      <th>clientTimeAtEmployer</th>\n",
              "      <th>...</th>\n",
              "      <th>max_tenor_taken</th>\n",
              "      <th>id</th>\n",
              "      <th>repaidDate</th>\n",
              "      <th>repaymentDueDate</th>\n",
              "      <th>settleDays</th>\n",
              "      <th>firstPaymentRatio</th>\n",
              "      <th>firstPaymentDefault</th>\n",
              "      <th>ids</th>\n",
              "      <th>loanDefault</th>\n",
              "      <th>repaymnentDueDate</th>\n",
              "    </tr>\n",
              "  </thead>\n",
              "  <tbody>\n",
              "    <tr>\n",
              "      <th>0</th>\n",
              "      <td>395301182</td>\n",
              "      <td>35000.00</td>\n",
              "      <td>false</td>\n",
              "      <td>28</td>\n",
              "      <td>FEMALE</td>\n",
              "      <td>Single</td>\n",
              "      <td>house</td>\n",
              "      <td>Own Residence</td>\n",
              "      <td>OYO</td>\n",
              "      <td>NaN</td>\n",
              "      <td>...</td>\n",
              "      <td>1</td>\n",
              "      <td>301714529828</td>\n",
              "      <td>2018-06-07 12:12:32</td>\n",
              "      <td>2018-06-08 12:00:00 UTC</td>\n",
              "      <td>1</td>\n",
              "      <td>0.0</td>\n",
              "      <td>0</td>\n",
              "      <td>301714529828</td>\n",
              "      <td>0</td>\n",
              "      <td>2018-06-08 12:00:00</td>\n",
              "    </tr>\n",
              "    <tr>\n",
              "      <th>1</th>\n",
              "      <td>492597075</td>\n",
              "      <td>70833.33</td>\n",
              "      <td>true</td>\n",
              "      <td>41</td>\n",
              "      <td>FEMALE</td>\n",
              "      <td>Married</td>\n",
              "      <td>education</td>\n",
              "      <td>Own Residence</td>\n",
              "      <td>KWARA</td>\n",
              "      <td>NaN</td>\n",
              "      <td>...</td>\n",
              "      <td>1</td>\n",
              "      <td>301714537708</td>\n",
              "      <td>2018-06-07 09:27:56</td>\n",
              "      <td>2018-06-08 12:00:00 UTC</td>\n",
              "      <td>1</td>\n",
              "      <td>0.0</td>\n",
              "      <td>0</td>\n",
              "      <td>301714537708</td>\n",
              "      <td>0</td>\n",
              "      <td>2018-06-08 12:00:00</td>\n",
              "    </tr>\n",
              "    <tr>\n",
              "      <th>2</th>\n",
              "      <td>769980240</td>\n",
              "      <td>25000.00</td>\n",
              "      <td>false</td>\n",
              "      <td>38</td>\n",
              "      <td>FEMALE</td>\n",
              "      <td>Married</td>\n",
              "      <td>house</td>\n",
              "      <td>Rented</td>\n",
              "      <td>LAGOS</td>\n",
              "      <td>NaN</td>\n",
              "      <td>...</td>\n",
              "      <td>1</td>\n",
              "      <td>301714552748</td>\n",
              "      <td>2018-06-08 12:49:13</td>\n",
              "      <td>2018-06-08 12:00:00 UTC</td>\n",
              "      <td>0</td>\n",
              "      <td>0.0</td>\n",
              "      <td>0</td>\n",
              "      <td>301714552748</td>\n",
              "      <td>0</td>\n",
              "      <td>2018-06-08 12:00:00</td>\n",
              "    </tr>\n",
              "    <tr>\n",
              "      <th>3</th>\n",
              "      <td>525296437</td>\n",
              "      <td>35000.00</td>\n",
              "      <td>false</td>\n",
              "      <td>32</td>\n",
              "      <td>FEMALE</td>\n",
              "      <td>Married</td>\n",
              "      <td>business</td>\n",
              "      <td>Rented</td>\n",
              "      <td>LAGOS</td>\n",
              "      <td>NaN</td>\n",
              "      <td>...</td>\n",
              "      <td>1</td>\n",
              "      <td>301714561362</td>\n",
              "      <td>2018-06-04 05:39:55</td>\n",
              "      <td>2018-06-08 12:00:00 UTC</td>\n",
              "      <td>4</td>\n",
              "      <td>0.0</td>\n",
              "      <td>0</td>\n",
              "      <td>301714561362</td>\n",
              "      <td>0</td>\n",
              "      <td>2018-06-08 12:00:00</td>\n",
              "    </tr>\n",
              "    <tr>\n",
              "      <th>4</th>\n",
              "      <td>800220186</td>\n",
              "      <td>97865.00</td>\n",
              "      <td>true</td>\n",
              "      <td>36</td>\n",
              "      <td>FEMALE</td>\n",
              "      <td>Single</td>\n",
              "      <td>business</td>\n",
              "      <td>Family Owned</td>\n",
              "      <td>ABUJA</td>\n",
              "      <td>27.0</td>\n",
              "      <td>...</td>\n",
              "      <td>1</td>\n",
              "      <td>301714565557</td>\n",
              "      <td>2018-06-08 07:28:10</td>\n",
              "      <td>2018-06-08 12:00:00 UTC</td>\n",
              "      <td>0</td>\n",
              "      <td>0.0</td>\n",
              "      <td>0</td>\n",
              "      <td>301714565557</td>\n",
              "      <td>0</td>\n",
              "      <td>2018-06-08 12:00:00</td>\n",
              "    </tr>\n",
              "  </tbody>\n",
              "</table>\n",
              "<p>5 rows × 34 columns</p>\n",
              "</div>"
            ],
            "text/plain": [
              "    clientId  clientIncome incomeVerified  clientAge clientGender  \\\n",
              "0  395301182      35000.00          false         28       FEMALE   \n",
              "1  492597075      70833.33           true         41       FEMALE   \n",
              "2  769980240      25000.00          false         38       FEMALE   \n",
              "3  525296437      35000.00          false         32       FEMALE   \n",
              "4  800220186      97865.00           true         36       FEMALE   \n",
              "\n",
              "  clientMaritalStatus clientLoanPurpose clientResidentialStauts clientState  \\\n",
              "0              Single             house           Own Residence         OYO   \n",
              "1             Married         education           Own Residence       KWARA   \n",
              "2             Married             house                  Rented       LAGOS   \n",
              "3             Married          business                  Rented       LAGOS   \n",
              "4              Single          business            Family Owned       ABUJA   \n",
              "\n",
              "   clientTimeAtEmployer         ...         max_tenor_taken            id  \\\n",
              "0                   NaN         ...                       1  301714529828   \n",
              "1                   NaN         ...                       1  301714537708   \n",
              "2                   NaN         ...                       1  301714552748   \n",
              "3                   NaN         ...                       1  301714561362   \n",
              "4                  27.0         ...                       1  301714565557   \n",
              "\n",
              "           repaidDate         repaymentDueDate settleDays firstPaymentRatio  \\\n",
              "0 2018-06-07 12:12:32  2018-06-08 12:00:00 UTC          1               0.0   \n",
              "1 2018-06-07 09:27:56  2018-06-08 12:00:00 UTC          1               0.0   \n",
              "2 2018-06-08 12:49:13  2018-06-08 12:00:00 UTC          0               0.0   \n",
              "3 2018-06-04 05:39:55  2018-06-08 12:00:00 UTC          4               0.0   \n",
              "4 2018-06-08 07:28:10  2018-06-08 12:00:00 UTC          0               0.0   \n",
              "\n",
              "  firstPaymentDefault           ids loanDefault   repaymnentDueDate  \n",
              "0                   0  301714529828           0 2018-06-08 12:00:00  \n",
              "1                   0  301714537708           0 2018-06-08 12:00:00  \n",
              "2                   0  301714552748           0 2018-06-08 12:00:00  \n",
              "3                   0  301714561362           0 2018-06-08 12:00:00  \n",
              "4                   0  301714565557           0 2018-06-08 12:00:00  \n",
              "\n",
              "[5 rows x 34 columns]"
            ]
          },
          "metadata": {
            "tags": []
          },
          "execution_count": 6
        }
      ]
    },
    {
      "metadata": {
        "id": "nHM8utAKOjo6",
        "colab_type": "code",
        "outputId": "ff9ba2a3-5596-44f5-fb3f-2c037ebfe919",
        "colab": {
          "base_uri": "https://localhost:8080/",
          "height": 412
        }
      },
      "cell_type": "code",
      "source": [
        "sns.countplot(x='loanDefault',data=data, palette='hls')\n",
        "plt.show()\n",
        "data['loanDefault'].value_counts()"
      ],
      "execution_count": 0,
      "outputs": [
        {
          "output_type": "display_data",
          "data": {
            "image/png": "[encoded data removed]",
            "text/plain": [
              "<Figure size 576x396 with 1 Axes>"
            ]
          },
          "metadata": {
            "tags": []
          }
        },
        {
          "output_type": "execute_result",
          "data": {
            "text/plain": [
              "0    100740\n",
              "1     58856\n",
              "Name: loanDefault, dtype: int64"
            ]
          },
          "metadata": {
            "tags": []
          },
          "execution_count": 7
        }
      ]
    },
    {
      "metadata": {
        "id": "_t1DFvAzTnWk",
        "colab_type": "code",
        "outputId": "a1fd6db3-2b81-4303-926a-d4f570859ee3",
        "colab": {
          "base_uri": "https://localhost:8080/",
          "height": 51
        }
      },
      "cell_type": "code",
      "source": [
        "count_no_defaulters = len(data[data['loanDefault']==0])\n",
        "count_defaulters = len(data[data['loanDefault']==1])\n",
        "pct_of_no_defaulters = count_no_defaulters/(count_no_defaulters+count_defaulters)\n",
        "print(\"percentage of non loan_defaults is\", pct_of_no_defaulters*100)\n",
        "pct_of_defaulters = count_defaulters/(count_no_defaulters+count_defaulters)\n",
        "print(\"percentage of loan_defaulters\", pct_of_defaulters*100)"
      ],
      "execution_count": 0,
      "outputs": [
        {
          "output_type": "stream",
          "text": [
            "percentage of non loan_defaults is 63.12188275395373\n",
            "percentage of loan_defaulters 36.878117246046266\n"
          ],
          "name": "stdout"
        }
      ]
    },
    {
      "metadata": {
        "id": "77If0M2XSwlx",
        "colab_type": "text"
      },
      "cell_type": "markdown",
      "source": [
        "we can see from the above analysis that our classes are imbalanced.  The ratio of non defaulters to defaulters in 63:37. Hence, we need to balance the data for our algorithm to perform better."
      ]
    },
    {
      "metadata": {
        "id": "fruN82IGN9JY",
        "colab_type": "code",
        "outputId": "4aa69ba2-a96a-4472-b0be-1397e979156c",
        "colab": {
          "base_uri": "https://localhost:8080/",
          "height": 162
        }
      },
      "cell_type": "code",
      "source": [
        "data.groupby('loanDefault').mean()"
      ],
      "execution_count": 0,
      "outputs": [
        {
          "output_type": "execute_result",
          "data": {
            "text/html": [
              "<div>\n",
              "<style scoped>\n",
              "    .dataframe tbody tr th:only-of-type {\n",
              "        vertical-align: middle;\n",
              "    }\n",
              "\n",
              "    .dataframe tbody tr th {\n",
              "        vertical-align: top;\n",
              "    }\n",
              "\n",
              "    .dataframe thead th {\n",
              "        text-align: right;\n",
              "    }\n",
              "</style>\n",
              "<table border=\"1\" class=\"dataframe\">\n",
              "  <thead>\n",
              "    <tr style=\"text-align: right;\">\n",
              "      <th></th>\n",
              "      <th>clientId</th>\n",
              "      <th>clientIncome</th>\n",
              "      <th>clientAge</th>\n",
              "      <th>clientTimeAtEmployer</th>\n",
              "      <th>loanNumber</th>\n",
              "      <th>loanAmount</th>\n",
              "      <th>interestRate</th>\n",
              "      <th>loanTerm</th>\n",
              "      <th>max_amount_taken</th>\n",
              "      <th>max_tenor_taken</th>\n",
              "      <th>settleDays</th>\n",
              "      <th>firstPaymentRatio</th>\n",
              "      <th>firstPaymentDefault</th>\n",
              "    </tr>\n",
              "    <tr>\n",
              "      <th>loanDefault</th>\n",
              "      <th></th>\n",
              "      <th></th>\n",
              "      <th></th>\n",
              "      <th></th>\n",
              "      <th></th>\n",
              "      <th></th>\n",
              "      <th></th>\n",
              "      <th></th>\n",
              "      <th></th>\n",
              "      <th></th>\n",
              "      <th></th>\n",
              "      <th></th>\n",
              "      <th></th>\n",
              "    </tr>\n",
              "  </thead>\n",
              "  <tbody>\n",
              "    <tr>\n",
              "      <th>0</th>\n",
              "      <td>4.980211e+08</td>\n",
              "      <td>92055.538940</td>\n",
              "      <td>33.833155</td>\n",
              "      <td>15.587688</td>\n",
              "      <td>3.629482</td>\n",
              "      <td>34541.726226</td>\n",
              "      <td>13.364509</td>\n",
              "      <td>83.290351</td>\n",
              "      <td>0.681110</td>\n",
              "      <td>0.901022</td>\n",
              "      <td>8.297092</td>\n",
              "      <td>0.000000</td>\n",
              "      <td>0.161277</td>\n",
              "    </tr>\n",
              "    <tr>\n",
              "      <th>1</th>\n",
              "      <td>4.979862e+08</td>\n",
              "      <td>88756.880374</td>\n",
              "      <td>33.449980</td>\n",
              "      <td>15.834043</td>\n",
              "      <td>3.432411</td>\n",
              "      <td>36663.466766</td>\n",
              "      <td>13.274282</td>\n",
              "      <td>88.971898</td>\n",
              "      <td>0.746636</td>\n",
              "      <td>0.939938</td>\n",
              "      <td>88.234233</td>\n",
              "      <td>0.265717</td>\n",
              "      <td>0.521901</td>\n",
              "    </tr>\n",
              "  </tbody>\n",
              "</table>\n",
              "</div>"
            ],
            "text/plain": [
              "                 clientId  clientIncome  clientAge  clientTimeAtEmployer  \\\n",
              "loanDefault                                                                \n",
              "0            4.980211e+08  92055.538940  33.833155             15.587688   \n",
              "1            4.979862e+08  88756.880374  33.449980             15.834043   \n",
              "\n",
              "             loanNumber    loanAmount  interestRate   loanTerm  \\\n",
              "loanDefault                                                      \n",
              "0              3.629482  34541.726226     13.364509  83.290351   \n",
              "1              3.432411  36663.466766     13.274282  88.971898   \n",
              "\n",
              "             max_amount_taken  max_tenor_taken  settleDays  firstPaymentRatio  \\\n",
              "loanDefault                                                                     \n",
              "0                    0.681110         0.901022    8.297092           0.000000   \n",
              "1                    0.746636         0.939938   88.234233           0.265717   \n",
              "\n",
              "             firstPaymentDefault  \n",
              "loanDefault                       \n",
              "0                       0.161277  \n",
              "1                       0.521901  "
            ]
          },
          "metadata": {
            "tags": []
          },
          "execution_count": 8
        }
      ]
    },
    {
      "metadata": {
        "id": "BQlJZt3lVjpk",
        "colab_type": "text"
      },
      "cell_type": "markdown",
      "source": [
        "The average age of both classes are almost the same.\n",
        "\n",
        "The average income of non defaulters is slighter higher than for defaulters.\n",
        "The average loan of defaulters is a little higher than for non defaulters.\n",
        "Expectedly, the average settle days, firstpayment ratio and firstpaymentdefaults of defaulters are higher than for non-defaulters.\n"
      ]
    },
    {
      "metadata": {
        "id": "ZI7YAxLmTLUG",
        "colab_type": "code",
        "outputId": "5ccacf74-25c0-42a1-847d-6162b470b3e1",
        "colab": {
          "base_uri": "https://localhost:8080/",
          "height": 162
        }
      },
      "cell_type": "code",
      "source": [
        "data.groupby('clientGender').mean()"
      ],
      "execution_count": 0,
      "outputs": [
        {
          "output_type": "execute_result",
          "data": {
            "text/html": [
              "<div>\n",
              "<style scoped>\n",
              "    .dataframe tbody tr th:only-of-type {\n",
              "        vertical-align: middle;\n",
              "    }\n",
              "\n",
              "    .dataframe tbody tr th {\n",
              "        vertical-align: top;\n",
              "    }\n",
              "\n",
              "    .dataframe thead th {\n",
              "        text-align: right;\n",
              "    }\n",
              "</style>\n",
              "<table border=\"1\" class=\"dataframe\">\n",
              "  <thead>\n",
              "    <tr style=\"text-align: right;\">\n",
              "      <th></th>\n",
              "      <th>clientId</th>\n",
              "      <th>clientIncome</th>\n",
              "      <th>clientAge</th>\n",
              "      <th>loanNumber</th>\n",
              "      <th>loanAmount</th>\n",
              "      <th>interestRate</th>\n",
              "      <th>loanTerm</th>\n",
              "      <th>max_amount_taken</th>\n",
              "      <th>max_tenor_taken</th>\n",
              "      <th>settleDays</th>\n",
              "      <th>firstPaymentRatio</th>\n",
              "      <th>firstPaymentDefault</th>\n",
              "      <th>loanDefault</th>\n",
              "    </tr>\n",
              "    <tr>\n",
              "      <th>clientGender</th>\n",
              "      <th></th>\n",
              "      <th></th>\n",
              "      <th></th>\n",
              "      <th></th>\n",
              "      <th></th>\n",
              "      <th></th>\n",
              "      <th></th>\n",
              "      <th></th>\n",
              "      <th></th>\n",
              "      <th></th>\n",
              "      <th></th>\n",
              "      <th></th>\n",
              "      <th></th>\n",
              "    </tr>\n",
              "  </thead>\n",
              "  <tbody>\n",
              "    <tr>\n",
              "      <th>FEMALE</th>\n",
              "      <td>4.975876e+08</td>\n",
              "      <td>79476.963147</td>\n",
              "      <td>32.809433</td>\n",
              "      <td>3.522451</td>\n",
              "      <td>34522.601642</td>\n",
              "      <td>13.133319</td>\n",
              "      <td>85.067094</td>\n",
              "      <td>0.707531</td>\n",
              "      <td>0.918947</td>\n",
              "      <td>29.407951</td>\n",
              "      <td>0.088898</td>\n",
              "      <td>0.278189</td>\n",
              "      <td>0.359844</td>\n",
              "    </tr>\n",
              "    <tr>\n",
              "      <th>MALE</th>\n",
              "      <td>4.981997e+08</td>\n",
              "      <td>96012.120203</td>\n",
              "      <td>34.093602</td>\n",
              "      <td>3.572447</td>\n",
              "      <td>35689.137928</td>\n",
              "      <td>13.421344</td>\n",
              "      <td>85.530611</td>\n",
              "      <td>0.704247</td>\n",
              "      <td>0.913747</td>\n",
              "      <td>34.056408</td>\n",
              "      <td>0.102131</td>\n",
              "      <td>0.301588</td>\n",
              "      <td>0.372850</td>\n",
              "    </tr>\n",
              "  </tbody>\n",
              "</table>\n",
              "</div>"
            ],
            "text/plain": [
              "                  clientId  clientIncome  clientAge  loanNumber    loanAmount  \\\n",
              "clientGender                                                                    \n",
              "FEMALE        4.975876e+08  79476.963147  32.809433    3.522451  34522.601642   \n",
              "MALE          4.981997e+08  96012.120203  34.093602    3.572447  35689.137928   \n",
              "\n",
              "              interestRate   loanTerm  max_amount_taken  max_tenor_taken  \\\n",
              "clientGender                                                               \n",
              "FEMALE           13.133319  85.067094          0.707531         0.918947   \n",
              "MALE             13.421344  85.530611          0.704247         0.913747   \n",
              "\n",
              "              settleDays  firstPaymentRatio  firstPaymentDefault  loanDefault  \n",
              "clientGender                                                                   \n",
              "FEMALE         29.407951           0.088898             0.278189     0.359844  \n",
              "MALE           34.056408           0.102131             0.301588     0.372850  "
            ]
          },
          "metadata": {
            "tags": []
          },
          "execution_count": 10
        }
      ]
    },
    {
      "metadata": {
        "id": "4o0WauhmTLRc",
        "colab_type": "code",
        "outputId": "07ddc9be-b96d-485e-acc0-e62a33d1f462",
        "colab": {
          "base_uri": "https://localhost:8080/",
          "height": 286
        }
      },
      "cell_type": "code",
      "source": [
        "data.groupby('clientMaritalStatus').mean()"
      ],
      "execution_count": 0,
      "outputs": [
        {
          "output_type": "execute_result",
          "data": {
            "text/html": [
              "<div>\n",
              "<style scoped>\n",
              "    .dataframe tbody tr th:only-of-type {\n",
              "        vertical-align: middle;\n",
              "    }\n",
              "\n",
              "    .dataframe tbody tr th {\n",
              "        vertical-align: top;\n",
              "    }\n",
              "\n",
              "    .dataframe thead th {\n",
              "        text-align: right;\n",
              "    }\n",
              "</style>\n",
              "<table border=\"1\" class=\"dataframe\">\n",
              "  <thead>\n",
              "    <tr style=\"text-align: right;\">\n",
              "      <th></th>\n",
              "      <th>clientId</th>\n",
              "      <th>clientIncome</th>\n",
              "      <th>clientAge</th>\n",
              "      <th>clientTimeAtEmployer</th>\n",
              "      <th>loanNumber</th>\n",
              "      <th>loanAmount</th>\n",
              "      <th>interestRate</th>\n",
              "      <th>loanTerm</th>\n",
              "      <th>max_amount_taken</th>\n",
              "      <th>max_tenor_taken</th>\n",
              "      <th>settleDays</th>\n",
              "      <th>firstPaymentRatio</th>\n",
              "      <th>firstPaymentDefault</th>\n",
              "      <th>loanDefault</th>\n",
              "    </tr>\n",
              "    <tr>\n",
              "      <th>clientMaritalStatus</th>\n",
              "      <th></th>\n",
              "      <th></th>\n",
              "      <th></th>\n",
              "      <th></th>\n",
              "      <th></th>\n",
              "      <th></th>\n",
              "      <th></th>\n",
              "      <th></th>\n",
              "      <th></th>\n",
              "      <th></th>\n",
              "      <th></th>\n",
              "      <th></th>\n",
              "      <th></th>\n",
              "      <th></th>\n",
              "    </tr>\n",
              "  </thead>\n",
              "  <tbody>\n",
              "    <tr>\n",
              "      <th>Divorced</th>\n",
              "      <td>3.661157e+08</td>\n",
              "      <td>105000.000000</td>\n",
              "      <td>45.000000</td>\n",
              "      <td>23.000000</td>\n",
              "      <td>3.000000</td>\n",
              "      <td>27333.333333</td>\n",
              "      <td>15.833333</td>\n",
              "      <td>70.000000</td>\n",
              "      <td>1.000000</td>\n",
              "      <td>1.000000</td>\n",
              "      <td>7.000000</td>\n",
              "      <td>0.000000</td>\n",
              "      <td>0.333333</td>\n",
              "      <td>0.333333</td>\n",
              "    </tr>\n",
              "    <tr>\n",
              "      <th>Married</th>\n",
              "      <td>4.972362e+08</td>\n",
              "      <td>104808.194552</td>\n",
              "      <td>37.250772</td>\n",
              "      <td>16.886225</td>\n",
              "      <td>3.409243</td>\n",
              "      <td>38431.636878</td>\n",
              "      <td>12.746401</td>\n",
              "      <td>87.531348</td>\n",
              "      <td>0.725378</td>\n",
              "      <td>0.916004</td>\n",
              "      <td>35.648388</td>\n",
              "      <td>0.096114</td>\n",
              "      <td>0.280634</td>\n",
              "      <td>0.366362</td>\n",
              "    </tr>\n",
              "    <tr>\n",
              "      <th>Null</th>\n",
              "      <td>2.677951e+08</td>\n",
              "      <td>53739.845000</td>\n",
              "      <td>30.333333</td>\n",
              "      <td>11.500000</td>\n",
              "      <td>2.166667</td>\n",
              "      <td>26166.666667</td>\n",
              "      <td>15.000000</td>\n",
              "      <td>65.000000</td>\n",
              "      <td>0.500000</td>\n",
              "      <td>1.000000</td>\n",
              "      <td>10.333333</td>\n",
              "      <td>0.000000</td>\n",
              "      <td>0.333333</td>\n",
              "      <td>0.333333</td>\n",
              "    </tr>\n",
              "    <tr>\n",
              "      <th>Separated</th>\n",
              "      <td>5.228936e+08</td>\n",
              "      <td>99205.775671</td>\n",
              "      <td>39.289694</td>\n",
              "      <td>15.543554</td>\n",
              "      <td>3.597772</td>\n",
              "      <td>38833.983287</td>\n",
              "      <td>12.808053</td>\n",
              "      <td>87.576602</td>\n",
              "      <td>0.738162</td>\n",
              "      <td>0.920334</td>\n",
              "      <td>33.675209</td>\n",
              "      <td>0.083464</td>\n",
              "      <td>0.270195</td>\n",
              "      <td>0.344847</td>\n",
              "    </tr>\n",
              "    <tr>\n",
              "      <th>Single</th>\n",
              "      <td>4.983401e+08</td>\n",
              "      <td>73834.545901</td>\n",
              "      <td>29.182060</td>\n",
              "      <td>14.915928</td>\n",
              "      <td>3.734827</td>\n",
              "      <td>31461.617690</td>\n",
              "      <td>14.051537</td>\n",
              "      <td>82.754025</td>\n",
              "      <td>0.680063</td>\n",
              "      <td>0.914673</td>\n",
              "      <td>40.512072</td>\n",
              "      <td>0.100821</td>\n",
              "      <td>0.311445</td>\n",
              "      <td>0.372430</td>\n",
              "    </tr>\n",
              "    <tr>\n",
              "      <th>Widowed</th>\n",
              "      <td>4.973961e+08</td>\n",
              "      <td>95494.077764</td>\n",
              "      <td>41.680511</td>\n",
              "      <td>15.137931</td>\n",
              "      <td>3.395101</td>\n",
              "      <td>39321.086262</td>\n",
              "      <td>12.818646</td>\n",
              "      <td>86.006390</td>\n",
              "      <td>0.728435</td>\n",
              "      <td>0.900958</td>\n",
              "      <td>31.734824</td>\n",
              "      <td>0.082586</td>\n",
              "      <td>0.275825</td>\n",
              "      <td>0.357827</td>\n",
              "    </tr>\n",
              "  </tbody>\n",
              "</table>\n",
              "</div>"
            ],
            "text/plain": [
              "                         clientId   clientIncome  clientAge  \\\n",
              "clientMaritalStatus                                           \n",
              "Divorced             3.661157e+08  105000.000000  45.000000   \n",
              "Married              4.972362e+08  104808.194552  37.250772   \n",
              "Null                 2.677951e+08   53739.845000  30.333333   \n",
              "Separated            5.228936e+08   99205.775671  39.289694   \n",
              "Single               4.983401e+08   73834.545901  29.182060   \n",
              "Widowed              4.973961e+08   95494.077764  41.680511   \n",
              "\n",
              "                     clientTimeAtEmployer  loanNumber    loanAmount  \\\n",
              "clientMaritalStatus                                                   \n",
              "Divorced                        23.000000    3.000000  27333.333333   \n",
              "Married                         16.886225    3.409243  38431.636878   \n",
              "Null                            11.500000    2.166667  26166.666667   \n",
              "Separated                       15.543554    3.597772  38833.983287   \n",
              "Single                          14.915928    3.734827  31461.617690   \n",
              "Widowed                         15.137931    3.395101  39321.086262   \n",
              "\n",
              "                     interestRate   loanTerm  max_amount_taken  \\\n",
              "clientMaritalStatus                                              \n",
              "Divorced                15.833333  70.000000          1.000000   \n",
              "Married                 12.746401  87.531348          0.725378   \n",
              "Null                    15.000000  65.000000          0.500000   \n",
              "Separated               12.808053  87.576602          0.738162   \n",
              "Single                  14.051537  82.754025          0.680063   \n",
              "Widowed                 12.818646  86.006390          0.728435   \n",
              "\n",
              "                     max_tenor_taken  settleDays  firstPaymentRatio  \\\n",
              "clientMaritalStatus                                                   \n",
              "Divorced                    1.000000    7.000000           0.000000   \n",
              "Married                     0.916004   35.648388           0.096114   \n",
              "Null                        1.000000   10.333333           0.000000   \n",
              "Separated                   0.920334   33.675209           0.083464   \n",
              "Single                      0.914673   40.512072           0.100821   \n",
              "Widowed                     0.900958   31.734824           0.082586   \n",
              "\n",
              "                     firstPaymentDefault  loanDefault  \n",
              "clientMaritalStatus                                    \n",
              "Divorced                        0.333333     0.333333  \n",
              "Married                         0.280634     0.366362  \n",
              "Null                            0.333333     0.333333  \n",
              "Separated                       0.270195     0.344847  \n",
              "Single                          0.311445     0.372430  \n",
              "Widowed                         0.275825     0.357827  "
            ]
          },
          "metadata": {
            "tags": []
          },
          "execution_count": 9
        }
      ]
    },
    {
      "metadata": {
        "id": "7fGOyFrbWu05",
        "colab_type": "code",
        "outputId": "7fa2e20d-0c55-43b8-a63b-765556579e66",
        "colab": {
          "base_uri": "https://localhost:8080/",
          "height": 255
        }
      },
      "cell_type": "code",
      "source": [
        "data.groupby('clientLoanPurpose').mean()"
      ],
      "execution_count": 0,
      "outputs": [
        {
          "output_type": "execute_result",
          "data": {
            "text/html": [
              "<div>\n",
              "<style scoped>\n",
              "    .dataframe tbody tr th:only-of-type {\n",
              "        vertical-align: middle;\n",
              "    }\n",
              "\n",
              "    .dataframe tbody tr th {\n",
              "        vertical-align: top;\n",
              "    }\n",
              "\n",
              "    .dataframe thead th {\n",
              "        text-align: right;\n",
              "    }\n",
              "</style>\n",
              "<table border=\"1\" class=\"dataframe\">\n",
              "  <thead>\n",
              "    <tr style=\"text-align: right;\">\n",
              "      <th></th>\n",
              "      <th>clientId</th>\n",
              "      <th>clientIncome</th>\n",
              "      <th>clientAge</th>\n",
              "      <th>loanNumber</th>\n",
              "      <th>loanAmount</th>\n",
              "      <th>interestRate</th>\n",
              "      <th>loanTerm</th>\n",
              "      <th>max_amount_taken</th>\n",
              "      <th>max_tenor_taken</th>\n",
              "      <th>settleDays</th>\n",
              "      <th>firstPaymentRatio</th>\n",
              "      <th>firstPaymentDefault</th>\n",
              "      <th>loanDefault</th>\n",
              "    </tr>\n",
              "    <tr>\n",
              "      <th>clientLoanPurpose</th>\n",
              "      <th></th>\n",
              "      <th></th>\n",
              "      <th></th>\n",
              "      <th></th>\n",
              "      <th></th>\n",
              "      <th></th>\n",
              "      <th></th>\n",
              "      <th></th>\n",
              "      <th></th>\n",
              "      <th></th>\n",
              "      <th></th>\n",
              "      <th></th>\n",
              "      <th></th>\n",
              "    </tr>\n",
              "  </thead>\n",
              "  <tbody>\n",
              "    <tr>\n",
              "      <th>business</th>\n",
              "      <td>4.988771e+08</td>\n",
              "      <td>94393.284947</td>\n",
              "      <td>33.554827</td>\n",
              "      <td>3.403794</td>\n",
              "      <td>35908.142980</td>\n",
              "      <td>13.422613</td>\n",
              "      <td>86.357121</td>\n",
              "      <td>0.773210</td>\n",
              "      <td>0.939931</td>\n",
              "      <td>39.917950</td>\n",
              "      <td>0.121397</td>\n",
              "      <td>0.326859</td>\n",
              "      <td>0.397045</td>\n",
              "    </tr>\n",
              "    <tr>\n",
              "      <th>education</th>\n",
              "      <td>4.952692e+08</td>\n",
              "      <td>81046.734165</td>\n",
              "      <td>35.067357</td>\n",
              "      <td>3.488149</td>\n",
              "      <td>35956.503781</td>\n",
              "      <td>13.085713</td>\n",
              "      <td>85.672619</td>\n",
              "      <td>0.672047</td>\n",
              "      <td>0.910593</td>\n",
              "      <td>26.318485</td>\n",
              "      <td>0.072444</td>\n",
              "      <td>0.265235</td>\n",
              "      <td>0.342886</td>\n",
              "    </tr>\n",
              "    <tr>\n",
              "      <th>house</th>\n",
              "      <td>4.943528e+08</td>\n",
              "      <td>88297.531062</td>\n",
              "      <td>34.267896</td>\n",
              "      <td>3.763804</td>\n",
              "      <td>36109.015288</td>\n",
              "      <td>12.966078</td>\n",
              "      <td>86.142086</td>\n",
              "      <td>0.624236</td>\n",
              "      <td>0.883363</td>\n",
              "      <td>23.179406</td>\n",
              "      <td>0.067785</td>\n",
              "      <td>0.250000</td>\n",
              "      <td>0.338579</td>\n",
              "    </tr>\n",
              "    <tr>\n",
              "      <th>medical</th>\n",
              "      <td>4.957074e+08</td>\n",
              "      <td>85407.557332</td>\n",
              "      <td>32.488863</td>\n",
              "      <td>3.472089</td>\n",
              "      <td>31531.247182</td>\n",
              "      <td>13.828390</td>\n",
              "      <td>81.767517</td>\n",
              "      <td>0.667238</td>\n",
              "      <td>0.911804</td>\n",
              "      <td>32.219587</td>\n",
              "      <td>0.096194</td>\n",
              "      <td>0.310488</td>\n",
              "      <td>0.372982</td>\n",
              "    </tr>\n",
              "    <tr>\n",
              "      <th>other</th>\n",
              "      <td>5.005846e+08</td>\n",
              "      <td>90527.093949</td>\n",
              "      <td>33.365532</td>\n",
              "      <td>3.857894</td>\n",
              "      <td>34327.026684</td>\n",
              "      <td>13.307633</td>\n",
              "      <td>83.549154</td>\n",
              "      <td>0.622298</td>\n",
              "      <td>0.880110</td>\n",
              "      <td>24.201116</td>\n",
              "      <td>0.074072</td>\n",
              "      <td>0.252678</td>\n",
              "      <td>0.330766</td>\n",
              "    </tr>\n",
              "  </tbody>\n",
              "</table>\n",
              "</div>"
            ],
            "text/plain": [
              "                       clientId  clientIncome  clientAge  loanNumber  \\\n",
              "clientLoanPurpose                                                      \n",
              "business           4.988771e+08  94393.284947  33.554827    3.403794   \n",
              "education          4.952692e+08  81046.734165  35.067357    3.488149   \n",
              "house              4.943528e+08  88297.531062  34.267896    3.763804   \n",
              "medical            4.957074e+08  85407.557332  32.488863    3.472089   \n",
              "other              5.005846e+08  90527.093949  33.365532    3.857894   \n",
              "\n",
              "                     loanAmount  interestRate   loanTerm  max_amount_taken  \\\n",
              "clientLoanPurpose                                                            \n",
              "business           35908.142980     13.422613  86.357121          0.773210   \n",
              "education          35956.503781     13.085713  85.672619          0.672047   \n",
              "house              36109.015288     12.966078  86.142086          0.624236   \n",
              "medical            31531.247182     13.828390  81.767517          0.667238   \n",
              "other              34327.026684     13.307633  83.549154          0.622298   \n",
              "\n",
              "                   max_tenor_taken  settleDays  firstPaymentRatio  \\\n",
              "clientLoanPurpose                                                   \n",
              "business                  0.939931   39.917950           0.121397   \n",
              "education                 0.910593   26.318485           0.072444   \n",
              "house                     0.883363   23.179406           0.067785   \n",
              "medical                   0.911804   32.219587           0.096194   \n",
              "other                     0.880110   24.201116           0.074072   \n",
              "\n",
              "                   firstPaymentDefault  loanDefault  \n",
              "clientLoanPurpose                                    \n",
              "business                      0.326859     0.397045  \n",
              "education                     0.265235     0.342886  \n",
              "house                         0.250000     0.338579  \n",
              "medical                       0.310488     0.372982  \n",
              "other                         0.252678     0.330766  "
            ]
          },
          "metadata": {
            "tags": []
          },
          "execution_count": 12
        }
      ]
    },
    {
      "metadata": {
        "id": "jXti2UFtXMOn",
        "colab_type": "text"
      },
      "cell_type": "markdown",
      "source": [
        "#More EDA : Visualizations"
      ]
    },
    {
      "metadata": {
        "id": "3iOH8lFaWu-Q",
        "colab_type": "code",
        "outputId": "ad78a9c1-5023-4331-bc00-dddcf2f0d3aa",
        "colab": {
          "base_uri": "https://localhost:8080/",
          "height": 345
        }
      },
      "cell_type": "code",
      "source": [
        "%matplotlib inline\n",
        "pd.crosstab(data.clientLoanPurpose,data.loanDefault).plot(kind='bar')\n",
        "plt.title('clientLoanPurpose')\n",
        "plt.xlabel('Loan purpose')\n",
        "plt.ylabel('Counts of clients')"
      ],
      "execution_count": 0,
      "outputs": [
        {
          "output_type": "execute_result",
          "data": {
            "text/plain": [
              "Text(0, 0.5, 'Counts of clients')"
            ]
          },
          "metadata": {
            "tags": []
          },
          "execution_count": 10
        },
        {
          "output_type": "display_data",
          "data": {
            "image/png": "[encoded data removed]",
            "text/plain": [
              "<Figure size 432x288 with 1 Axes>"
            ]
          },
          "metadata": {
            "tags": []
          }
        }
      ]
    },
    {
      "metadata": {
        "id": "ZA4eKu6fWu6a",
        "colab_type": "code",
        "outputId": "cece77f0-92f0-479c-d13a-98839735e365",
        "colab": {
          "base_uri": "https://localhost:8080/",
          "height": 318
        }
      },
      "cell_type": "code",
      "source": [
        "%matplotlib inline\n",
        "pd.crosstab(data.loanTerm,data.loanDefault).plot(kind='bar')\n",
        "plt.title('Loan Terms periods')\n",
        "plt.xlabel('Loan terms')\n",
        "plt.ylabel('Counts of clients')"
      ],
      "execution_count": 0,
      "outputs": [
        {
          "output_type": "execute_result",
          "data": {
            "text/plain": [
              "Text(0, 0.5, 'Counts of clients')"
            ]
          },
          "metadata": {
            "tags": []
          },
          "execution_count": 14
        },
        {
          "output_type": "display_data",
          "data": {
            "image/png": "[encoded data removed]",
            "text/plain": [
              "<Figure size 432x288 with 1 Axes>"
            ]
          },
          "metadata": {
            "tags": []
          }
        }
      ]
    },
    {
      "metadata": {
        "id": "MAxrcp4vTLOZ",
        "colab_type": "code",
        "outputId": "7894874f-1a4e-4875-e784-d5e94600a415",
        "colab": {
          "base_uri": "https://localhost:8080/",
          "height": 429
        }
      },
      "cell_type": "code",
      "source": [
        "table=pd.crosstab(data.clientMaritalStatus,data.loanDefault)\n",
        "table.div(table.sum(1).astype(float), axis=0).plot(kind='bar', stacked=True)\n",
        "plt.title('Stacked Bar Chart of Marital Status')\n",
        "plt.xlabel('Marital Status')\n",
        "plt.ylabel('Proportion of Customers')"
      ],
      "execution_count": 0,
      "outputs": [
        {
          "output_type": "execute_result",
          "data": {
            "text/plain": [
              "Text(0, 0.5, 'Proportion of Customers')"
            ]
          },
          "metadata": {
            "tags": []
          },
          "execution_count": 10
        },
        {
          "output_type": "display_data",
          "data": {
            "image/png": "[encoded data removed]",
            "text/plain": [
              "<Figure size 576x396 with 1 Axes>"
            ]
          },
          "metadata": {
            "tags": []
          }
        }
      ]
    },
    {
      "metadata": {
        "id": "RMjm5Fr29BkT",
        "colab_type": "code",
        "outputId": "90c4d9ad-714e-47fc-bbec-292175dd8cd1",
        "colab": {
          "base_uri": "https://localhost:8080/",
          "height": 423
        }
      },
      "cell_type": "code",
      "source": [
        "table=pd.crosstab(data.clientGender,data.loanDefault)\n",
        "table.div(table.sum(1).astype(float), axis=0).plot(kind='bar', stacked=True)\n",
        "plt.title('Stacked Bar Chart of gender')\n",
        "plt.xlabel('Clients gender')\n",
        "plt.ylabel('Proportion of Customers')"
      ],
      "execution_count": 0,
      "outputs": [
        {
          "output_type": "execute_result",
          "data": {
            "text/plain": [
              "Text(0, 0.5, 'Proportion of Customers')"
            ]
          },
          "metadata": {
            "tags": []
          },
          "execution_count": 11
        },
        {
          "output_type": "display_data",
          "data": {
            "image/png": "[encoded data removed]",
            "text/plain": [
              "<Figure size 576x396 with 1 Axes>"
            ]
          },
          "metadata": {
            "tags": []
          }
        }
      ]
    },
    {
      "metadata": {
        "id": "-aDJgtyW9Bgs",
        "colab_type": "code",
        "outputId": "e3d86251-d81e-439f-e464-373e120bff78",
        "colab": {
          "base_uri": "https://localhost:8080/",
          "height": 426
        }
      },
      "cell_type": "code",
      "source": [
        "table=pd.crosstab(data.clientLoanPurpose,data.loanDefault)\n",
        "table.div(table.sum(1).astype(float), axis=0).plot(kind='bar', stacked=True)\n",
        "plt.title('Stacked Bar Chart of Loan purpose')\n",
        "plt.xlabel('Loan Purpose')\n",
        "plt.ylabel('Proportion of Customers')"
      ],
      "execution_count": 0,
      "outputs": [
        {
          "output_type": "execute_result",
          "data": {
            "text/plain": [
              "Text(0, 0.5, 'Proportion of Customers')"
            ]
          },
          "metadata": {
            "tags": []
          },
          "execution_count": 12
        },
        {
          "output_type": "display_data",
          "data": {
            "image/png": "[encoded data removed]",
            "text/plain": [
              "<Figure size 576x396 with 1 Axes>"
            ]
          },
          "metadata": {
            "tags": []
          }
        }
      ]
    },
    {
      "metadata": {
        "id": "4PZySTj0ShIj",
        "colab_type": "code",
        "outputId": "9814cd0d-6a33-4043-e484-8fa58894d92a",
        "colab": {
          "base_uri": "https://localhost:8080/",
          "height": 376
        }
      },
      "cell_type": "code",
      "source": [
        "classes = data.groupby('loanDefault')\n",
        "data_mean = classes['clientIncome'].mean().reset_index()\n",
        "sns.barplot(x='loanDefault', y='clientIncome', data=data_mean)\n",
        "plt.title('Mean Income grouped according to Classes');"
      ],
      "execution_count": 0,
      "outputs": [
        {
          "output_type": "display_data",
          "data": {
            "image/png": "[encoded data removed]",
            "text/plain": [
              "<Figure size 576x396 with 1 Axes>"
            ]
          },
          "metadata": {
            "tags": []
          }
        }
      ]
    },
    {
      "metadata": {
        "id": "dFPiWraMTw5S",
        "colab_type": "code",
        "outputId": "2e5359cf-b74c-4fd9-ab37-0f9665da582b",
        "colab": {
          "base_uri": "https://localhost:8080/",
          "height": 393
        }
      },
      "cell_type": "code",
      "source": [
        "classes = data.groupby('loanDefault')\n",
        "data_mean = classes['clientIncome'].max().reset_index()\n",
        "sns.barplot(x='loanDefault', y='clientIncome', data=data_mean)\n",
        "plt.title('Maximum Income grouped according to Classes')"
      ],
      "execution_count": 0,
      "outputs": [
        {
          "output_type": "execute_result",
          "data": {
            "text/plain": [
              "Text(0.5, 1.0, 'Maximum Income grouped according to Classes')"
            ]
          },
          "metadata": {
            "tags": []
          },
          "execution_count": 14
        },
        {
          "output_type": "display_data",
          "data": {
            "image/png": "[encoded data removed]",
            "text/plain": [
              "<Figure size 576x396 with 1 Axes>"
            ]
          },
          "metadata": {
            "tags": []
          }
        }
      ]
    },
    {
      "metadata": {
        "id": "R4JF_Pa1-e8S",
        "colab_type": "code",
        "outputId": "6ded29e4-9813-40ce-d895-109251cf7ec7",
        "colab": {
          "base_uri": "https://localhost:8080/",
          "height": 393
        }
      },
      "cell_type": "code",
      "source": [
        "data.clientAge.hist()\n",
        "plt.title('Histogram of Age')\n",
        "plt.xlabel('Age')\n",
        "plt.ylabel('Frequency')"
      ],
      "execution_count": 0,
      "outputs": [
        {
          "output_type": "execute_result",
          "data": {
            "text/plain": [
              "Text(0, 0.5, 'Frequency')"
            ]
          },
          "metadata": {
            "tags": []
          },
          "execution_count": 15
        },
        {
          "output_type": "display_data",
          "data": {
            "image/png": "[encoded data removed]",
            "text/plain": [
              "<Figure size 576x396 with 1 Axes>"
            ]
          },
          "metadata": {
            "tags": []
          }
        }
      ]
    },
    {
      "metadata": {
        "id": "jVDl-I3w-x_K",
        "colab_type": "text"
      },
      "cell_type": "markdown",
      "source": [
        "most clients are in the 30-40 age range"
      ]
    },
    {
      "metadata": {
        "id": "mGS7cy6A_GHF",
        "colab_type": "text"
      },
      "cell_type": "markdown",
      "source": [
        "#One hot encoding. Let's create the dummy variables"
      ]
    },
    {
      "metadata": {
        "id": "eynu1vpX-QMZ",
        "colab_type": "code",
        "outputId": "37dc71be-f4aa-4978-f625-d9870262e50a",
        "colab": {
          "base_uri": "https://localhost:8080/",
          "height": 68
        }
      },
      "cell_type": "code",
      "source": [
        "def encode_string(cat_features):\n",
        "    ## First encode the strings to numeric categories\n",
        "    enc = preprocessing.LabelEncoder()\n",
        "    enc.fit(cat_features)\n",
        "    enc_cat_features = enc.transform(cat_features)\n",
        "    \n",
        "    ## Now, apply one hot encoding\n",
        "    ohe = preprocessing.OneHotEncoder()\n",
        "    encoded = ohe.fit(enc_cat_features.reshape(-1,1))\n",
        "    return encoded.transform(enc_cat_features.reshape(-1,1)).toarray()\n",
        "\n",
        "categorical_columns = ['clientGender','clientMaritalStatus',\n",
        "                       'clientResidentialStauts']\n",
        "\n",
        "Features = encode_string(data['clientLoanPurpose'])\n",
        "for col in categorical_columns:\n",
        "    temp = encode_string(data[col])\n",
        "    Features = np.concatenate([Features, temp], axis = 1)\n",
        "\n",
        "print(Features.shape)\n",
        "print(Features[:2, :])    "
      ],
      "execution_count": 0,
      "outputs": [
        {
          "output_type": "stream",
          "text": [
            "(159596, 19)\n",
            "[[0. 0. 1. 0. 0. 1. 0. 0. 0. 0. 0. 1. 0. 0. 0. 0. 1. 0. 0.]\n",
            " [0. 1. 0. 0. 0. 1. 0. 0. 1. 0. 0. 0. 0. 0. 0. 0. 1. 0. 0.]]\n"
          ],
          "name": "stdout"
        }
      ]
    },
    {
      "metadata": {
        "id": "1D-otZmyo9du",
        "colab_type": "text"
      },
      "cell_type": "markdown",
      "source": [
        "** Next the numeric features must be concatenated to the numpy array by executing the code in the cell below.**\n",
        "\n",
        "The numeric features are listed below in the list dataframe\n"
      ]
    },
    {
      "metadata": {
        "id": "fMcjOu1DmNtN",
        "colab_type": "code",
        "colab": {}
      },
      "cell_type": "code",
      "source": [
        "list1= data[['clientIncome', 'clientAge','clientNumberPhoneContacts','loanNumber','clientAvgCallsPerDay','loanAmount', 'interestRate','loanTerm',\n",
        "                            'max_amount_taken', 'max_tenor_taken','settleDays','firstPaymentRatio','firstPaymentDefault', 'clientTimeAtEmployer']]\n",
        "\n",
        "lists = list1.replace('Null',0)\n",
        "lists.fillna(0,inplace=True)\n"
      ],
      "execution_count": 0,
      "outputs": []
    },
    {
      "metadata": {
        "id": "nsDldaGsa0Cg",
        "colab_type": "text"
      },
      "cell_type": "markdown",
      "source": [
        "some columns were observed to contain \"Null\" as their values. A box plot is plotted for the numerical  features to get a good picture of the distribution of data. The 'Null' value will be replaced with the median value of the column. The Null values were converted to zero first, before being replaced with the median values.The mean was not used because outliers were observed in some columns and it will affect the computed values as seen in the plot below."
      ]
    },
    {
      "metadata": {
        "id": "Pn75Qhsmdv-m",
        "colab_type": "code",
        "outputId": "8a2b5fa9-09f0-439d-ffb3-060de42dfb54",
        "colab": {
          "base_uri": "https://localhost:8080/",
          "height": 71
        }
      },
      "cell_type": "code",
      "source": [
        "from sklearn.preprocessing import Imputer\n",
        "imp = Imputer(missing_values= 0, strategy='median', axis=1)\n",
        "lists= imp.fit_transform(lists)\n",
        "\n",
        "#This will look for all columns where we have 0 value and replace the 0 value with the median."
      ],
      "execution_count": 0,
      "outputs": [
        {
          "output_type": "stream",
          "text": [
            "/usr/local/lib/python3.6/dist-packages/sklearn/utils/deprecation.py:58: DeprecationWarning: Class Imputer is deprecated; Imputer was deprecated in version 0.20 and will be removed in 0.22. Import impute.SimpleImputer from sklearn instead.\n",
            "  warnings.warn(msg, category=DeprecationWarning)\n"
          ],
          "name": "stderr"
        }
      ]
    },
    {
      "metadata": {
        "id": "nWB-6Sp4XE7d",
        "colab_type": "code",
        "outputId": "fd8a34f3-d3a5-4a77-a57b-a4147232c69f",
        "colab": {
          "base_uri": "https://localhost:8080/",
          "height": 663
        }
      },
      "cell_type": "code",
      "source": [
        "plt.figure(figsize=(20,10))\n",
        "sns.boxplot(list1)"
      ],
      "execution_count": 0,
      "outputs": [
        {
          "output_type": "stream",
          "text": [
            "/usr/local/lib/python3.6/dist-packages/seaborn/categorical.py:2171: UserWarning: The boxplot API has been changed. Attempting to adjust your arguments for the new API (which might not work). Please update your code. See the version 0.6 release notes for more info.\n",
            "  warnings.warn(msg, UserWarning)\n"
          ],
          "name": "stderr"
        },
        {
          "output_type": "execute_result",
          "data": {
            "text/plain": [
              "<matplotlib.axes._subplots.AxesSubplot at 0x7fbec8d8c4a8>"
            ]
          },
          "metadata": {
            "tags": []
          },
          "execution_count": 15
        },
        {
          "output_type": "display_data",
          "data": {
            "image/png": "[encoded data removed]",
            "text/plain": [
              "<Figure size 1440x720 with 1 Axes>"
            ]
          },
          "metadata": {
            "tags": []
          }
        }
      ]
    },
    {
      "metadata": {
        "id": "WQjo-E61oeUt",
        "colab_type": "code",
        "outputId": "0235ac92-aa3e-453d-af51-08ed9440f852",
        "colab": {
          "base_uri": "https://localhost:8080/",
          "height": 340
        }
      },
      "cell_type": "code",
      "source": [
        "x1 = np.concatenate([Features, np.array(lists)], axis = 1)\n",
        "print(x1.shape)\n",
        "print(x1[:2, :])  "
      ],
      "execution_count": 0,
      "outputs": [
        {
          "output_type": "stream",
          "text": [
            "(159596, 33)\n",
            "[[0.00000000e+00 0.00000000e+00 1.00000000e+00 0.00000000e+00\n",
            "  0.00000000e+00 1.00000000e+00 0.00000000e+00 0.00000000e+00\n",
            "  0.00000000e+00 0.00000000e+00 0.00000000e+00 1.00000000e+00\n",
            "  0.00000000e+00 0.00000000e+00 0.00000000e+00 0.00000000e+00\n",
            "  1.00000000e+00 0.00000000e+00 0.00000000e+00 3.50000000e+04\n",
            "  2.80000000e+01 1.91700000e+03 4.00000000e+00 2.59357403e-01\n",
            "  3.75000000e+04 1.25000000e+01 9.00000000e+01 1.00000000e+00\n",
            "  1.00000000e+00 1.00000000e+00 1.25000000e+01 1.25000000e+01\n",
            "  1.25000000e+01]\n",
            " [0.00000000e+00 1.00000000e+00 0.00000000e+00 0.00000000e+00\n",
            "  0.00000000e+00 1.00000000e+00 0.00000000e+00 0.00000000e+00\n",
            "  1.00000000e+00 0.00000000e+00 0.00000000e+00 0.00000000e+00\n",
            "  0.00000000e+00 0.00000000e+00 0.00000000e+00 0.00000000e+00\n",
            "  1.00000000e+00 0.00000000e+00 0.00000000e+00 7.08333300e+04\n",
            "  4.10000000e+01 5.67800000e+03 8.00000000e+00 2.96338843e+02\n",
            "  8.45000000e+04 7.50000000e+00 1.80000000e+02 1.10500000e+02\n",
            "  1.00000000e+00 1.00000000e+00 1.10500000e+02 1.10500000e+02\n",
            "  1.10500000e+02]]\n"
          ],
          "name": "stdout"
        }
      ]
    },
    {
      "metadata": {
        "id": "JCIkeC9Vr90O",
        "colab_type": "code",
        "colab": {}
      },
      "cell_type": "code",
      "source": [
        "y1 = np.array(data['loanDefault'])"
      ],
      "execution_count": 0,
      "outputs": []
    },
    {
      "metadata": {
        "id": "RtXvK0iATgHY",
        "colab_type": "text"
      },
      "cell_type": "markdown",
      "source": [
        "** Let's balance the classes: Over-sampling technique  using SMOTE from the imbalance learn python library**\n",
        "\n",
        "first, we split our data into training and test sets"
      ]
    },
    {
      "metadata": {
        "id": "3UR95Lwwp6lO",
        "colab_type": "code",
        "outputId": "1e97095f-30fe-467c-faae-883d9d859a68",
        "colab": {
          "base_uri": "https://localhost:8080/",
          "height": 85
        }
      },
      "cell_type": "code",
      "source": [
        "from sklearn.model_selection import train_test_split\n",
        "x1_train, x_test, y1_train, y_test = train_test_split(x1, y1, test_size=0.3, random_state=42)\n",
        "print('Training Features Shape:', x1_train.shape)\n",
        "print('Training Labels Shape:', y1_train.shape)\n",
        "print('Testing Features Shape:', x_test.shape)\n",
        "print('Testing Labels Shape:', y_test.shape)"
      ],
      "execution_count": 0,
      "outputs": [
        {
          "output_type": "stream",
          "text": [
            "Training Features Shape: (111717, 33)\n",
            "Training Labels Shape: (111717,)\n",
            "Testing Features Shape: (47879, 33)\n",
            "Testing Labels Shape: (47879,)\n"
          ],
          "name": "stdout"
        }
      ]
    },
    {
      "metadata": {
        "id": "QzvuEt3HUqTP",
        "colab_type": "text"
      },
      "cell_type": "markdown",
      "source": [
        "We apply the over-sampling technique to only the training set"
      ]
    },
    {
      "metadata": {
        "id": "8JvWvWN7r9we",
        "colab_type": "code",
        "outputId": "215e8a5c-bfa9-490b-e214-4b4e76a65ce9",
        "colab": {
          "base_uri": "https://localhost:8080/",
          "height": 85
        }
      },
      "cell_type": "code",
      "source": [
        "import imblearn\n",
        "from imblearn.over_sampling import SMOTE\n",
        "\n",
        "smote = SMOTE(ratio='minority')\n",
        "x_train, y_train = smote.fit_sample(x1_train, y1_train)\n",
        "print('Training Features Balanced Shape:', x_train.shape)\n",
        "print('Training Labels Balanced Shape:', y_train.shape)\n",
        "print('Testing Features Balanced Shape:', x_test.shape)\n",
        "print('Testing Labels Balanced Shape:', y_test.shape)\n"
      ],
      "execution_count": 0,
      "outputs": [
        {
          "output_type": "stream",
          "text": [
            "Training Features Balanced Shape: (140858, 33)\n",
            "Training Labels Balanced Shape: (140858,)\n",
            "Testing Features Balanced Shape: (47879, 33)\n",
            "Testing Labels Balanced Shape: (47879,)\n"
          ],
          "name": "stdout"
        }
      ]
    },
    {
      "metadata": {
        "id": "ahFC6vv4hoHn",
        "colab_type": "text"
      },
      "cell_type": "markdown",
      "source": [
        "#Feature selection with PCA\n",
        "\n",
        "I performed some feature selection with PCA but noticed that my accuracy score was lower, hence i decided to use all features. It seems most of the features are important to our target variable prediction.with principal components= 5, i got accuracy of 0.64, principal component = 11, accuracy is 0.66, while with all features, accuracy is 0.74. Below are the codes i used for the PCA .\n",
        "\n",
        "from sklearn.decomposition import PCA\n",
        "\n",
        "-create pca\n",
        "\n",
        "pca = PCA(n_components=11)\n",
        "\n",
        "-fit the data to the model\n",
        "\n",
        "principalComponents = pca.fit_transform(x1)\n",
        "\n",
        "-create dataframe containing principal components\n",
        "\n",
        "x = pd.DataFrame(data = principalComponents)"
      ]
    },
    {
      "metadata": {
        "id": "abo4kVQKWs8c",
        "colab_type": "text"
      },
      "cell_type": "markdown",
      "source": [
        "**Lets scale our data :**  We use the StandardScaler function from the Scikit Learn preprocessing package to Zscore scale the numeric features. The scaler is fit only on the training data. The trained scaler is then applied to the test data. Test data should always be scaled using the parameters from the training data."
      ]
    },
    {
      "metadata": {
        "id": "Ur5H5ZDgq-s9",
        "colab_type": "code",
        "colab": {}
      },
      "cell_type": "code",
      "source": [
        "from sklearn.preprocessing import StandardScaler\n",
        "sc_X = StandardScaler()\n",
        "x_train = sc_X.fit_transform(x_train)\n",
        "x_test = sc_X.transform(x_test)\n"
      ],
      "execution_count": 0,
      "outputs": []
    },
    {
      "metadata": {
        "id": "9rW2ow4eXODL",
        "colab_type": "text"
      },
      "cell_type": "markdown",
      "source": [
        "#Let's implement our model : Deep Learning with Keras"
      ]
    },
    {
      "metadata": {
        "id": "6AtIakP1-cH7",
        "colab_type": "code",
        "outputId": "08cf8b0a-745d-438d-9b82-99748a199ee4",
        "colab": {
          "base_uri": "https://localhost:8080/",
          "height": 1703
        }
      },
      "cell_type": "code",
      "source": [
        "import keras\n",
        "from keras.models import Sequential\n",
        "from keras.layers import Dense, Dropout\n",
        "\n",
        "# Initialising the ANN\n",
        "model = Sequential()\n",
        "\n",
        "# Adding the input layer and the first hidden layer\n",
        "model.add(Dense(output_dim=30, init='uniform', activation='relu', input_dim=33))\n",
        "# Adding dropout to prevent overfitting\n",
        "model.add(Dropout(p=0.2))\n",
        "\n",
        "# Adding the second hidden layer\n",
        "model.add(Dense(output_dim=10, init='uniform', activation='relu'))\n",
        "# Adding dropout to prevent overfitting\n",
        "model.add(Dropout(p=0.2))\n",
        "\n",
        "# Adding the third hidden layer\n",
        "model.add(Dense(output_dim=20, init='uniform', activation='relu'))\n",
        "# Adding dropout to prevent overfitting\n",
        "model.add(Dropout(p=0.2))\n",
        "\n",
        "# Adding the fourth hidden layer\n",
        "model.add(Dense(output_dim=16, init='uniform', activation='relu'))\n",
        "# Adding dropout to prevent overfitting\n",
        "model.add(Dropout(p=0.2))\n",
        "\n",
        "# Adding the output layer\n",
        "model.add(Dense(output_dim=1, init='uniform', activation='sigmoid'))\n",
        "\n",
        "# Compiling the ANN\n",
        "model.compile(optimizer='adam', loss='binary_crossentropy', metrics=['accuracy'])\n",
        "\n",
        "# Fitting the ANN to the Training set\n",
        "model.fit(x_train, y_train, batch_size=40, nb_epoch=40)\n"
      ],
      "execution_count": 0,
      "outputs": [
        {
          "output_type": "stream",
          "text": [
            "/usr/local/lib/python3.6/dist-packages/ipykernel_launcher.py:9: UserWarning: Update your `Dense` call to the Keras 2 API: `Dense(activation=\"relu\", input_dim=33, units=30, kernel_initializer=\"uniform\")`\n",
            "  if __name__ == '__main__':\n",
            "/usr/local/lib/python3.6/dist-packages/ipykernel_launcher.py:11: UserWarning: Update your `Dropout` call to the Keras 2 API: `Dropout(rate=0.2)`\n",
            "  # This is added back by InteractiveShellApp.init_path()\n",
            "/usr/local/lib/python3.6/dist-packages/ipykernel_launcher.py:14: UserWarning: Update your `Dense` call to the Keras 2 API: `Dense(activation=\"relu\", units=10, kernel_initializer=\"uniform\")`\n",
            "  \n",
            "/usr/local/lib/python3.6/dist-packages/ipykernel_launcher.py:16: UserWarning: Update your `Dropout` call to the Keras 2 API: `Dropout(rate=0.2)`\n",
            "  app.launch_new_instance()\n",
            "/usr/local/lib/python3.6/dist-packages/ipykernel_launcher.py:19: UserWarning: Update your `Dense` call to the Keras 2 API: `Dense(activation=\"relu\", units=20, kernel_initializer=\"uniform\")`\n",
            "/usr/local/lib/python3.6/dist-packages/ipykernel_launcher.py:21: UserWarning: Update your `Dropout` call to the Keras 2 API: `Dropout(rate=0.2)`\n",
            "/usr/local/lib/python3.6/dist-packages/ipykernel_launcher.py:24: UserWarning: Update your `Dense` call to the Keras 2 API: `Dense(activation=\"relu\", units=16, kernel_initializer=\"uniform\")`\n",
            "/usr/local/lib/python3.6/dist-packages/ipykernel_launcher.py:26: UserWarning: Update your `Dropout` call to the Keras 2 API: `Dropout(rate=0.2)`\n",
            "/usr/local/lib/python3.6/dist-packages/ipykernel_launcher.py:29: UserWarning: Update your `Dense` call to the Keras 2 API: `Dense(activation=\"sigmoid\", units=1, kernel_initializer=\"uniform\")`\n"
          ],
          "name": "stderr"
        },
        {
          "output_type": "stream",
          "text": [
            "WARNING:tensorflow:From /usr/local/lib/python3.6/dist-packages/tensorflow/python/ops/math_ops.py:3066: to_int32 (from tensorflow.python.ops.math_ops) is deprecated and will be removed in a future version.\n",
            "Instructions for updating:\n",
            "Use tf.cast instead.\n"
          ],
          "name": "stdout"
        },
        {
          "output_type": "stream",
          "text": [
            "/usr/local/lib/python3.6/dist-packages/ipykernel_launcher.py:35: UserWarning: The `nb_epoch` argument in `fit` has been renamed `epochs`.\n"
          ],
          "name": "stderr"
        },
        {
          "output_type": "stream",
          "text": [
            "Epoch 1/40\n",
            "140858/140858 [==============================] - 23s 166us/step - loss: 0.5524 - acc: 0.6861\n",
            "Epoch 2/40\n",
            "140858/140858 [==============================] - 21s 146us/step - loss: 0.5295 - acc: 0.7124\n",
            "Epoch 3/40\n",
            "140858/140858 [==============================] - 21s 146us/step - loss: 0.5160 - acc: 0.7234\n",
            "Epoch 4/40\n",
            "140858/140858 [==============================] - 21s 146us/step - loss: 0.5069 - acc: 0.7298\n",
            "Epoch 5/40\n",
            "140858/140858 [==============================] - 21s 146us/step - loss: 0.5011 - acc: 0.7355\n",
            "Epoch 6/40\n",
            "140858/140858 [==============================] - 21s 146us/step - loss: 0.4969 - acc: 0.7391\n",
            "Epoch 7/40\n",
            "140858/140858 [==============================] - 21s 146us/step - loss: 0.4956 - acc: 0.7380\n",
            "Epoch 8/40\n",
            "140858/140858 [==============================] - 20s 145us/step - loss: 0.4928 - acc: 0.7412\n",
            "Epoch 9/40\n",
            "140858/140858 [==============================] - 22s 154us/step - loss: 0.4916 - acc: 0.7423\n",
            "Epoch 10/40\n",
            "140858/140858 [==============================] - 21s 146us/step - loss: 0.4900 - acc: 0.7458\n",
            "Epoch 11/40\n",
            "140858/140858 [==============================] - 21s 146us/step - loss: 0.4881 - acc: 0.7462\n",
            "Epoch 12/40\n",
            "140858/140858 [==============================] - 21s 147us/step - loss: 0.4872 - acc: 0.7468\n",
            "Epoch 13/40\n",
            "140858/140858 [==============================] - 21s 150us/step - loss: 0.4850 - acc: 0.7482\n",
            "Epoch 14/40\n",
            "140858/140858 [==============================] - 21s 146us/step - loss: 0.4842 - acc: 0.7491\n",
            "Epoch 15/40\n",
            "140858/140858 [==============================] - 21s 147us/step - loss: 0.4839 - acc: 0.7489\n",
            "Epoch 16/40\n",
            "140858/140858 [==============================] - 21s 146us/step - loss: 0.4839 - acc: 0.7493\n",
            "Epoch 17/40\n",
            "140858/140858 [==============================] - 21s 146us/step - loss: 0.4842 - acc: 0.7470\n",
            "Epoch 18/40\n",
            "140858/140858 [==============================] - 21s 148us/step - loss: 0.4835 - acc: 0.7473\n",
            "Epoch 19/40\n",
            "140858/140858 [==============================] - 21s 147us/step - loss: 0.4828 - acc: 0.7498\n",
            "Epoch 20/40\n",
            "140858/140858 [==============================] - 21s 149us/step - loss: 0.4819 - acc: 0.7497\n",
            "Epoch 21/40\n",
            "140858/140858 [==============================] - 21s 150us/step - loss: 0.4818 - acc: 0.7505\n",
            "Epoch 22/40\n",
            "140858/140858 [==============================] - 21s 148us/step - loss: 0.4827 - acc: 0.7500\n",
            "Epoch 23/40\n",
            "140858/140858 [==============================] - 21s 148us/step - loss: 0.4816 - acc: 0.7506\n",
            "Epoch 24/40\n",
            "140858/140858 [==============================] - 22s 155us/step - loss: 0.4810 - acc: 0.7513\n",
            "Epoch 25/40\n",
            "140858/140858 [==============================] - 21s 149us/step - loss: 0.4803 - acc: 0.7512\n",
            "Epoch 26/40\n",
            "140858/140858 [==============================] - 21s 149us/step - loss: 0.4813 - acc: 0.7517\n",
            "Epoch 27/40\n",
            "140858/140858 [==============================] - 22s 153us/step - loss: 0.4798 - acc: 0.7522\n",
            "Epoch 28/40\n",
            "140858/140858 [==============================] - 21s 146us/step - loss: 0.4803 - acc: 0.7523\n",
            "Epoch 29/40\n",
            "140858/140858 [==============================] - 21s 146us/step - loss: 0.4793 - acc: 0.7527\n",
            "Epoch 30/40\n",
            "140858/140858 [==============================] - 21s 146us/step - loss: 0.4791 - acc: 0.7529\n",
            "Epoch 31/40\n",
            "140858/140858 [==============================] - 21s 147us/step - loss: 0.4790 - acc: 0.7521\n",
            "Epoch 32/40\n",
            "140858/140858 [==============================] - 21s 147us/step - loss: 0.4782 - acc: 0.7534\n",
            "Epoch 33/40\n",
            "140858/140858 [==============================] - 21s 147us/step - loss: 0.4760 - acc: 0.7558\n",
            "Epoch 34/40\n",
            "140858/140858 [==============================] - 21s 147us/step - loss: 0.4773 - acc: 0.7542\n",
            "Epoch 35/40\n",
            "140858/140858 [==============================] - 21s 147us/step - loss: 0.4766 - acc: 0.7547\n",
            "Epoch 36/40\n",
            "140858/140858 [==============================] - 21s 146us/step - loss: 0.4767 - acc: 0.7543\n",
            "Epoch 37/40\n",
            "140858/140858 [==============================] - 21s 147us/step - loss: 0.4770 - acc: 0.7538\n",
            "Epoch 38/40\n",
            "140858/140858 [==============================] - 21s 147us/step - loss: 0.4767 - acc: 0.7538\n",
            "Epoch 39/40\n",
            "140858/140858 [==============================] - 22s 154us/step - loss: 0.4754 - acc: 0.7558\n",
            "Epoch 40/40\n",
            "140858/140858 [==============================] - 21s 147us/step - loss: 0.4752 - acc: 0.7555\n"
          ],
          "name": "stdout"
        },
        {
          "output_type": "execute_result",
          "data": {
            "text/plain": [
              "<keras.callbacks.History at 0x7f1a15dc9f60>"
            ]
          },
          "metadata": {
            "tags": []
          },
          "execution_count": 23
        }
      ]
    },
    {
      "metadata": {
        "id": "_CXExDKNYsRq",
        "colab_type": "code",
        "outputId": "aca1d395-2dd3-4264-ffce-f98dfccc4bc5",
        "colab": {
          "base_uri": "https://localhost:8080/",
          "height": 347
        }
      },
      "cell_type": "code",
      "source": [
        "# Predicting the Test set results\n",
        "y_pred_k = model.predict(x_test)\n",
        "y_pred_k = (y_pred_k > 0.5)\n",
        "\n",
        "\n",
        "# Making the Confusion Matrix\n",
        "from sklearn.metrics import confusion_matrix\n",
        "cm = confusion_matrix(y_test, y_pred_k)\n",
        "sns.heatmap(cm,annot=True,fmt=\"d\")\n",
        "plt.savefig('K1.png')"
      ],
      "execution_count": 0,
      "outputs": [
        {
          "output_type": "display_data",
          "data": {
            "image/png": "[encoded data removed]",
            "text/plain": [
              "<Figure size 576x396 with 2 Axes>"
            ]
          },
          "metadata": {
            "tags": []
          }
        }
      ]
    },
    {
      "metadata": {
        "id": "hlOqbz0tgQmt",
        "colab_type": "text"
      },
      "cell_type": "markdown",
      "source": [
        "**Evaluating the Neural Network model on Test set **"
      ]
    },
    {
      "metadata": {
        "id": "SaE9nEmUdpnf",
        "colab_type": "code",
        "outputId": "693b2aef-527a-4a0b-8e32-c1308a8cfa88",
        "colab": {
          "base_uri": "https://localhost:8080/",
          "height": 204
        }
      },
      "cell_type": "code",
      "source": [
        "from sklearn.metrics import classification_report\n",
        "\n",
        "y_pred_K =model.predict(x_test)\n",
        "y_pred_K = (y_pred_K > 0.5)\n",
        "\n",
        "print(classification_report(y_test, y_pred_K))\n",
        "\n",
        "scores = model.evaluate(x_test, y_test)\n",
        "print('Accuracy of NeuralNetwork classifier on test set: ',round(scores[1],2))\n"
      ],
      "execution_count": 0,
      "outputs": [
        {
          "output_type": "stream",
          "text": [
            "              precision    recall  f1-score   support\n",
            "\n",
            "           0       0.73      0.97      0.83     30311\n",
            "           1       0.87      0.39      0.54     17568\n",
            "\n",
            "   micro avg       0.76      0.76      0.76     47879\n",
            "   macro avg       0.80      0.68      0.69     47879\n",
            "weighted avg       0.78      0.76      0.73     47879\n",
            "\n",
            "47879/47879 [==============================] - 3s 56us/step\n",
            "Accuracy of NeuralNetwork classifier on test set:  0.76\n"
          ],
          "name": "stdout"
        }
      ]
    },
    {
      "metadata": {
        "id": "CFJbOyTFgh-_",
        "colab_type": "text"
      },
      "cell_type": "markdown",
      "source": [
        "**Evaluating the Neural Network model on the training set**"
      ]
    },
    {
      "metadata": {
        "id": "Pg4t9mGMZJH2",
        "colab_type": "code",
        "outputId": "618b912b-b1ee-4b70-cc37-4bfcb894024b",
        "colab": {
          "base_uri": "https://localhost:8080/",
          "height": 204
        }
      },
      "cell_type": "code",
      "source": [
        "from sklearn.metrics import classification_report\n",
        "\n",
        "y_pred1 =model.predict(x_train)\n",
        "y_pred1 = (y_pred1 > 0.5)\n",
        "\n",
        "print(classification_report(y_train, y_pred1))\n",
        "\n",
        "scores = model.evaluate(x_train, y_train)\n",
        "print('Accuracy of NeuralNetwork classifier on train set: ', round(scores[1],2))\n"
      ],
      "execution_count": 0,
      "outputs": [
        {
          "output_type": "stream",
          "text": [
            "              precision    recall  f1-score   support\n",
            "\n",
            "           0       0.69      0.97      0.81     70429\n",
            "           1       0.95      0.56      0.71     70429\n",
            "\n",
            "   micro avg       0.77      0.77      0.77    140858\n",
            "   macro avg       0.82      0.77      0.76    140858\n",
            "weighted avg       0.82      0.77      0.76    140858\n",
            "\n",
            "140858/140858 [==============================] - 7s 47us/step\n",
            "Accuracy of NeuralNetwork classifier on train set:  0.77\n"
          ],
          "name": "stdout"
        }
      ]
    },
    {
      "metadata": {
        "id": "VajfrsWGAuOH",
        "colab_type": "text"
      },
      "cell_type": "markdown",
      "source": [
        "**Interpretation**\n",
        "\n",
        "\n",
        "1. The confusion matrix shows the following characteristics based on the test set;\n",
        "\n",
        "    a) most of the positive cases (loan payment defaulters) are not correctly classified, 6893 vs.           \n",
        "        10675. \n",
        "\n",
        "    b) most negative cases (non payment defaulters)are scored correctly, 29321 vs 990.   \n",
        "\n",
        "2. The overall accuracy is 0.76.  Accuracy figures should always be regarded with healthy skepticism.\n",
        "\n",
        "3. The class imbalance is confirmed. of the 47879 test cases, 30311 are non loan defaulters while 17568 are loan payment defaulters. This shows most of the clients are non loan payment defaulters.\n",
        "\n",
        "4. The precision, recall and F1 all show that negative cases(non defaulters) are classified reasonably well than the positive cases (loan payment defaulters). It is these positive cases that are of greatest importance to 'Carbon' organization , hence more efforts could be done in the nearest future to improve the performance of the model in correctly predicting the loan payment defaulters or implement a better model. "
      ]
    },
    {
      "metadata": {
        "id": "prgDRRDj8UAu",
        "colab_type": "text"
      },
      "cell_type": "markdown",
      "source": [
        "#Comparison of Performance Metrics for the various models\n"
      ]
    },
    {
      "metadata": {
        "id": "ThMsaTDMgHgl",
        "colab_type": "text"
      },
      "cell_type": "markdown",
      "source": [
        "The performance metrics for the random forest models  for this comparison were obtained from my random forest classifier notebook"
      ]
    },
    {
      "metadata": {
        "id": "8_0Ghj6G8d0r",
        "colab_type": "code",
        "outputId": "5c7cc70c-f539-4d0e-8af3-d14fdb8c33bf",
        "colab": {
          "base_uri": "https://localhost:8080/",
          "height": 173
        }
      },
      "cell_type": "code",
      "source": [
        "PM= pd.read_csv('PerformanceMetrics.csv', header =0, index_col=0)\n",
        "PM.head(4)\n"
      ],
      "execution_count": 0,
      "outputs": [
        {
          "output_type": "execute_result",
          "data": {
            "text/html": [
              "<div>\n",
              "<style scoped>\n",
              "    .dataframe tbody tr th:only-of-type {\n",
              "        vertical-align: middle;\n",
              "    }\n",
              "\n",
              "    .dataframe tbody tr th {\n",
              "        vertical-align: top;\n",
              "    }\n",
              "\n",
              "    .dataframe thead th {\n",
              "        text-align: right;\n",
              "    }\n",
              "</style>\n",
              "<table border=\"1\" class=\"dataframe\">\n",
              "  <thead>\n",
              "    <tr style=\"text-align: right;\">\n",
              "      <th></th>\n",
              "      <th>Keras_Test set</th>\n",
              "      <th>Keras_Training set</th>\n",
              "      <th>Rforest_Training set</th>\n",
              "      <th>Rforest_Test set</th>\n",
              "    </tr>\n",
              "  </thead>\n",
              "  <tbody>\n",
              "    <tr>\n",
              "      <th>Precision weighted average</th>\n",
              "      <td>0.76</td>\n",
              "      <td>0.82</td>\n",
              "      <td>0.84</td>\n",
              "      <td>0.77</td>\n",
              "    </tr>\n",
              "    <tr>\n",
              "      <th>Recall weighted average</th>\n",
              "      <td>0.76</td>\n",
              "      <td>0.77</td>\n",
              "      <td>0.81</td>\n",
              "      <td>0.76</td>\n",
              "    </tr>\n",
              "    <tr>\n",
              "      <th>F1 weighted average</th>\n",
              "      <td>0.76</td>\n",
              "      <td>0.76</td>\n",
              "      <td>0.81</td>\n",
              "      <td>0.74</td>\n",
              "    </tr>\n",
              "    <tr>\n",
              "      <th>Accuracy</th>\n",
              "      <td>0.76</td>\n",
              "      <td>0.77</td>\n",
              "      <td>0.81</td>\n",
              "      <td>0.76</td>\n",
              "    </tr>\n",
              "  </tbody>\n",
              "</table>\n",
              "</div>"
            ],
            "text/plain": [
              "                            Keras_Test set  Keras_Training set  \\\n",
              "Precision weighted average            0.76                0.82   \n",
              "Recall weighted average               0.76                0.77   \n",
              "F1 weighted average                   0.76                0.76   \n",
              "Accuracy                              0.76                0.77   \n",
              "\n",
              "                            Rforest_Training set  Rforest_Test set  \n",
              "Precision weighted average                  0.84              0.77  \n",
              "Recall weighted average                     0.81              0.76  \n",
              "F1 weighted average                         0.81              0.74  \n",
              "Accuracy                                    0.81              0.76  "
            ]
          },
          "metadata": {
            "tags": []
          },
          "execution_count": 7
        }
      ]
    },
    {
      "metadata": {
        "id": "Vy_HlJ6w-WvT",
        "colab_type": "text"
      },
      "cell_type": "markdown",
      "source": [
        "**Observations**\n",
        "\n",
        "1) For this case study, both models performed better on the training set than the test set as expected. Although, the random forest classifier performed better on the training set than the neural network. \n",
        "\n",
        "2)There seems to be no sign of data leakage or overfitting in both models. \n",
        "\n",
        "3) We can try other classification models like the Logistic regression model, support vector machine or XGboost model, then compare the performance metrics.\n",
        "\n",
        "4) In conclusion, From the comparison table above, the performance metrics of the two models are quite close. I can propose the usage of either of them.\n"
      ]
    }
  ]
}