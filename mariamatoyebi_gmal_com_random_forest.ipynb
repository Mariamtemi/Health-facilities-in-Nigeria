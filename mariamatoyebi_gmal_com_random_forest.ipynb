{
  "nbformat": 4,
  "nbformat_minor": 0,
  "metadata": {
    "colab": {
      "name": "mariamatoyebi@gmal.com_random_forest.ipynb",
      "version": "0.3.2",
      "provenance": [],
      "collapsed_sections": [],
      "include_colab_link": true
    },
    "kernelspec": {
      "name": "python3",
      "display_name": "Python 3"
    },
    "accelerator": "GPU"
  },
  "cells": [
    {
      "cell_type": "markdown",
      "metadata": {
        "id": "view-in-github",
        "colab_type": "text"
      },
      "source": [
        "<a href=\"https://colab.research.google.com/github/Mariamtemi/Health-facilities-in-Nigeria/blob/master/mariamatoyebi_gmal_com_random_forest.ipynb\" target=\"_parent\"><img src=\"https://colab.research.google.com/assets/colab-badge.svg\" alt=\"Open In Colab\"/></a>"
      ]
    },
    {
      "metadata": {
        "id": "KyZCiXIBQC3B",
        "colab_type": "text"
      },
      "cell_type": "markdown",
      "source": [
        "# Final Challenge"
      ]
    },
    {
      "metadata": {
        "_uuid": "b41b6f01833e0d8f363dc032b77c42c2fcd28448",
        "id": "Xca_iuSauasf",
        "colab_type": "text"
      },
      "cell_type": "markdown",
      "source": [
        "This is a basic notebook to train a  random forest classifier using the scikit learn random forest library to predict whether clients will default loan repayment . "
      ]
    },
    {
      "metadata": {
        "id": "l4zMlmw9N6Ea",
        "colab_type": "code",
        "outputId": "2e7dbc20-efb3-4260-8751-5a2650694334",
        "colab": {
          "base_uri": "https://localhost:8080/",
          "height": 122
        }
      },
      "cell_type": "code",
      "source": [
        "from google.colab import drive\n",
        "drive.mount('/content/drive/')\n",
        "import os\n",
        "os.chdir('drive/My Drive/paylater')"
      ],
      "execution_count": 0,
      "outputs": [
        {
          "output_type": "stream",
          "text": [
            "Go to this URL in a browser: https://accounts.google.com/o/oauth2/auth?client_id=947318989803-6bn6qk8qdgf4n4g3pfee6491hc0brc4i.apps.googleusercontent.com&redirect_uri=urn%3Aietf%3Awg%3Aoauth%3A2.0%3Aoob&scope=email%20https%3A%2F%2Fwww.googleapis.com%2Fauth%2Fdocs.test%20https%3A%2F%2Fwww.googleapis.com%2Fauth%2Fdrive%20https%3A%2F%2Fwww.googleapis.com%2Fauth%2Fdrive.photos.readonly%20https%3A%2F%2Fwww.googleapis.com%2Fauth%2Fpeopleapi.readonly&response_type=code\n",
            "\n",
            "Enter your authorization code:\n",
            "··········\n",
            "Mounted at /content/drive/\n"
          ],
          "name": "stdout"
        }
      ]
    },
    {
      "metadata": {
        "id": "ZwH98TdHjMQF",
        "colab_type": "text"
      },
      "cell_type": "markdown",
      "source": [
        "#Import the required modules"
      ]
    },
    {
      "metadata": {
        "id": "DtsGs7ZaN84g",
        "colab_type": "code",
        "colab": {}
      },
      "cell_type": "code",
      "source": [
        "import warnings\n",
        "warnings.simplefilter(action='ignore', category=FutureWarning)\n",
        "import pandas as pd\n",
        "import numpy as np\n",
        "from sklearn import preprocessing\n",
        "import matplotlib.pyplot as plt \n",
        "plt.rc(\"font\", size=14)\n",
        "from sklearn.model_selection import train_test_split\n",
        "import seaborn as sns\n",
        "sns.set(style=\"white\")\n",
        "sns.set(style=\"whitegrid\", color_codes=True)"
      ],
      "execution_count": 0,
      "outputs": []
    },
    {
      "metadata": {
        "id": "xmB5sAVKN9GE",
        "colab_type": "code",
        "outputId": "baf7689a-176a-418a-cd5c-89fb491746ea",
        "colab": {
          "base_uri": "https://localhost:8080/",
          "height": 88
        }
      },
      "cell_type": "code",
      "source": [
        "data = pd.read_csv('final_challenge.csv', header=0)\n",
        "print(data.shape)\n"
      ],
      "execution_count": 0,
      "outputs": [
        {
          "output_type": "stream",
          "text": [
            "(159596, 35)\n"
          ],
          "name": "stdout"
        },
        {
          "output_type": "stream",
          "text": [
            "/usr/local/lib/python3.6/dist-packages/IPython/core/interactiveshell.py:2718: DtypeWarning: Columns (2,12,27,33) have mixed types. Specify dtype option on import or set low_memory=False.\n",
            "  interactivity=interactivity, compiler=compiler, result=result)\n"
          ],
          "name": "stderr"
        }
      ]
    },
    {
      "metadata": {
        "id": "S2FBVB1rOj16",
        "colab_type": "code",
        "outputId": "7c1f86b7-dc1a-433c-bca6-1e9a956959a5",
        "colab": {
          "base_uri": "https://localhost:8080/",
          "height": 34
        }
      },
      "cell_type": "code",
      "source": [
        "#data.info()\n",
        "data.isnull().values.any()\n"
      ],
      "execution_count": 0,
      "outputs": [
        {
          "output_type": "execute_result",
          "data": {
            "text/plain": [
              "False"
            ]
          },
          "metadata": {
            "tags": []
          },
          "execution_count": 4
        }
      ]
    },
    {
      "metadata": {
        "id": "WbbPSqJgCNGL",
        "colab_type": "text"
      },
      "cell_type": "markdown",
      "source": [
        "**Fixing some columns**\n",
        "\n",
        "1)  conversion of the date columns to the correct format.\n",
        "\n",
        "2) obtaining the absolute values for the settleDays column\n",
        "\n",
        "3) converting the string values of clienttimeatEmployer to numeric values\n"
      ]
    },
    {
      "metadata": {
        "id": "zo7kEiScCGPU",
        "colab_type": "code",
        "colab": {}
      },
      "cell_type": "code",
      "source": [
        "data['applicationDate'] =  pd.to_datetime(data['applicationDate'],errors=\"coerce\"  )\n",
        "data['approvalDate'] =  pd.to_datetime(data['approvalDate'],errors=\"coerce\" )\n",
        "data['disbursementDate'] =  pd.to_datetime(data['disbursementDate'],errors=\"coerce\" )\n",
        "data['dueDate'] =  pd.to_datetime(data['dueDate'], errors=\"coerce\" )\n",
        "data['paidAt'] =  pd.to_datetime(data['paidAt'],errors=\"coerce\" )\n",
        "data['repaidDate'] =  pd.to_datetime(data['repaidDate'],errors=\"coerce\" )\n",
        "data['repaymnentDueDate'] =  pd.to_datetime(data['repaymentDueDate'], errors=\"coerce\" )\n",
        "data['settleDays'] = data['settleDays'].abs()\n",
        "data['clientTimeAtEmployer'] = pd.to_numeric(data['clientTimeAtEmployer'], errors='coerce')"
      ],
      "execution_count": 0,
      "outputs": []
    },
    {
      "metadata": {
        "id": "tXjreJbyPz3U",
        "colab_type": "text"
      },
      "cell_type": "markdown",
      "source": [
        "#Data Exploration"
      ]
    },
    {
      "metadata": {
        "id": "NdzGZEXoQV_h",
        "colab_type": "text"
      },
      "cell_type": "markdown",
      "source": [
        "Let's drop some columns, loan type and declined date and preview our data\n"
      ]
    },
    {
      "metadata": {
        "id": "tcZprtcUOjv2",
        "colab_type": "code",
        "outputId": "29d200dd-f860-453b-c57e-bd9b066e2142",
        "colab": {
          "base_uri": "https://localhost:8080/",
          "height": 338
        }
      },
      "cell_type": "code",
      "source": [
        "data = data.drop(['loanType','declinedDate'], axis=1)   #drop two columns\n",
        "data.head()"
      ],
      "execution_count": 0,
      "outputs": [
        {
          "output_type": "execute_result",
          "data": {
            "text/html": [
              "<div>\n",
              "<style scoped>\n",
              "    .dataframe tbody tr th:only-of-type {\n",
              "        vertical-align: middle;\n",
              "    }\n",
              "\n",
              "    .dataframe tbody tr th {\n",
              "        vertical-align: top;\n",
              "    }\n",
              "\n",
              "    .dataframe thead th {\n",
              "        text-align: right;\n",
              "    }\n",
              "</style>\n",
              "<table border=\"1\" class=\"dataframe\">\n",
              "  <thead>\n",
              "    <tr style=\"text-align: right;\">\n",
              "      <th></th>\n",
              "      <th>clientId</th>\n",
              "      <th>clientIncome</th>\n",
              "      <th>incomeVerified</th>\n",
              "      <th>clientAge</th>\n",
              "      <th>clientGender</th>\n",
              "      <th>clientMaritalStatus</th>\n",
              "      <th>clientLoanPurpose</th>\n",
              "      <th>clientResidentialStauts</th>\n",
              "      <th>clientState</th>\n",
              "      <th>clientTimeAtEmployer</th>\n",
              "      <th>...</th>\n",
              "      <th>max_tenor_taken</th>\n",
              "      <th>id</th>\n",
              "      <th>repaidDate</th>\n",
              "      <th>repaymentDueDate</th>\n",
              "      <th>settleDays</th>\n",
              "      <th>firstPaymentRatio</th>\n",
              "      <th>firstPaymentDefault</th>\n",
              "      <th>ids</th>\n",
              "      <th>loanDefault</th>\n",
              "      <th>repaymnentDueDate</th>\n",
              "    </tr>\n",
              "  </thead>\n",
              "  <tbody>\n",
              "    <tr>\n",
              "      <th>0</th>\n",
              "      <td>395301182</td>\n",
              "      <td>35000.00</td>\n",
              "      <td>false</td>\n",
              "      <td>28</td>\n",
              "      <td>FEMALE</td>\n",
              "      <td>Single</td>\n",
              "      <td>house</td>\n",
              "      <td>Own Residence</td>\n",
              "      <td>OYO</td>\n",
              "      <td>NaN</td>\n",
              "      <td>...</td>\n",
              "      <td>1</td>\n",
              "      <td>301714529828</td>\n",
              "      <td>2018-06-07 12:12:32</td>\n",
              "      <td>2018-06-08 12:00:00 UTC</td>\n",
              "      <td>1</td>\n",
              "      <td>0.0</td>\n",
              "      <td>0</td>\n",
              "      <td>301714529828</td>\n",
              "      <td>0</td>\n",
              "      <td>2018-06-08 12:00:00</td>\n",
              "    </tr>\n",
              "    <tr>\n",
              "      <th>1</th>\n",
              "      <td>492597075</td>\n",
              "      <td>70833.33</td>\n",
              "      <td>true</td>\n",
              "      <td>41</td>\n",
              "      <td>FEMALE</td>\n",
              "      <td>Married</td>\n",
              "      <td>education</td>\n",
              "      <td>Own Residence</td>\n",
              "      <td>KWARA</td>\n",
              "      <td>NaN</td>\n",
              "      <td>...</td>\n",
              "      <td>1</td>\n",
              "      <td>301714537708</td>\n",
              "      <td>2018-06-07 09:27:56</td>\n",
              "      <td>2018-06-08 12:00:00 UTC</td>\n",
              "      <td>1</td>\n",
              "      <td>0.0</td>\n",
              "      <td>0</td>\n",
              "      <td>301714537708</td>\n",
              "      <td>0</td>\n",
              "      <td>2018-06-08 12:00:00</td>\n",
              "    </tr>\n",
              "    <tr>\n",
              "      <th>2</th>\n",
              "      <td>769980240</td>\n",
              "      <td>25000.00</td>\n",
              "      <td>false</td>\n",
              "      <td>38</td>\n",
              "      <td>FEMALE</td>\n",
              "      <td>Married</td>\n",
              "      <td>house</td>\n",
              "      <td>Rented</td>\n",
              "      <td>LAGOS</td>\n",
              "      <td>NaN</td>\n",
              "      <td>...</td>\n",
              "      <td>1</td>\n",
              "      <td>301714552748</td>\n",
              "      <td>2018-06-08 12:49:13</td>\n",
              "      <td>2018-06-08 12:00:00 UTC</td>\n",
              "      <td>0</td>\n",
              "      <td>0.0</td>\n",
              "      <td>0</td>\n",
              "      <td>301714552748</td>\n",
              "      <td>0</td>\n",
              "      <td>2018-06-08 12:00:00</td>\n",
              "    </tr>\n",
              "    <tr>\n",
              "      <th>3</th>\n",
              "      <td>525296437</td>\n",
              "      <td>35000.00</td>\n",
              "      <td>false</td>\n",
              "      <td>32</td>\n",
              "      <td>FEMALE</td>\n",
              "      <td>Married</td>\n",
              "      <td>business</td>\n",
              "      <td>Rented</td>\n",
              "      <td>LAGOS</td>\n",
              "      <td>NaN</td>\n",
              "      <td>...</td>\n",
              "      <td>1</td>\n",
              "      <td>301714561362</td>\n",
              "      <td>2018-06-04 05:39:55</td>\n",
              "      <td>2018-06-08 12:00:00 UTC</td>\n",
              "      <td>4</td>\n",
              "      <td>0.0</td>\n",
              "      <td>0</td>\n",
              "      <td>301714561362</td>\n",
              "      <td>0</td>\n",
              "      <td>2018-06-08 12:00:00</td>\n",
              "    </tr>\n",
              "    <tr>\n",
              "      <th>4</th>\n",
              "      <td>800220186</td>\n",
              "      <td>97865.00</td>\n",
              "      <td>true</td>\n",
              "      <td>36</td>\n",
              "      <td>FEMALE</td>\n",
              "      <td>Single</td>\n",
              "      <td>business</td>\n",
              "      <td>Family Owned</td>\n",
              "      <td>ABUJA</td>\n",
              "      <td>27.0</td>\n",
              "      <td>...</td>\n",
              "      <td>1</td>\n",
              "      <td>301714565557</td>\n",
              "      <td>2018-06-08 07:28:10</td>\n",
              "      <td>2018-06-08 12:00:00 UTC</td>\n",
              "      <td>0</td>\n",
              "      <td>0.0</td>\n",
              "      <td>0</td>\n",
              "      <td>301714565557</td>\n",
              "      <td>0</td>\n",
              "      <td>2018-06-08 12:00:00</td>\n",
              "    </tr>\n",
              "  </tbody>\n",
              "</table>\n",
              "<p>5 rows × 34 columns</p>\n",
              "</div>"
            ],
            "text/plain": [
              "    clientId  clientIncome incomeVerified  clientAge clientGender  \\\n",
              "0  395301182      35000.00          false         28       FEMALE   \n",
              "1  492597075      70833.33           true         41       FEMALE   \n",
              "2  769980240      25000.00          false         38       FEMALE   \n",
              "3  525296437      35000.00          false         32       FEMALE   \n",
              "4  800220186      97865.00           true         36       FEMALE   \n",
              "\n",
              "  clientMaritalStatus clientLoanPurpose clientResidentialStauts clientState  \\\n",
              "0              Single             house           Own Residence         OYO   \n",
              "1             Married         education           Own Residence       KWARA   \n",
              "2             Married             house                  Rented       LAGOS   \n",
              "3             Married          business                  Rented       LAGOS   \n",
              "4              Single          business            Family Owned       ABUJA   \n",
              "\n",
              "   clientTimeAtEmployer         ...         max_tenor_taken            id  \\\n",
              "0                   NaN         ...                       1  301714529828   \n",
              "1                   NaN         ...                       1  301714537708   \n",
              "2                   NaN         ...                       1  301714552748   \n",
              "3                   NaN         ...                       1  301714561362   \n",
              "4                  27.0         ...                       1  301714565557   \n",
              "\n",
              "           repaidDate         repaymentDueDate settleDays firstPaymentRatio  \\\n",
              "0 2018-06-07 12:12:32  2018-06-08 12:00:00 UTC          1               0.0   \n",
              "1 2018-06-07 09:27:56  2018-06-08 12:00:00 UTC          1               0.0   \n",
              "2 2018-06-08 12:49:13  2018-06-08 12:00:00 UTC          0               0.0   \n",
              "3 2018-06-04 05:39:55  2018-06-08 12:00:00 UTC          4               0.0   \n",
              "4 2018-06-08 07:28:10  2018-06-08 12:00:00 UTC          0               0.0   \n",
              "\n",
              "  firstPaymentDefault           ids loanDefault   repaymnentDueDate  \n",
              "0                   0  301714529828           0 2018-06-08 12:00:00  \n",
              "1                   0  301714537708           0 2018-06-08 12:00:00  \n",
              "2                   0  301714552748           0 2018-06-08 12:00:00  \n",
              "3                   0  301714561362           0 2018-06-08 12:00:00  \n",
              "4                   0  301714565557           0 2018-06-08 12:00:00  \n",
              "\n",
              "[5 rows x 34 columns]"
            ]
          },
          "metadata": {
            "tags": []
          },
          "execution_count": 11
        }
      ]
    },
    {
      "metadata": {
        "id": "nHM8utAKOjo6",
        "colab_type": "code",
        "outputId": "d7493145-0170-43e1-d12f-dfc314ec3c0c",
        "colab": {
          "base_uri": "https://localhost:8080/",
          "height": 412
        }
      },
      "cell_type": "code",
      "source": [
        "sns.countplot(x='loanDefault',data=data, palette='hls')\n",
        "plt.show()\n",
        "data['loanDefault'].value_counts()"
      ],
      "execution_count": 0,
      "outputs": [
        {
          "output_type": "display_data",
          "data": {
            "image/png": "[encoded data removed]",
            "text/plain": [
              "<Figure size 576x396 with 1 Axes>"
            ]
          },
          "metadata": {
            "tags": []
          }
        },
        {
          "output_type": "execute_result",
          "data": {
            "text/plain": [
              "0    100740\n",
              "1     58856\n",
              "Name: loanDefault, dtype: int64"
            ]
          },
          "metadata": {
            "tags": []
          },
          "execution_count": 5
        }
      ]
    },
    {
      "metadata": {
        "id": "_t1DFvAzTnWk",
        "colab_type": "code",
        "outputId": "a1fd6db3-2b81-4303-926a-d4f570859ee3",
        "colab": {
          "base_uri": "https://localhost:8080/",
          "height": 51
        }
      },
      "cell_type": "code",
      "source": [
        "count_no_defaulters = len(data[data['loanDefault']==0])\n",
        "count_defaulters = len(data[data['loanDefault']==1])\n",
        "pct_of_no_defaulters = count_no_defaulters/(count_no_defaulters+count_defaulters)\n",
        "print(\"percentage of non loan_defaults is\", pct_of_no_defaulters*100)\n",
        "pct_of_defaulters = count_defaulters/(count_no_defaulters+count_defaulters)\n",
        "print(\"percentage of loan_defaulters\", pct_of_defaulters*100)"
      ],
      "execution_count": 0,
      "outputs": [
        {
          "output_type": "stream",
          "text": [
            "percentage of non loan_defaults is 63.12188275395373\n",
            "percentage of loan_defaulters 36.878117246046266\n"
          ],
          "name": "stdout"
        }
      ]
    },
    {
      "metadata": {
        "id": "77If0M2XSwlx",
        "colab_type": "text"
      },
      "cell_type": "markdown",
      "source": [
        "we can see from the above analysis that our classes are imbalanced.  The ratio of non defaulters to defaulters in 63:37. Hence, we need to balance the data for our algorithm to perform better."
      ]
    },
    {
      "metadata": {
        "id": "fruN82IGN9JY",
        "colab_type": "code",
        "outputId": "9fa830c5-7364-4073-db86-1e2304c3849b",
        "colab": {
          "base_uri": "https://localhost:8080/",
          "height": 162
        }
      },
      "cell_type": "code",
      "source": [
        "data.groupby('loanDefault').mean()"
      ],
      "execution_count": 0,
      "outputs": [
        {
          "output_type": "execute_result",
          "data": {
            "text/html": [
              "<div>\n",
              "<style scoped>\n",
              "    .dataframe tbody tr th:only-of-type {\n",
              "        vertical-align: middle;\n",
              "    }\n",
              "\n",
              "    .dataframe tbody tr th {\n",
              "        vertical-align: top;\n",
              "    }\n",
              "\n",
              "    .dataframe thead th {\n",
              "        text-align: right;\n",
              "    }\n",
              "</style>\n",
              "<table border=\"1\" class=\"dataframe\">\n",
              "  <thead>\n",
              "    <tr style=\"text-align: right;\">\n",
              "      <th></th>\n",
              "      <th>clientId</th>\n",
              "      <th>clientIncome</th>\n",
              "      <th>clientAge</th>\n",
              "      <th>loanNumber</th>\n",
              "      <th>loanAmount</th>\n",
              "      <th>interestRate</th>\n",
              "      <th>loanTerm</th>\n",
              "      <th>max_amount_taken</th>\n",
              "      <th>max_tenor_taken</th>\n",
              "      <th>settleDays</th>\n",
              "      <th>firstPaymentRatio</th>\n",
              "      <th>firstPaymentDefault</th>\n",
              "    </tr>\n",
              "    <tr>\n",
              "      <th>loanDefault</th>\n",
              "      <th></th>\n",
              "      <th></th>\n",
              "      <th></th>\n",
              "      <th></th>\n",
              "      <th></th>\n",
              "      <th></th>\n",
              "      <th></th>\n",
              "      <th></th>\n",
              "      <th></th>\n",
              "      <th></th>\n",
              "      <th></th>\n",
              "      <th></th>\n",
              "    </tr>\n",
              "  </thead>\n",
              "  <tbody>\n",
              "    <tr>\n",
              "      <th>0</th>\n",
              "      <td>4.980211e+08</td>\n",
              "      <td>92055.538940</td>\n",
              "      <td>33.833155</td>\n",
              "      <td>3.629482</td>\n",
              "      <td>34541.726226</td>\n",
              "      <td>13.364509</td>\n",
              "      <td>83.290351</td>\n",
              "      <td>0.681110</td>\n",
              "      <td>0.901022</td>\n",
              "      <td>2.557227</td>\n",
              "      <td>0.000000</td>\n",
              "      <td>0.161277</td>\n",
              "    </tr>\n",
              "    <tr>\n",
              "      <th>1</th>\n",
              "      <td>4.979862e+08</td>\n",
              "      <td>88756.880374</td>\n",
              "      <td>33.449980</td>\n",
              "      <td>3.432411</td>\n",
              "      <td>36663.466766</td>\n",
              "      <td>13.274282</td>\n",
              "      <td>88.971898</td>\n",
              "      <td>0.746636</td>\n",
              "      <td>0.939938</td>\n",
              "      <td>84.028035</td>\n",
              "      <td>0.265717</td>\n",
              "      <td>0.521901</td>\n",
              "    </tr>\n",
              "  </tbody>\n",
              "</table>\n",
              "</div>"
            ],
            "text/plain": [
              "                 clientId  clientIncome  clientAge  loanNumber    loanAmount  \\\n",
              "loanDefault                                                                    \n",
              "0            4.980211e+08  92055.538940  33.833155    3.629482  34541.726226   \n",
              "1            4.979862e+08  88756.880374  33.449980    3.432411  36663.466766   \n",
              "\n",
              "             interestRate   loanTerm  max_amount_taken  max_tenor_taken  \\\n",
              "loanDefault                                                               \n",
              "0               13.364509  83.290351          0.681110         0.901022   \n",
              "1               13.274282  88.971898          0.746636         0.939938   \n",
              "\n",
              "             settleDays  firstPaymentRatio  firstPaymentDefault  \n",
              "loanDefault                                                      \n",
              "0              2.557227           0.000000             0.161277  \n",
              "1             84.028035           0.265717             0.521901  "
            ]
          },
          "metadata": {
            "tags": []
          },
          "execution_count": 9
        }
      ]
    },
    {
      "metadata": {
        "id": "BQlJZt3lVjpk",
        "colab_type": "text"
      },
      "cell_type": "markdown",
      "source": [
        "The average age of both classes are almost the same.\n",
        "\n",
        "The average income of non defaulters is slighter higher than for defaulters.\n",
        "The average loan of defaulters is a little higher than for non defaulters.\n",
        "Expectedly, the average settle days, firstpayment ratio and firstpaymentdefaults of defaulters are higher than for non-defaulters.\n"
      ]
    },
    {
      "metadata": {
        "id": "ZI7YAxLmTLUG",
        "colab_type": "code",
        "outputId": "5ccacf74-25c0-42a1-847d-6162b470b3e1",
        "colab": {
          "base_uri": "https://localhost:8080/",
          "height": 162
        }
      },
      "cell_type": "code",
      "source": [
        "data.groupby('clientGender').mean()"
      ],
      "execution_count": 0,
      "outputs": [
        {
          "output_type": "execute_result",
          "data": {
            "text/html": [
              "<div>\n",
              "<style scoped>\n",
              "    .dataframe tbody tr th:only-of-type {\n",
              "        vertical-align: middle;\n",
              "    }\n",
              "\n",
              "    .dataframe tbody tr th {\n",
              "        vertical-align: top;\n",
              "    }\n",
              "\n",
              "    .dataframe thead th {\n",
              "        text-align: right;\n",
              "    }\n",
              "</style>\n",
              "<table border=\"1\" class=\"dataframe\">\n",
              "  <thead>\n",
              "    <tr style=\"text-align: right;\">\n",
              "      <th></th>\n",
              "      <th>clientId</th>\n",
              "      <th>clientIncome</th>\n",
              "      <th>clientAge</th>\n",
              "      <th>loanNumber</th>\n",
              "      <th>loanAmount</th>\n",
              "      <th>interestRate</th>\n",
              "      <th>loanTerm</th>\n",
              "      <th>max_amount_taken</th>\n",
              "      <th>max_tenor_taken</th>\n",
              "      <th>settleDays</th>\n",
              "      <th>firstPaymentRatio</th>\n",
              "      <th>firstPaymentDefault</th>\n",
              "      <th>loanDefault</th>\n",
              "    </tr>\n",
              "    <tr>\n",
              "      <th>clientGender</th>\n",
              "      <th></th>\n",
              "      <th></th>\n",
              "      <th></th>\n",
              "      <th></th>\n",
              "      <th></th>\n",
              "      <th></th>\n",
              "      <th></th>\n",
              "      <th></th>\n",
              "      <th></th>\n",
              "      <th></th>\n",
              "      <th></th>\n",
              "      <th></th>\n",
              "      <th></th>\n",
              "    </tr>\n",
              "  </thead>\n",
              "  <tbody>\n",
              "    <tr>\n",
              "      <th>FEMALE</th>\n",
              "      <td>4.975876e+08</td>\n",
              "      <td>79476.963147</td>\n",
              "      <td>32.809433</td>\n",
              "      <td>3.522451</td>\n",
              "      <td>34522.601642</td>\n",
              "      <td>13.133319</td>\n",
              "      <td>85.067094</td>\n",
              "      <td>0.707531</td>\n",
              "      <td>0.918947</td>\n",
              "      <td>29.407951</td>\n",
              "      <td>0.088898</td>\n",
              "      <td>0.278189</td>\n",
              "      <td>0.359844</td>\n",
              "    </tr>\n",
              "    <tr>\n",
              "      <th>MALE</th>\n",
              "      <td>4.981997e+08</td>\n",
              "      <td>96012.120203</td>\n",
              "      <td>34.093602</td>\n",
              "      <td>3.572447</td>\n",
              "      <td>35689.137928</td>\n",
              "      <td>13.421344</td>\n",
              "      <td>85.530611</td>\n",
              "      <td>0.704247</td>\n",
              "      <td>0.913747</td>\n",
              "      <td>34.056408</td>\n",
              "      <td>0.102131</td>\n",
              "      <td>0.301588</td>\n",
              "      <td>0.372850</td>\n",
              "    </tr>\n",
              "  </tbody>\n",
              "</table>\n",
              "</div>"
            ],
            "text/plain": [
              "                  clientId  clientIncome  clientAge  loanNumber    loanAmount  \\\n",
              "clientGender                                                                    \n",
              "FEMALE        4.975876e+08  79476.963147  32.809433    3.522451  34522.601642   \n",
              "MALE          4.981997e+08  96012.120203  34.093602    3.572447  35689.137928   \n",
              "\n",
              "              interestRate   loanTerm  max_amount_taken  max_tenor_taken  \\\n",
              "clientGender                                                               \n",
              "FEMALE           13.133319  85.067094          0.707531         0.918947   \n",
              "MALE             13.421344  85.530611          0.704247         0.913747   \n",
              "\n",
              "              settleDays  firstPaymentRatio  firstPaymentDefault  loanDefault  \n",
              "clientGender                                                                   \n",
              "FEMALE         29.407951           0.088898             0.278189     0.359844  \n",
              "MALE           34.056408           0.102131             0.301588     0.372850  "
            ]
          },
          "metadata": {
            "tags": []
          },
          "execution_count": 10
        }
      ]
    },
    {
      "metadata": {
        "id": "4o0WauhmTLRc",
        "colab_type": "code",
        "outputId": "4fb5d9a4-f0b8-4147-acba-d7c24cdd2700",
        "colab": {
          "base_uri": "https://localhost:8080/",
          "height": 286
        }
      },
      "cell_type": "code",
      "source": [
        "data.groupby('clientMaritalStatus').mean()"
      ],
      "execution_count": 0,
      "outputs": [
        {
          "output_type": "execute_result",
          "data": {
            "text/html": [
              "<div>\n",
              "<style scoped>\n",
              "    .dataframe tbody tr th:only-of-type {\n",
              "        vertical-align: middle;\n",
              "    }\n",
              "\n",
              "    .dataframe tbody tr th {\n",
              "        vertical-align: top;\n",
              "    }\n",
              "\n",
              "    .dataframe thead th {\n",
              "        text-align: right;\n",
              "    }\n",
              "</style>\n",
              "<table border=\"1\" class=\"dataframe\">\n",
              "  <thead>\n",
              "    <tr style=\"text-align: right;\">\n",
              "      <th></th>\n",
              "      <th>clientId</th>\n",
              "      <th>clientIncome</th>\n",
              "      <th>clientAge</th>\n",
              "      <th>loanNumber</th>\n",
              "      <th>loanAmount</th>\n",
              "      <th>interestRate</th>\n",
              "      <th>loanTerm</th>\n",
              "      <th>max_amount_taken</th>\n",
              "      <th>max_tenor_taken</th>\n",
              "      <th>settleDays</th>\n",
              "      <th>firstPaymentRatio</th>\n",
              "      <th>firstPaymentDefault</th>\n",
              "      <th>loanDefault</th>\n",
              "    </tr>\n",
              "    <tr>\n",
              "      <th>clientMaritalStatus</th>\n",
              "      <th></th>\n",
              "      <th></th>\n",
              "      <th></th>\n",
              "      <th></th>\n",
              "      <th></th>\n",
              "      <th></th>\n",
              "      <th></th>\n",
              "      <th></th>\n",
              "      <th></th>\n",
              "      <th></th>\n",
              "      <th></th>\n",
              "      <th></th>\n",
              "      <th></th>\n",
              "    </tr>\n",
              "  </thead>\n",
              "  <tbody>\n",
              "    <tr>\n",
              "      <th>Divorced</th>\n",
              "      <td>3.661157e+08</td>\n",
              "      <td>105000.000000</td>\n",
              "      <td>45.000000</td>\n",
              "      <td>3.000000</td>\n",
              "      <td>27333.333333</td>\n",
              "      <td>15.833333</td>\n",
              "      <td>70.000000</td>\n",
              "      <td>1.000000</td>\n",
              "      <td>1.000000</td>\n",
              "      <td>7.000000</td>\n",
              "      <td>0.000000</td>\n",
              "      <td>0.333333</td>\n",
              "      <td>0.333333</td>\n",
              "    </tr>\n",
              "    <tr>\n",
              "      <th>Married</th>\n",
              "      <td>4.972362e+08</td>\n",
              "      <td>104808.194552</td>\n",
              "      <td>37.250772</td>\n",
              "      <td>3.409243</td>\n",
              "      <td>38431.636878</td>\n",
              "      <td>12.746401</td>\n",
              "      <td>87.531348</td>\n",
              "      <td>0.725378</td>\n",
              "      <td>0.916004</td>\n",
              "      <td>30.656482</td>\n",
              "      <td>0.096114</td>\n",
              "      <td>0.280634</td>\n",
              "      <td>0.366362</td>\n",
              "    </tr>\n",
              "    <tr>\n",
              "      <th>Null</th>\n",
              "      <td>2.677951e+08</td>\n",
              "      <td>53739.845000</td>\n",
              "      <td>30.333333</td>\n",
              "      <td>2.166667</td>\n",
              "      <td>26166.666667</td>\n",
              "      <td>15.000000</td>\n",
              "      <td>65.000000</td>\n",
              "      <td>0.500000</td>\n",
              "      <td>1.000000</td>\n",
              "      <td>2.000000</td>\n",
              "      <td>0.000000</td>\n",
              "      <td>0.333333</td>\n",
              "      <td>0.333333</td>\n",
              "    </tr>\n",
              "    <tr>\n",
              "      <th>Separated</th>\n",
              "      <td>5.228936e+08</td>\n",
              "      <td>99205.775671</td>\n",
              "      <td>39.289694</td>\n",
              "      <td>3.597772</td>\n",
              "      <td>38833.983287</td>\n",
              "      <td>12.808053</td>\n",
              "      <td>87.576602</td>\n",
              "      <td>0.738162</td>\n",
              "      <td>0.920334</td>\n",
              "      <td>28.476323</td>\n",
              "      <td>0.083464</td>\n",
              "      <td>0.270195</td>\n",
              "      <td>0.344847</td>\n",
              "    </tr>\n",
              "    <tr>\n",
              "      <th>Single</th>\n",
              "      <td>4.983401e+08</td>\n",
              "      <td>73834.545901</td>\n",
              "      <td>29.182060</td>\n",
              "      <td>3.734827</td>\n",
              "      <td>31461.617690</td>\n",
              "      <td>14.051537</td>\n",
              "      <td>82.754025</td>\n",
              "      <td>0.680063</td>\n",
              "      <td>0.914673</td>\n",
              "      <td>35.114306</td>\n",
              "      <td>0.100821</td>\n",
              "      <td>0.311445</td>\n",
              "      <td>0.372430</td>\n",
              "    </tr>\n",
              "    <tr>\n",
              "      <th>Widowed</th>\n",
              "      <td>4.973961e+08</td>\n",
              "      <td>95494.077764</td>\n",
              "      <td>41.680511</td>\n",
              "      <td>3.395101</td>\n",
              "      <td>39321.086262</td>\n",
              "      <td>12.818646</td>\n",
              "      <td>86.006390</td>\n",
              "      <td>0.728435</td>\n",
              "      <td>0.900958</td>\n",
              "      <td>26.991480</td>\n",
              "      <td>0.082586</td>\n",
              "      <td>0.275825</td>\n",
              "      <td>0.357827</td>\n",
              "    </tr>\n",
              "  </tbody>\n",
              "</table>\n",
              "</div>"
            ],
            "text/plain": [
              "                         clientId   clientIncome  clientAge  loanNumber  \\\n",
              "clientMaritalStatus                                                       \n",
              "Divorced             3.661157e+08  105000.000000  45.000000    3.000000   \n",
              "Married              4.972362e+08  104808.194552  37.250772    3.409243   \n",
              "Null                 2.677951e+08   53739.845000  30.333333    2.166667   \n",
              "Separated            5.228936e+08   99205.775671  39.289694    3.597772   \n",
              "Single               4.983401e+08   73834.545901  29.182060    3.734827   \n",
              "Widowed              4.973961e+08   95494.077764  41.680511    3.395101   \n",
              "\n",
              "                       loanAmount  interestRate   loanTerm  max_amount_taken  \\\n",
              "clientMaritalStatus                                                            \n",
              "Divorced             27333.333333     15.833333  70.000000          1.000000   \n",
              "Married              38431.636878     12.746401  87.531348          0.725378   \n",
              "Null                 26166.666667     15.000000  65.000000          0.500000   \n",
              "Separated            38833.983287     12.808053  87.576602          0.738162   \n",
              "Single               31461.617690     14.051537  82.754025          0.680063   \n",
              "Widowed              39321.086262     12.818646  86.006390          0.728435   \n",
              "\n",
              "                     max_tenor_taken  settleDays  firstPaymentRatio  \\\n",
              "clientMaritalStatus                                                   \n",
              "Divorced                    1.000000    7.000000           0.000000   \n",
              "Married                     0.916004   30.656482           0.096114   \n",
              "Null                        1.000000    2.000000           0.000000   \n",
              "Separated                   0.920334   28.476323           0.083464   \n",
              "Single                      0.914673   35.114306           0.100821   \n",
              "Widowed                     0.900958   26.991480           0.082586   \n",
              "\n",
              "                     firstPaymentDefault  loanDefault  \n",
              "clientMaritalStatus                                    \n",
              "Divorced                        0.333333     0.333333  \n",
              "Married                         0.280634     0.366362  \n",
              "Null                            0.333333     0.333333  \n",
              "Separated                       0.270195     0.344847  \n",
              "Single                          0.311445     0.372430  \n",
              "Widowed                         0.275825     0.357827  "
            ]
          },
          "metadata": {
            "tags": []
          },
          "execution_count": 11
        }
      ]
    },
    {
      "metadata": {
        "id": "7fGOyFrbWu05",
        "colab_type": "code",
        "outputId": "7fa2e20d-0c55-43b8-a63b-765556579e66",
        "colab": {
          "base_uri": "https://localhost:8080/",
          "height": 255
        }
      },
      "cell_type": "code",
      "source": [
        "data.groupby('clientLoanPurpose').mean()"
      ],
      "execution_count": 0,
      "outputs": [
        {
          "output_type": "execute_result",
          "data": {
            "text/html": [
              "<div>\n",
              "<style scoped>\n",
              "    .dataframe tbody tr th:only-of-type {\n",
              "        vertical-align: middle;\n",
              "    }\n",
              "\n",
              "    .dataframe tbody tr th {\n",
              "        vertical-align: top;\n",
              "    }\n",
              "\n",
              "    .dataframe thead th {\n",
              "        text-align: right;\n",
              "    }\n",
              "</style>\n",
              "<table border=\"1\" class=\"dataframe\">\n",
              "  <thead>\n",
              "    <tr style=\"text-align: right;\">\n",
              "      <th></th>\n",
              "      <th>clientId</th>\n",
              "      <th>clientIncome</th>\n",
              "      <th>clientAge</th>\n",
              "      <th>loanNumber</th>\n",
              "      <th>loanAmount</th>\n",
              "      <th>interestRate</th>\n",
              "      <th>loanTerm</th>\n",
              "      <th>max_amount_taken</th>\n",
              "      <th>max_tenor_taken</th>\n",
              "      <th>settleDays</th>\n",
              "      <th>firstPaymentRatio</th>\n",
              "      <th>firstPaymentDefault</th>\n",
              "      <th>loanDefault</th>\n",
              "    </tr>\n",
              "    <tr>\n",
              "      <th>clientLoanPurpose</th>\n",
              "      <th></th>\n",
              "      <th></th>\n",
              "      <th></th>\n",
              "      <th></th>\n",
              "      <th></th>\n",
              "      <th></th>\n",
              "      <th></th>\n",
              "      <th></th>\n",
              "      <th></th>\n",
              "      <th></th>\n",
              "      <th></th>\n",
              "      <th></th>\n",
              "      <th></th>\n",
              "    </tr>\n",
              "  </thead>\n",
              "  <tbody>\n",
              "    <tr>\n",
              "      <th>business</th>\n",
              "      <td>4.988771e+08</td>\n",
              "      <td>94393.284947</td>\n",
              "      <td>33.554827</td>\n",
              "      <td>3.403794</td>\n",
              "      <td>35908.142980</td>\n",
              "      <td>13.422613</td>\n",
              "      <td>86.357121</td>\n",
              "      <td>0.773210</td>\n",
              "      <td>0.939931</td>\n",
              "      <td>39.917950</td>\n",
              "      <td>0.121397</td>\n",
              "      <td>0.326859</td>\n",
              "      <td>0.397045</td>\n",
              "    </tr>\n",
              "    <tr>\n",
              "      <th>education</th>\n",
              "      <td>4.952692e+08</td>\n",
              "      <td>81046.734165</td>\n",
              "      <td>35.067357</td>\n",
              "      <td>3.488149</td>\n",
              "      <td>35956.503781</td>\n",
              "      <td>13.085713</td>\n",
              "      <td>85.672619</td>\n",
              "      <td>0.672047</td>\n",
              "      <td>0.910593</td>\n",
              "      <td>26.318485</td>\n",
              "      <td>0.072444</td>\n",
              "      <td>0.265235</td>\n",
              "      <td>0.342886</td>\n",
              "    </tr>\n",
              "    <tr>\n",
              "      <th>house</th>\n",
              "      <td>4.943528e+08</td>\n",
              "      <td>88297.531062</td>\n",
              "      <td>34.267896</td>\n",
              "      <td>3.763804</td>\n",
              "      <td>36109.015288</td>\n",
              "      <td>12.966078</td>\n",
              "      <td>86.142086</td>\n",
              "      <td>0.624236</td>\n",
              "      <td>0.883363</td>\n",
              "      <td>23.179406</td>\n",
              "      <td>0.067785</td>\n",
              "      <td>0.250000</td>\n",
              "      <td>0.338579</td>\n",
              "    </tr>\n",
              "    <tr>\n",
              "      <th>medical</th>\n",
              "      <td>4.957074e+08</td>\n",
              "      <td>85407.557332</td>\n",
              "      <td>32.488863</td>\n",
              "      <td>3.472089</td>\n",
              "      <td>31531.247182</td>\n",
              "      <td>13.828390</td>\n",
              "      <td>81.767517</td>\n",
              "      <td>0.667238</td>\n",
              "      <td>0.911804</td>\n",
              "      <td>32.219587</td>\n",
              "      <td>0.096194</td>\n",
              "      <td>0.310488</td>\n",
              "      <td>0.372982</td>\n",
              "    </tr>\n",
              "    <tr>\n",
              "      <th>other</th>\n",
              "      <td>5.005846e+08</td>\n",
              "      <td>90527.093949</td>\n",
              "      <td>33.365532</td>\n",
              "      <td>3.857894</td>\n",
              "      <td>34327.026684</td>\n",
              "      <td>13.307633</td>\n",
              "      <td>83.549154</td>\n",
              "      <td>0.622298</td>\n",
              "      <td>0.880110</td>\n",
              "      <td>24.201116</td>\n",
              "      <td>0.074072</td>\n",
              "      <td>0.252678</td>\n",
              "      <td>0.330766</td>\n",
              "    </tr>\n",
              "  </tbody>\n",
              "</table>\n",
              "</div>"
            ],
            "text/plain": [
              "                       clientId  clientIncome  clientAge  loanNumber  \\\n",
              "clientLoanPurpose                                                      \n",
              "business           4.988771e+08  94393.284947  33.554827    3.403794   \n",
              "education          4.952692e+08  81046.734165  35.067357    3.488149   \n",
              "house              4.943528e+08  88297.531062  34.267896    3.763804   \n",
              "medical            4.957074e+08  85407.557332  32.488863    3.472089   \n",
              "other              5.005846e+08  90527.093949  33.365532    3.857894   \n",
              "\n",
              "                     loanAmount  interestRate   loanTerm  max_amount_taken  \\\n",
              "clientLoanPurpose                                                            \n",
              "business           35908.142980     13.422613  86.357121          0.773210   \n",
              "education          35956.503781     13.085713  85.672619          0.672047   \n",
              "house              36109.015288     12.966078  86.142086          0.624236   \n",
              "medical            31531.247182     13.828390  81.767517          0.667238   \n",
              "other              34327.026684     13.307633  83.549154          0.622298   \n",
              "\n",
              "                   max_tenor_taken  settleDays  firstPaymentRatio  \\\n",
              "clientLoanPurpose                                                   \n",
              "business                  0.939931   39.917950           0.121397   \n",
              "education                 0.910593   26.318485           0.072444   \n",
              "house                     0.883363   23.179406           0.067785   \n",
              "medical                   0.911804   32.219587           0.096194   \n",
              "other                     0.880110   24.201116           0.074072   \n",
              "\n",
              "                   firstPaymentDefault  loanDefault  \n",
              "clientLoanPurpose                                    \n",
              "business                      0.326859     0.397045  \n",
              "education                     0.265235     0.342886  \n",
              "house                         0.250000     0.338579  \n",
              "medical                       0.310488     0.372982  \n",
              "other                         0.252678     0.330766  "
            ]
          },
          "metadata": {
            "tags": []
          },
          "execution_count": 12
        }
      ]
    },
    {
      "metadata": {
        "id": "jXti2UFtXMOn",
        "colab_type": "text"
      },
      "cell_type": "markdown",
      "source": [
        "#More EDA : Visualizations"
      ]
    },
    {
      "metadata": {
        "id": "3iOH8lFaWu-Q",
        "colab_type": "code",
        "outputId": "2e0c52dc-87d7-4b09-c4d6-aadccbdec284",
        "colab": {
          "base_uri": "https://localhost:8080/",
          "height": 345
        }
      },
      "cell_type": "code",
      "source": [
        "%matplotlib inline\n",
        "pd.crosstab(data.clientLoanPurpose,data.loanDefault).plot(kind='bar')\n",
        "plt.title('clientLoanPurpose')\n",
        "plt.xlabel('Loan purpose')\n",
        "plt.ylabel('Counts of clients')"
      ],
      "execution_count": 0,
      "outputs": [
        {
          "output_type": "execute_result",
          "data": {
            "text/plain": [
              "Text(0, 0.5, 'Counts of clients')"
            ]
          },
          "metadata": {
            "tags": []
          },
          "execution_count": 9
        },
        {
          "output_type": "display_data",
          "data": {
            "image/png": "[encoded data removed]",
            "text/plain": [
              "<Figure size 432x288 with 1 Axes>"
            ]
          },
          "metadata": {
            "tags": []
          }
        }
      ]
    },
    {
      "metadata": {
        "id": "ZA4eKu6fWu6a",
        "colab_type": "code",
        "outputId": "a935d5bf-7f9e-4c13-cc3a-9df86c76909d",
        "colab": {
          "base_uri": "https://localhost:8080/",
          "height": 318
        }
      },
      "cell_type": "code",
      "source": [
        "%matplotlib inline\n",
        "pd.crosstab(data.loanTerm,data.loanDefault).plot(kind='bar')\n",
        "plt.title('Loan Terms periods')\n",
        "plt.xlabel('Loan terms')\n",
        "plt.ylabel('Counts of clients')"
      ],
      "execution_count": 0,
      "outputs": [
        {
          "output_type": "execute_result",
          "data": {
            "text/plain": [
              "Text(0, 0.5, 'Counts of clients')"
            ]
          },
          "metadata": {
            "tags": []
          },
          "execution_count": 8
        },
        {
          "output_type": "display_data",
          "data": {
            "image/png": "[encoded data removed]",
            "text/plain": [
              "<Figure size 432x288 with 1 Axes>"
            ]
          },
          "metadata": {
            "tags": []
          }
        }
      ]
    },
    {
      "metadata": {
        "id": "MAxrcp4vTLOZ",
        "colab_type": "code",
        "outputId": "e526bef7-3f44-4475-d8e0-f67ffd267fbf",
        "colab": {
          "base_uri": "https://localhost:8080/",
          "height": 429
        }
      },
      "cell_type": "code",
      "source": [
        "table=pd.crosstab(data.clientMaritalStatus,data.loanDefault)\n",
        "table.div(table.sum(1).astype(float), axis=0).plot(kind='bar', stacked=True)\n",
        "plt.title('Stacked Bar Chart of Marital Status')\n",
        "plt.xlabel('Marital Status')\n",
        "plt.ylabel('Proportion of Customers')"
      ],
      "execution_count": 0,
      "outputs": [
        {
          "output_type": "execute_result",
          "data": {
            "text/plain": [
              "Text(0, 0.5, 'Proportion of Customers')"
            ]
          },
          "metadata": {
            "tags": []
          },
          "execution_count": 6
        },
        {
          "output_type": "display_data",
          "data": {
            "image/png": "[encoded data removed]",
            "text/plain": [
              "<Figure size 576x396 with 1 Axes>"
            ]
          },
          "metadata": {
            "tags": []
          }
        }
      ]
    },
    {
      "metadata": {
        "id": "RMjm5Fr29BkT",
        "colab_type": "code",
        "outputId": "b7cfd099-9a36-4521-d453-a6f2e39fd74a",
        "colab": {
          "base_uri": "https://localhost:8080/",
          "height": 423
        }
      },
      "cell_type": "code",
      "source": [
        "table=pd.crosstab(data.clientGender,data.loanDefault)\n",
        "table.div(table.sum(1).astype(float), axis=0).plot(kind='bar', stacked=True)\n",
        "plt.title('Stacked Bar Chart of gender')\n",
        "plt.xlabel('Clients gender')\n",
        "plt.ylabel('Proportion of Customers')"
      ],
      "execution_count": 0,
      "outputs": [
        {
          "output_type": "execute_result",
          "data": {
            "text/plain": [
              "Text(0, 0.5, 'Proportion of Customers')"
            ]
          },
          "metadata": {
            "tags": []
          },
          "execution_count": 7
        },
        {
          "output_type": "display_data",
          "data": {
            "image/png": "[encoded data removed]",
            "text/plain": [
              "<Figure size 576x396 with 1 Axes>"
            ]
          },
          "metadata": {
            "tags": []
          }
        }
      ]
    },
    {
      "metadata": {
        "id": "-aDJgtyW9Bgs",
        "colab_type": "code",
        "outputId": "45bc8a95-5b08-47e9-901a-e603490dbc8e",
        "colab": {
          "base_uri": "https://localhost:8080/",
          "height": 345
        }
      },
      "cell_type": "code",
      "source": [
        "table=pd.crosstab(data.clientLoanPurpose,data.loanDefault)\n",
        "table.div(table.sum(1).astype(float), axis=0).plot(kind='bar', stacked=True)\n",
        "plt.title('Stacked Bar Chart of Loan purpose')\n",
        "plt.xlabel('Loan Purpose')\n",
        "plt.ylabel('Proportion of Customers')"
      ],
      "execution_count": 0,
      "outputs": [
        {
          "output_type": "execute_result",
          "data": {
            "text/plain": [
              "Text(0, 0.5, 'Proportion of Customers')"
            ]
          },
          "metadata": {
            "tags": []
          },
          "execution_count": 10
        },
        {
          "output_type": "display_data",
          "data": {
            "image/png": "[encoded data removed]",
            "text/plain": [
              "<Figure size 432x288 with 1 Axes>"
            ]
          },
          "metadata": {
            "tags": []
          }
        }
      ]
    },
    {
      "metadata": {
        "id": "4PZySTj0ShIj",
        "colab_type": "code",
        "outputId": "529e5e16-0f37-474e-bc23-088a27fb2cec",
        "colab": {
          "base_uri": "https://localhost:8080/",
          "height": 294
        }
      },
      "cell_type": "code",
      "source": [
        "classes = data.groupby('loanDefault')\n",
        "data_mean = classes['clientIncome'].mean().reset_index()\n",
        "sns.barplot(x='loanDefault', y='clientIncome', data=data_mean)\n",
        "plt.title('Mean Income grouped according to Classes');"
      ],
      "execution_count": 0,
      "outputs": [
        {
          "output_type": "display_data",
          "data": {
            "image/png": "[encoded data removed]",
            "text/plain": [
              "<Figure size 432x288 with 1 Axes>"
            ]
          },
          "metadata": {
            "tags": []
          }
        }
      ]
    },
    {
      "metadata": {
        "id": "dFPiWraMTw5S",
        "colab_type": "code",
        "outputId": "e6d924b9-d34c-4c80-c38a-8990a59db97c",
        "colab": {
          "base_uri": "https://localhost:8080/",
          "height": 294
        }
      },
      "cell_type": "code",
      "source": [
        "classes = data.groupby('loanDefault')\n",
        "data_mean = classes['clientIncome'].max().reset_index()\n",
        "sns.barplot(x='loanDefault', y='clientIncome', data=data_mean)\n",
        "plt.title('Maximum Income grouped according to Classes');"
      ],
      "execution_count": 0,
      "outputs": [
        {
          "output_type": "display_data",
          "data": {
            "image/png": "[encoded data removed]",
            "text/plain": [
              "<Figure size 432x288 with 1 Axes>"
            ]
          },
          "metadata": {
            "tags": []
          }
        }
      ]
    },
    {
      "metadata": {
        "id": "R4JF_Pa1-e8S",
        "colab_type": "code",
        "outputId": "d3314600-b34e-476c-e8d5-ee36e7319eef",
        "colab": {
          "base_uri": "https://localhost:8080/",
          "height": 311
        }
      },
      "cell_type": "code",
      "source": [
        "data.clientAge.hist()\n",
        "plt.title('Histogram of Age')\n",
        "plt.xlabel('Age')\n",
        "plt.ylabel('Frequency')"
      ],
      "execution_count": 0,
      "outputs": [
        {
          "output_type": "execute_result",
          "data": {
            "text/plain": [
              "Text(0, 0.5, 'Frequency')"
            ]
          },
          "metadata": {
            "tags": []
          },
          "execution_count": 13
        },
        {
          "output_type": "display_data",
          "data": {
            "image/png": "[encoded data removed]",
            "text/plain": [
              "<Figure size 432x288 with 1 Axes>"
            ]
          },
          "metadata": {
            "tags": []
          }
        }
      ]
    },
    {
      "metadata": {
        "id": "jVDl-I3w-x_K",
        "colab_type": "text"
      },
      "cell_type": "markdown",
      "source": [
        "most clients are in the 30-40 age range"
      ]
    },
    {
      "metadata": {
        "id": "mGS7cy6A_GHF",
        "colab_type": "text"
      },
      "cell_type": "markdown",
      "source": [
        "#One hot encoding. Let's create the dummy variables"
      ]
    },
    {
      "metadata": {
        "id": "eynu1vpX-QMZ",
        "colab_type": "code",
        "outputId": "072d713b-31b2-4153-fff5-05ba60cd59ae",
        "colab": {
          "base_uri": "https://localhost:8080/",
          "height": 68
        }
      },
      "cell_type": "code",
      "source": [
        "def encode_string(cat_features):\n",
        "    ## First encode the strings to numeric categories\n",
        "    enc = preprocessing.LabelEncoder()\n",
        "    enc.fit(cat_features)\n",
        "    enc_cat_features = enc.transform(cat_features)\n",
        "    \n",
        "    ## Now, apply one hot encoding\n",
        "    ohe = preprocessing.OneHotEncoder()\n",
        "    encoded = ohe.fit(enc_cat_features.reshape(-1,1))\n",
        "    return encoded.transform(enc_cat_features.reshape(-1,1)).toarray()\n",
        "\n",
        "categorical_columns = ['clientGender','clientMaritalStatus',\n",
        "                       'clientResidentialStauts']\n",
        "\n",
        "Features = encode_string(data['clientLoanPurpose'])\n",
        "for col in categorical_columns:\n",
        "    temp = encode_string(data[col])\n",
        "    Features = np.concatenate([Features, temp], axis = 1)\n",
        "\n",
        "print(Features.shape)\n",
        "print(Features[:2, :])    "
      ],
      "execution_count": 0,
      "outputs": [
        {
          "output_type": "stream",
          "text": [
            "(159596, 19)\n",
            "[[0. 0. 1. 0. 0. 1. 0. 0. 0. 0. 0. 1. 0. 0. 0. 0. 1. 0. 0.]\n",
            " [0. 1. 0. 0. 0. 1. 0. 0. 1. 0. 0. 0. 0. 0. 0. 0. 1. 0. 0.]]\n"
          ],
          "name": "stdout"
        }
      ]
    },
    {
      "metadata": {
        "id": "1D-otZmyo9du",
        "colab_type": "text"
      },
      "cell_type": "markdown",
      "source": [
        "** Next the numeric features must be concatenated to the numpy array by executing the code in the cell below.**\n",
        "\n",
        "The numeric features are listed below in the list1 dataframe\n"
      ]
    },
    {
      "metadata": {
        "id": "fMcjOu1DmNtN",
        "colab_type": "code",
        "colab": {}
      },
      "cell_type": "code",
      "source": [
        "list1= data[['clientIncome', 'clientAge','clientNumberPhoneContacts','loanNumber','clientAvgCallsPerDay','loanAmount', 'interestRate','loanTerm',\n",
        "                            'max_amount_taken', 'max_tenor_taken','settleDays','firstPaymentRatio','firstPaymentDefault', 'clientTimeAtEmployer']]\n",
        "\n",
        "lists = list1.replace('Null',0)\n",
        "lists.fillna(0,inplace=True)\n"
      ],
      "execution_count": 0,
      "outputs": []
    },
    {
      "metadata": {
        "id": "nsDldaGsa0Cg",
        "colab_type": "text"
      },
      "cell_type": "markdown",
      "source": [
        "some columns were observed to contain \"Null\" as their values. A box plot is plotted for the numerical  features to get a good picture of the distribution of data. The 'Null' value will be replaced with the median value of the column. The Null values were converted to zero first, before being replaced with the median values.The mean was not used because outliers were observed in some columns and it will affect the computed values as seen in the plot below."
      ]
    },
    {
      "metadata": {
        "id": "Pn75Qhsmdv-m",
        "colab_type": "code",
        "outputId": "a2e3cfdc-2129-431f-c8c7-6a3745349c40",
        "colab": {
          "base_uri": "https://localhost:8080/",
          "height": 71
        }
      },
      "cell_type": "code",
      "source": [
        "from sklearn.preprocessing import Imputer\n",
        "imp = Imputer(missing_values= 0, strategy='median', axis=1)\n",
        "lists= imp.fit_transform(lists)\n",
        "\n",
        "#This will look for all columns where we have 0 value and replace the 0 value with the median."
      ],
      "execution_count": 0,
      "outputs": [
        {
          "output_type": "stream",
          "text": [
            "/usr/local/lib/python3.6/dist-packages/sklearn/utils/deprecation.py:58: DeprecationWarning: Class Imputer is deprecated; Imputer was deprecated in version 0.20 and will be removed in 0.22. Import impute.SimpleImputer from sklearn instead.\n",
            "  warnings.warn(msg, category=DeprecationWarning)\n"
          ],
          "name": "stderr"
        }
      ]
    },
    {
      "metadata": {
        "id": "nWB-6Sp4XE7d",
        "colab_type": "code",
        "outputId": "ab6b9f7d-642b-45af-8a28-ec7c29d1c374",
        "colab": {
          "base_uri": "https://localhost:8080/",
          "height": 663
        }
      },
      "cell_type": "code",
      "source": [
        "plt.figure(figsize=(20,10))\n",
        "sns.boxplot(list1)"
      ],
      "execution_count": 0,
      "outputs": [
        {
          "output_type": "stream",
          "text": [
            "/usr/local/lib/python3.6/dist-packages/seaborn/categorical.py:2171: UserWarning: The boxplot API has been changed. Attempting to adjust your arguments for the new API (which might not work). Please update your code. See the version 0.6 release notes for more info.\n",
            "  warnings.warn(msg, UserWarning)\n"
          ],
          "name": "stderr"
        },
        {
          "output_type": "execute_result",
          "data": {
            "text/plain": [
              "<matplotlib.axes._subplots.AxesSubplot at 0x7f9f0be99710>"
            ]
          },
          "metadata": {
            "tags": []
          },
          "execution_count": 17
        },
        {
          "output_type": "display_data",
          "data": {
            "image/png": "[encoded data removed]",
            "text/plain": [
              "<Figure size 1440x720 with 1 Axes>"
            ]
          },
          "metadata": {
            "tags": []
          }
        }
      ]
    },
    {
      "metadata": {
        "id": "WQjo-E61oeUt",
        "colab_type": "code",
        "outputId": "cd0b3852-03cc-490f-ed2a-7ba3bf61ed14",
        "colab": {
          "base_uri": "https://localhost:8080/",
          "height": 340
        }
      },
      "cell_type": "code",
      "source": [
        "x1 = np.concatenate([Features, np.array(lists)], axis = 1)\n",
        "print(x1.shape)\n",
        "print(x1[:2, :])  "
      ],
      "execution_count": 0,
      "outputs": [
        {
          "output_type": "stream",
          "text": [
            "(159596, 33)\n",
            "[[0.00000000e+00 0.00000000e+00 1.00000000e+00 0.00000000e+00\n",
            "  0.00000000e+00 1.00000000e+00 0.00000000e+00 0.00000000e+00\n",
            "  0.00000000e+00 0.00000000e+00 0.00000000e+00 1.00000000e+00\n",
            "  0.00000000e+00 0.00000000e+00 0.00000000e+00 0.00000000e+00\n",
            "  1.00000000e+00 0.00000000e+00 0.00000000e+00 3.50000000e+04\n",
            "  2.80000000e+01 1.91700000e+03 4.00000000e+00 2.59357403e-01\n",
            "  3.75000000e+04 1.25000000e+01 9.00000000e+01 1.00000000e+00\n",
            "  1.00000000e+00 1.00000000e+00 1.25000000e+01 1.25000000e+01\n",
            "  1.25000000e+01]\n",
            " [0.00000000e+00 1.00000000e+00 0.00000000e+00 0.00000000e+00\n",
            "  0.00000000e+00 1.00000000e+00 0.00000000e+00 0.00000000e+00\n",
            "  1.00000000e+00 0.00000000e+00 0.00000000e+00 0.00000000e+00\n",
            "  0.00000000e+00 0.00000000e+00 0.00000000e+00 0.00000000e+00\n",
            "  1.00000000e+00 0.00000000e+00 0.00000000e+00 7.08333300e+04\n",
            "  4.10000000e+01 5.67800000e+03 8.00000000e+00 2.96338843e+02\n",
            "  8.45000000e+04 7.50000000e+00 1.80000000e+02 1.10500000e+02\n",
            "  1.00000000e+00 1.00000000e+00 1.10500000e+02 1.10500000e+02\n",
            "  1.10500000e+02]]\n"
          ],
          "name": "stdout"
        }
      ]
    },
    {
      "metadata": {
        "id": "JCIkeC9Vr90O",
        "colab_type": "code",
        "colab": {}
      },
      "cell_type": "code",
      "source": [
        "y1 = np.array(data['loanDefault'])"
      ],
      "execution_count": 0,
      "outputs": []
    },
    {
      "metadata": {
        "id": "RtXvK0iATgHY",
        "colab_type": "text"
      },
      "cell_type": "markdown",
      "source": [
        "** Let's balance the classes: Over-sampling technique  using SMOTE from the imbalance learn python library**\n",
        "\n",
        "first, we split our data into training and test sets"
      ]
    },
    {
      "metadata": {
        "id": "3UR95Lwwp6lO",
        "colab_type": "code",
        "outputId": "6721d5c8-0ede-487d-be7b-5edd03f87e9d",
        "colab": {
          "base_uri": "https://localhost:8080/",
          "height": 85
        }
      },
      "cell_type": "code",
      "source": [
        "from sklearn.model_selection import train_test_split\n",
        "x1_train, x_test, y1_train, y_test = train_test_split(x1, y1, test_size=0.3, random_state=42)\n",
        "print('Training Features Shape:', x1_train.shape)\n",
        "print('Training Labels Shape:', y1_train.shape)\n",
        "print('Testing Features Shape:', x_test.shape)\n",
        "print('Testing Labels Shape:', y_test.shape)"
      ],
      "execution_count": 0,
      "outputs": [
        {
          "output_type": "stream",
          "text": [
            "Training Features Shape: (111717, 33)\n",
            "Training Labels Shape: (111717,)\n",
            "Testing Features Shape: (47879, 33)\n",
            "Testing Labels Shape: (47879,)\n"
          ],
          "name": "stdout"
        }
      ]
    },
    {
      "metadata": {
        "id": "QzvuEt3HUqTP",
        "colab_type": "text"
      },
      "cell_type": "markdown",
      "source": [
        "We apply the over-sampling technique to only the training set"
      ]
    },
    {
      "metadata": {
        "id": "8JvWvWN7r9we",
        "colab_type": "code",
        "outputId": "a84aaa21-9c32-4e00-8841-667c6ba20fa5",
        "colab": {
          "base_uri": "https://localhost:8080/",
          "height": 85
        }
      },
      "cell_type": "code",
      "source": [
        "import imblearn\n",
        "from imblearn.over_sampling import SMOTE\n",
        "\n",
        "smote = SMOTE(ratio='minority')\n",
        "x_train, y_train = smote.fit_sample(x1_train, y1_train)\n",
        "print('Training Features Balanced Shape:', x_train.shape)\n",
        "print('Training Labels Balanced Shape:', y_train.shape)\n",
        "print('Testing Features Balanced Shape:', x_test.shape)\n",
        "print('Testing Labels Balanced Shape:', y_test.shape)\n"
      ],
      "execution_count": 0,
      "outputs": [
        {
          "output_type": "stream",
          "text": [
            "Training Features Balanced Shape: (140858, 33)\n",
            "Training Labels Balanced Shape: (140858,)\n",
            "Testing Features Balanced Shape: (47879, 33)\n",
            "Testing Labels Balanced Shape: (47879,)\n"
          ],
          "name": "stdout"
        }
      ]
    },
    {
      "metadata": {
        "id": "ahFC6vv4hoHn",
        "colab_type": "text"
      },
      "cell_type": "markdown",
      "source": [
        "#Feature selection with PCA\n",
        "\n",
        "I performed some feature selection with PCA but noticed that my accuracy score was lower, hence i decided to use all features. It seems most of the features are important to our target variable prediction.with principal components= 5, i got accuracy of 0.64, principal component = 11, accuracy is 0.66, while with all features, accuracy is 0.74. Below are the codes i used for the PCA .\n",
        "\n",
        "from sklearn.decomposition import PCA\n",
        "\n",
        "-create pca\n",
        "\n",
        "pca = PCA(n_components=11)\n",
        "\n",
        "-fit the data to the model\n",
        "\n",
        "principalComponents = pca.fit_transform(x1)\n",
        "\n",
        "-create dataframe containing principal components\n",
        "\n",
        "x = pd.DataFrame(data = principalComponents)"
      ]
    },
    {
      "metadata": {
        "id": "abo4kVQKWs8c",
        "colab_type": "text"
      },
      "cell_type": "markdown",
      "source": [
        "**Lets scale our data :**  We use the StandardScaler function from the Scikit Learn preprocessing package to Zscore scale the numeric features. The scaler is fit only on the training data. The trained scaler is then applied to the test data. Test data should always be scaled using the parameters from the training data."
      ]
    },
    {
      "metadata": {
        "id": "Ur5H5ZDgq-s9",
        "colab_type": "code",
        "colab": {}
      },
      "cell_type": "code",
      "source": [
        "from sklearn.preprocessing import StandardScaler\n",
        "sc_X = StandardScaler()\n",
        "x_train = sc_X.fit_transform(x_train)\n",
        "x_test = sc_X.transform(x_test)\n"
      ],
      "execution_count": 0,
      "outputs": []
    },
    {
      "metadata": {
        "id": "p6-lG30Wfspl",
        "colab_type": "text"
      },
      "cell_type": "markdown",
      "source": [
        "#Lets implement our model : Random Forest and Confusion matrix\n",
        "\n",
        "\n",
        "Most important hyperparameters of Random Forest:\n",
        "\n",
        "1)n_estimators = n of trees\n",
        "\n",
        "2)max_features = max number of features considered for splitting a node\n",
        "\n",
        "3)max_depth = max number of levels in each decision tree\n",
        "\n",
        "4)min_samples_split = min number of data points placed in a node before the node is split\n",
        "\n",
        "5)min_samples_leaf = min number of data points allowed in a leaf node\n",
        "\n",
        "6)bootstrap = method for sampling data points (with or without replacement)\n",
        "\n",
        "\n",
        "\n",
        "\n",
        "\n"
      ]
    },
    {
      "metadata": {
        "id": "EDiQrqXrk05_",
        "colab_type": "text"
      },
      "cell_type": "markdown",
      "source": [
        "**Based on the above explanations, I tuned my hyperparameters severally with different values before concluding to use the values in my classifier model below.**"
      ]
    },
    {
      "metadata": {
        "id": "hD1TlH_qyrt6",
        "colab_type": "code",
        "outputId": "67311eb1-9ab5-48a3-e1f0-2c29e0fb6142",
        "colab": {
          "base_uri": "https://localhost:8080/",
          "height": 364
        }
      },
      "cell_type": "code",
      "source": [
        "#Predicting the test set with random forest classifier \n",
        "\n",
        "from sklearn.ensemble import RandomForestClassifier\n",
        "from sklearn.metrics import f1_score,confusion_matrix\n",
        "from sklearn.metrics import accuracy_score\n",
        "\n",
        "#In order to get the best of the random forest classifier, the following hyper-parameters were tuned from the default values\n",
        "clf_rf = RandomForestClassifier(random_state=50, n_estimators=100, min_samples_leaf = 60,max_depth= 120, max_features = 0.9, n_jobs = -1, min_samples_split= 10)      \n",
        "clr_rf = clf_rf.fit(x_train,y_train)\n",
        "y_pred = clf_rf.predict(x_test)\n",
        "\n",
        "#Ploting the confusion matrix\n",
        "cm2 = confusion_matrix(y_test,y_pred)\n",
        "sns.heatmap(cm2,annot=True,fmt=\"d\")"
      ],
      "execution_count": 0,
      "outputs": [
        {
          "output_type": "execute_result",
          "data": {
            "text/plain": [
              "<matplotlib.axes._subplots.AxesSubplot at 0x7f1a10096c88>"
            ]
          },
          "metadata": {
            "tags": []
          },
          "execution_count": 28
        },
        {
          "output_type": "display_data",
          "data": {
            "image/png": "[encoded data removed]",
            "text/plain": [
              "<Figure size 576x396 with 2 Axes>"
            ]
          },
          "metadata": {
            "tags": []
          }
        }
      ]
    },
    {
      "metadata": {
        "id": "5JzgNJT5vqg-",
        "colab_type": "code",
        "outputId": "7c42dac0-91d2-4a79-f9d6-3d012ce3dbfb",
        "colab": {
          "base_uri": "https://localhost:8080/",
          "height": 136
        }
      },
      "cell_type": "code",
      "source": [
        "from sklearn.model_selection import cross_val_score\n",
        "clf_rf_score = cross_val_score(clf_rf, x1, y1, cv=10, scoring='roc_auc')\n",
        "print(\"=== All AUC Scores ===\")\n",
        "print(clf_rf_score)\n",
        "print('\\n')\n",
        "print(\"=== Mean AUC Score ===\")\n",
        "print(\"Mean AUC Score - Random Forest: \", round(clf_rf_score.mean(),2))"
      ],
      "execution_count": 0,
      "outputs": [
        {
          "output_type": "stream",
          "text": [
            "=== All AUC Scores ===\n",
            "[0.75220231 0.78642918 0.79717822 0.75228884 0.78271196 0.79497718\n",
            " 0.79166238 0.77523554 0.77996955 0.73781747]\n",
            "\n",
            "\n",
            "=== Mean AUC Score ===\n",
            "Mean AUC Score - Random Forest:  0.7750472617412962\n"
          ],
          "name": "stdout"
        }
      ]
    },
    {
      "metadata": {
        "id": "3_a9z9pyk9bI",
        "colab_type": "text"
      },
      "cell_type": "markdown",
      "source": [
        "**Let's Plot the ROC curve**"
      ]
    },
    {
      "metadata": {
        "id": "N4e3i9tX-v0o",
        "colab_type": "code",
        "outputId": "0a6585fb-aab7-438b-8a8e-a7858a62c9ea",
        "colab": {
          "base_uri": "https://localhost:8080/",
          "height": 376
        }
      },
      "cell_type": "code",
      "source": [
        "from sklearn.metrics import roc_auc_score\n",
        "from sklearn.metrics import roc_curve\n",
        "RF_roc_auc = roc_auc_score(y_test, y_pred)\n",
        "\n",
        "fpr, tpr, thresholds = roc_curve(y_test, clf_rf.predict_proba(x_test)[:,1])\n",
        "plt.figure()\n",
        "plt.plot(fpr, tpr, label='Random Forest (area = %0.2f)' % RF_roc_auc)\n",
        "plt.plot([0, 1], [0, 1],'r--')\n",
        "plt.xlim([0.0, 1.0])\n",
        "plt.ylim([0.0, 1.05])\n",
        "plt.xlabel('False Positive Rate')\n",
        "plt.ylabel('True Positive Rate')\n",
        "plt.title('Receiver operating characteristic')\n",
        "plt.legend(loc=\"lower right\")\n",
        "plt.savefig('RF_ROC')\n",
        "plt.show()"
      ],
      "execution_count": 0,
      "outputs": [
        {
          "output_type": "display_data",
          "data": {
            "image/png": "[encoded data removed]",
            "text/plain": [
              "<Figure size 576x396 with 1 Axes>"
            ]
          },
          "metadata": {
            "tags": []
          }
        }
      ]
    },
    {
      "metadata": {
        "colab_type": "text",
        "id": "OL8PUqIbkSLx"
      },
      "cell_type": "markdown",
      "source": [
        "**Performance Metrics: Evaluating the Random Forest Network model on Test set **"
      ]
    },
    {
      "metadata": {
        "id": "T8QCLgnqpSGs",
        "colab_type": "code",
        "outputId": "67203f07-754d-46ed-8dc5-27273b6eb87a",
        "colab": {
          "base_uri": "https://localhost:8080/",
          "height": 187
        }
      },
      "cell_type": "code",
      "source": [
        "from sklearn.metrics import classification_report\n",
        "print(classification_report(y_test, y_pred))\n",
        "ac = accuracy_score(y_test,y_pred)\n",
        "print('Accuracy of random forest classifier on test set: ', round(ac,2))"
      ],
      "execution_count": 0,
      "outputs": [
        {
          "output_type": "stream",
          "text": [
            "              precision    recall  f1-score   support\n",
            "\n",
            "           0       0.74      0.94      0.83     30311\n",
            "           1       0.81      0.44      0.57     17568\n",
            "\n",
            "   micro avg       0.76      0.76      0.76     47879\n",
            "   macro avg       0.78      0.69      0.70     47879\n",
            "weighted avg       0.77      0.76      0.74     47879\n",
            "\n",
            "Accuracy of random forest classifier on test set:  0.76\n"
          ],
          "name": "stdout"
        }
      ]
    },
    {
      "metadata": {
        "colab_type": "text",
        "id": "ESI2-98bkmOO"
      },
      "cell_type": "markdown",
      "source": [
        " **Performance Metrics: Evaluating the Random Forest model on Training set **"
      ]
    },
    {
      "metadata": {
        "id": "ck28Yf7rjFBL",
        "colab_type": "code",
        "outputId": "76c384e0-b7af-422d-96f3-8dc10ba3ebed",
        "colab": {
          "base_uri": "https://localhost:8080/",
          "height": 187
        }
      },
      "cell_type": "code",
      "source": [
        "from sklearn.metrics import classification_report\n",
        "\n",
        "y_pred2 = clf_rf.predict(x_train)\n",
        "print(classification_report(y_train, y_pred2))\n",
        "ac = accuracy_score(y_train,y_pred2)\n",
        "print('Accuracy of random forest classifier on train set: ',round(ac,2))"
      ],
      "execution_count": 0,
      "outputs": [
        {
          "output_type": "stream",
          "text": [
            "              precision    recall  f1-score   support\n",
            "\n",
            "           0       0.74      0.95      0.84     70429\n",
            "           1       0.94      0.67      0.78     70429\n",
            "\n",
            "   micro avg       0.81      0.81      0.81    140858\n",
            "   macro avg       0.84      0.81      0.81    140858\n",
            "weighted avg       0.84      0.81      0.81    140858\n",
            "\n",
            "Accuracy of random forest classifier on train set:  0.81\n"
          ],
          "name": "stdout"
        }
      ]
    },
    {
      "metadata": {
        "id": "VajfrsWGAuOH",
        "colab_type": "text"
      },
      "cell_type": "markdown",
      "source": [
        "**Interpretation**\n",
        "\n",
        "\n",
        "1. The confusion matrix shows the following characteristics based on the test set;\n",
        "\n",
        "    a) most of the positive cases (loan payment defaulters) are not correctly classified, 7740 vs. 9828. \n",
        "\n",
        "    b) most negative cases (non payment defaulters)are scored correctly, 28542 vs 1769.   \n",
        "\n",
        "2. The overall accuracy is 0.77.  Accuracy figures should always be regarded with healthy skepticism.\n",
        "\n",
        "3. The class imbalance is confirmed. of the 47879 test cases, 30311 are non loan defaulters while 17568 are loan payment defaulters. This shows most of the clients are non loan payment defaulters.\n",
        "\n",
        "4. The precision, recall and F1 all show that negative cases(non defaulters) are classified reasonably well than the positive cases (loan payment defaulters). It is these positive cases that are of greatest importance to 'Carbon' organization , hence more efforts could be done in the nearest future to improve the performance of the model in correctly predicting the loan payment defaulters. "
      ]
    },
    {
      "metadata": {
        "id": "NENj-NERSHmr",
        "colab_type": "text"
      },
      "cell_type": "markdown",
      "source": [
        "#More tuning of the hyperparameters of the random forest model with the Grid and Random regressors\n",
        "\n"
      ]
    },
    {
      "metadata": {
        "id": "zX9z1WwPlqmk",
        "colab_type": "text"
      },
      "cell_type": "markdown",
      "source": [
        "**Tuning hyperparameters with grid search**"
      ]
    },
    {
      "metadata": {
        "id": "yh7pqA01PN6_",
        "colab_type": "code",
        "outputId": "6b17f36a-deb6-4f98-f7c6-aaacf6143de7",
        "colab": {
          "base_uri": "https://localhost:8080/",
          "height": 3757
        }
      },
      "cell_type": "code",
      "source": [
        "from sklearn.ensemble import RandomForestRegressor\n",
        "from sklearn.model_selection import GridSearchCV\n",
        "from sklearn.model_selection import cross_val_score\n",
        "\n",
        "#fit random forest\n",
        "forest = RandomForestRegressor(n_jobs=-1)\n",
        "forest.fit(x_train, y_train)\n",
        "\n",
        "param_grid = [\n",
        "{'n_estimators': [50,100],\n",
        " 'max_features': ['auto', 'sqrt'],\n",
        " 'max_depth': [80,90,110],\n",
        " 'bootstrap': [False],\n",
        " 'min_samples_leaf': [10,20,50],\n",
        " 'min_samples_split': [30]}\n",
        "]\n",
        "\n",
        "grid_search_forest = GridSearchCV(forest, param_grid, cv=3,verbose=2,return_train_score=True)\n",
        "grid_search_forest= grid_search_forest.fit(x_train, y_train)\n"
      ],
      "execution_count": 0,
      "outputs": [
        {
          "output_type": "stream",
          "text": [
            "Fitting 3 folds for each of 36 candidates, totalling 108 fits\n",
            "[CV] bootstrap=False, max_depth=80, max_features=auto, min_samples_leaf=10, min_samples_split=30, n_estimators=50 \n"
          ],
          "name": "stdout"
        },
        {
          "output_type": "stream",
          "text": [
            "[Parallel(n_jobs=1)]: Using backend SequentialBackend with 1 concurrent workers.\n"
          ],
          "name": "stderr"
        },
        {
          "output_type": "stream",
          "text": [
            "[CV]  bootstrap=False, max_depth=80, max_features=auto, min_samples_leaf=10, min_samples_split=30, n_estimators=50, total=  44.8s\n",
            "[CV] bootstrap=False, max_depth=80, max_features=auto, min_samples_leaf=10, min_samples_split=30, n_estimators=50 \n"
          ],
          "name": "stdout"
        },
        {
          "output_type": "stream",
          "text": [
            "[Parallel(n_jobs=1)]: Done   1 out of   1 | elapsed:   45.3s remaining:    0.0s\n"
          ],
          "name": "stderr"
        },
        {
          "output_type": "stream",
          "text": [
            "[CV]  bootstrap=False, max_depth=80, max_features=auto, min_samples_leaf=10, min_samples_split=30, n_estimators=50, total=  45.2s\n",
            "[CV] bootstrap=False, max_depth=80, max_features=auto, min_samples_leaf=10, min_samples_split=30, n_estimators=50 \n",
            "[CV]  bootstrap=False, max_depth=80, max_features=auto, min_samples_leaf=10, min_samples_split=30, n_estimators=50, total=  49.0s\n",
            "[CV] bootstrap=False, max_depth=80, max_features=auto, min_samples_leaf=10, min_samples_split=30, n_estimators=100 \n",
            "[CV]  bootstrap=False, max_depth=80, max_features=auto, min_samples_leaf=10, min_samples_split=30, n_estimators=100, total= 1.4min\n",
            "[CV] bootstrap=False, max_depth=80, max_features=auto, min_samples_leaf=10, min_samples_split=30, n_estimators=100 \n",
            "[CV]  bootstrap=False, max_depth=80, max_features=auto, min_samples_leaf=10, min_samples_split=30, n_estimators=100, total= 1.5min\n",
            "[CV] bootstrap=False, max_depth=80, max_features=auto, min_samples_leaf=10, min_samples_split=30, n_estimators=100 \n",
            "[CV]  bootstrap=False, max_depth=80, max_features=auto, min_samples_leaf=10, min_samples_split=30, n_estimators=100, total= 1.6min\n",
            "[CV] bootstrap=False, max_depth=80, max_features=auto, min_samples_leaf=20, min_samples_split=30, n_estimators=50 \n",
            "[CV]  bootstrap=False, max_depth=80, max_features=auto, min_samples_leaf=20, min_samples_split=30, n_estimators=50, total=  41.3s\n",
            "[CV] bootstrap=False, max_depth=80, max_features=auto, min_samples_leaf=20, min_samples_split=30, n_estimators=50 \n",
            "[CV]  bootstrap=False, max_depth=80, max_features=auto, min_samples_leaf=20, min_samples_split=30, n_estimators=50, total=  43.0s\n",
            "[CV] bootstrap=False, max_depth=80, max_features=auto, min_samples_leaf=20, min_samples_split=30, n_estimators=50 \n",
            "[CV]  bootstrap=False, max_depth=80, max_features=auto, min_samples_leaf=20, min_samples_split=30, n_estimators=50, total=  45.0s\n",
            "[CV] bootstrap=False, max_depth=80, max_features=auto, min_samples_leaf=20, min_samples_split=30, n_estimators=100 \n",
            "[CV]  bootstrap=False, max_depth=80, max_features=auto, min_samples_leaf=20, min_samples_split=30, n_estimators=100, total= 1.4min\n",
            "[CV] bootstrap=False, max_depth=80, max_features=auto, min_samples_leaf=20, min_samples_split=30, n_estimators=100 \n",
            "[CV]  bootstrap=False, max_depth=80, max_features=auto, min_samples_leaf=20, min_samples_split=30, n_estimators=100, total= 1.4min\n",
            "[CV] bootstrap=False, max_depth=80, max_features=auto, min_samples_leaf=20, min_samples_split=30, n_estimators=100 \n",
            "[CV]  bootstrap=False, max_depth=80, max_features=auto, min_samples_leaf=20, min_samples_split=30, n_estimators=100, total= 1.5min\n",
            "[CV] bootstrap=False, max_depth=80, max_features=auto, min_samples_leaf=50, min_samples_split=30, n_estimators=50 \n",
            "[CV]  bootstrap=False, max_depth=80, max_features=auto, min_samples_leaf=50, min_samples_split=30, n_estimators=50, total=  37.3s\n",
            "[CV] bootstrap=False, max_depth=80, max_features=auto, min_samples_leaf=50, min_samples_split=30, n_estimators=50 \n",
            "[CV]  bootstrap=False, max_depth=80, max_features=auto, min_samples_leaf=50, min_samples_split=30, n_estimators=50, total=  39.3s\n",
            "[CV] bootstrap=False, max_depth=80, max_features=auto, min_samples_leaf=50, min_samples_split=30, n_estimators=50 \n",
            "[CV]  bootstrap=False, max_depth=80, max_features=auto, min_samples_leaf=50, min_samples_split=30, n_estimators=50, total=  38.2s\n",
            "[CV] bootstrap=False, max_depth=80, max_features=auto, min_samples_leaf=50, min_samples_split=30, n_estimators=100 \n",
            "[CV]  bootstrap=False, max_depth=80, max_features=auto, min_samples_leaf=50, min_samples_split=30, n_estimators=100, total= 1.2min\n",
            "[CV] bootstrap=False, max_depth=80, max_features=auto, min_samples_leaf=50, min_samples_split=30, n_estimators=100 \n",
            "[CV]  bootstrap=False, max_depth=80, max_features=auto, min_samples_leaf=50, min_samples_split=30, n_estimators=100, total= 1.3min\n",
            "[CV] bootstrap=False, max_depth=80, max_features=auto, min_samples_leaf=50, min_samples_split=30, n_estimators=100 \n",
            "[CV]  bootstrap=False, max_depth=80, max_features=auto, min_samples_leaf=50, min_samples_split=30, n_estimators=100, total= 1.3min\n",
            "[CV] bootstrap=False, max_depth=80, max_features=sqrt, min_samples_leaf=10, min_samples_split=30, n_estimators=50 \n",
            "[CV]  bootstrap=False, max_depth=80, max_features=sqrt, min_samples_leaf=10, min_samples_split=30, n_estimators=50, total=   8.8s\n",
            "[CV] bootstrap=False, max_depth=80, max_features=sqrt, min_samples_leaf=10, min_samples_split=30, n_estimators=50 \n",
            "[CV]  bootstrap=False, max_depth=80, max_features=sqrt, min_samples_leaf=10, min_samples_split=30, n_estimators=50, total=   8.8s\n",
            "[CV] bootstrap=False, max_depth=80, max_features=sqrt, min_samples_leaf=10, min_samples_split=30, n_estimators=50 \n",
            "[CV]  bootstrap=False, max_depth=80, max_features=sqrt, min_samples_leaf=10, min_samples_split=30, n_estimators=50, total=   9.2s\n",
            "[CV] bootstrap=False, max_depth=80, max_features=sqrt, min_samples_leaf=10, min_samples_split=30, n_estimators=100 \n",
            "[CV]  bootstrap=False, max_depth=80, max_features=sqrt, min_samples_leaf=10, min_samples_split=30, n_estimators=100, total=  17.5s\n",
            "[CV] bootstrap=False, max_depth=80, max_features=sqrt, min_samples_leaf=10, min_samples_split=30, n_estimators=100 \n",
            "[CV]  bootstrap=False, max_depth=80, max_features=sqrt, min_samples_leaf=10, min_samples_split=30, n_estimators=100, total=  17.5s\n",
            "[CV] bootstrap=False, max_depth=80, max_features=sqrt, min_samples_leaf=10, min_samples_split=30, n_estimators=100 \n",
            "[CV]  bootstrap=False, max_depth=80, max_features=sqrt, min_samples_leaf=10, min_samples_split=30, n_estimators=100, total=  18.2s\n",
            "[CV] bootstrap=False, max_depth=80, max_features=sqrt, min_samples_leaf=20, min_samples_split=30, n_estimators=50 \n",
            "[CV]  bootstrap=False, max_depth=80, max_features=sqrt, min_samples_leaf=20, min_samples_split=30, n_estimators=50, total=   8.3s\n",
            "[CV] bootstrap=False, max_depth=80, max_features=sqrt, min_samples_leaf=20, min_samples_split=30, n_estimators=50 \n",
            "[CV]  bootstrap=False, max_depth=80, max_features=sqrt, min_samples_leaf=20, min_samples_split=30, n_estimators=50, total=   8.8s\n",
            "[CV] bootstrap=False, max_depth=80, max_features=sqrt, min_samples_leaf=20, min_samples_split=30, n_estimators=50 \n",
            "[CV]  bootstrap=False, max_depth=80, max_features=sqrt, min_samples_leaf=20, min_samples_split=30, n_estimators=50, total=   8.6s\n",
            "[CV] bootstrap=False, max_depth=80, max_features=sqrt, min_samples_leaf=20, min_samples_split=30, n_estimators=100 \n",
            "[CV]  bootstrap=False, max_depth=80, max_features=sqrt, min_samples_leaf=20, min_samples_split=30, n_estimators=100, total=  16.2s\n",
            "[CV] bootstrap=False, max_depth=80, max_features=sqrt, min_samples_leaf=20, min_samples_split=30, n_estimators=100 \n",
            "[CV]  bootstrap=False, max_depth=80, max_features=sqrt, min_samples_leaf=20, min_samples_split=30, n_estimators=100, total=  16.8s\n",
            "[CV] bootstrap=False, max_depth=80, max_features=sqrt, min_samples_leaf=20, min_samples_split=30, n_estimators=100 \n",
            "[CV]  bootstrap=False, max_depth=80, max_features=sqrt, min_samples_leaf=20, min_samples_split=30, n_estimators=100, total=  16.9s\n",
            "[CV] bootstrap=False, max_depth=80, max_features=sqrt, min_samples_leaf=50, min_samples_split=30, n_estimators=50 \n",
            "[CV]  bootstrap=False, max_depth=80, max_features=sqrt, min_samples_leaf=50, min_samples_split=30, n_estimators=50, total=   7.7s\n",
            "[CV] bootstrap=False, max_depth=80, max_features=sqrt, min_samples_leaf=50, min_samples_split=30, n_estimators=50 \n",
            "[CV]  bootstrap=False, max_depth=80, max_features=sqrt, min_samples_leaf=50, min_samples_split=30, n_estimators=50, total=   7.9s\n",
            "[CV] bootstrap=False, max_depth=80, max_features=sqrt, min_samples_leaf=50, min_samples_split=30, n_estimators=50 \n",
            "[CV]  bootstrap=False, max_depth=80, max_features=sqrt, min_samples_leaf=50, min_samples_split=30, n_estimators=50, total=   7.6s\n",
            "[CV] bootstrap=False, max_depth=80, max_features=sqrt, min_samples_leaf=50, min_samples_split=30, n_estimators=100 \n",
            "[CV]  bootstrap=False, max_depth=80, max_features=sqrt, min_samples_leaf=50, min_samples_split=30, n_estimators=100, total=  15.0s\n",
            "[CV] bootstrap=False, max_depth=80, max_features=sqrt, min_samples_leaf=50, min_samples_split=30, n_estimators=100 \n",
            "[CV]  bootstrap=False, max_depth=80, max_features=sqrt, min_samples_leaf=50, min_samples_split=30, n_estimators=100, total=  15.3s\n",
            "[CV] bootstrap=False, max_depth=80, max_features=sqrt, min_samples_leaf=50, min_samples_split=30, n_estimators=100 \n",
            "[CV]  bootstrap=False, max_depth=80, max_features=sqrt, min_samples_leaf=50, min_samples_split=30, n_estimators=100, total=  14.8s\n",
            "[CV] bootstrap=False, max_depth=90, max_features=auto, min_samples_leaf=10, min_samples_split=30, n_estimators=50 \n",
            "[CV]  bootstrap=False, max_depth=90, max_features=auto, min_samples_leaf=10, min_samples_split=30, n_estimators=50, total=  43.3s\n",
            "[CV] bootstrap=False, max_depth=90, max_features=auto, min_samples_leaf=10, min_samples_split=30, n_estimators=50 \n",
            "[CV]  bootstrap=False, max_depth=90, max_features=auto, min_samples_leaf=10, min_samples_split=30, n_estimators=50, total=  45.2s\n",
            "[CV] bootstrap=False, max_depth=90, max_features=auto, min_samples_leaf=10, min_samples_split=30, n_estimators=50 \n",
            "[CV]  bootstrap=False, max_depth=90, max_features=auto, min_samples_leaf=10, min_samples_split=30, n_estimators=50, total=  49.2s\n",
            "[CV] bootstrap=False, max_depth=90, max_features=auto, min_samples_leaf=10, min_samples_split=30, n_estimators=100 \n",
            "[CV]  bootstrap=False, max_depth=90, max_features=auto, min_samples_leaf=10, min_samples_split=30, n_estimators=100, total= 1.4min\n",
            "[CV] bootstrap=False, max_depth=90, max_features=auto, min_samples_leaf=10, min_samples_split=30, n_estimators=100 \n",
            "[CV]  bootstrap=False, max_depth=90, max_features=auto, min_samples_leaf=10, min_samples_split=30, n_estimators=100, total= 1.5min\n",
            "[CV] bootstrap=False, max_depth=90, max_features=auto, min_samples_leaf=10, min_samples_split=30, n_estimators=100 \n",
            "[CV]  bootstrap=False, max_depth=90, max_features=auto, min_samples_leaf=10, min_samples_split=30, n_estimators=100, total= 1.6min\n",
            "[CV] bootstrap=False, max_depth=90, max_features=auto, min_samples_leaf=20, min_samples_split=30, n_estimators=50 \n",
            "[CV]  bootstrap=False, max_depth=90, max_features=auto, min_samples_leaf=20, min_samples_split=30, n_estimators=50, total=  41.0s\n",
            "[CV] bootstrap=False, max_depth=90, max_features=auto, min_samples_leaf=20, min_samples_split=30, n_estimators=50 \n",
            "[CV]  bootstrap=False, max_depth=90, max_features=auto, min_samples_leaf=20, min_samples_split=30, n_estimators=50, total=  42.9s\n",
            "[CV] bootstrap=False, max_depth=90, max_features=auto, min_samples_leaf=20, min_samples_split=30, n_estimators=50 \n",
            "[CV]  bootstrap=False, max_depth=90, max_features=auto, min_samples_leaf=20, min_samples_split=30, n_estimators=50, total=  45.1s\n",
            "[CV] bootstrap=False, max_depth=90, max_features=auto, min_samples_leaf=20, min_samples_split=30, n_estimators=100 \n",
            "[CV]  bootstrap=False, max_depth=90, max_features=auto, min_samples_leaf=20, min_samples_split=30, n_estimators=100, total= 1.4min\n",
            "[CV] bootstrap=False, max_depth=90, max_features=auto, min_samples_leaf=20, min_samples_split=30, n_estimators=100 \n",
            "[CV]  bootstrap=False, max_depth=90, max_features=auto, min_samples_leaf=20, min_samples_split=30, n_estimators=100, total= 1.4min\n",
            "[CV] bootstrap=False, max_depth=90, max_features=auto, min_samples_leaf=20, min_samples_split=30, n_estimators=100 \n",
            "[CV]  bootstrap=False, max_depth=90, max_features=auto, min_samples_leaf=20, min_samples_split=30, n_estimators=100, total= 1.5min\n",
            "[CV] bootstrap=False, max_depth=90, max_features=auto, min_samples_leaf=50, min_samples_split=30, n_estimators=50 \n",
            "[CV]  bootstrap=False, max_depth=90, max_features=auto, min_samples_leaf=50, min_samples_split=30, n_estimators=50, total=  37.3s\n",
            "[CV] bootstrap=False, max_depth=90, max_features=auto, min_samples_leaf=50, min_samples_split=30, n_estimators=50 \n",
            "[CV]  bootstrap=False, max_depth=90, max_features=auto, min_samples_leaf=50, min_samples_split=30, n_estimators=50, total=  39.3s\n",
            "[CV] bootstrap=False, max_depth=90, max_features=auto, min_samples_leaf=50, min_samples_split=30, n_estimators=50 \n",
            "[CV]  bootstrap=False, max_depth=90, max_features=auto, min_samples_leaf=50, min_samples_split=30, n_estimators=50, total=  38.4s\n",
            "[CV] bootstrap=False, max_depth=90, max_features=auto, min_samples_leaf=50, min_samples_split=30, n_estimators=100 \n",
            "[CV]  bootstrap=False, max_depth=90, max_features=auto, min_samples_leaf=50, min_samples_split=30, n_estimators=100, total= 1.3min\n",
            "[CV] bootstrap=False, max_depth=90, max_features=auto, min_samples_leaf=50, min_samples_split=30, n_estimators=100 \n",
            "[CV]  bootstrap=False, max_depth=90, max_features=auto, min_samples_leaf=50, min_samples_split=30, n_estimators=100, total= 1.3min\n",
            "[CV] bootstrap=False, max_depth=90, max_features=auto, min_samples_leaf=50, min_samples_split=30, n_estimators=100 \n",
            "[CV]  bootstrap=False, max_depth=90, max_features=auto, min_samples_leaf=50, min_samples_split=30, n_estimators=100, total= 1.3min\n",
            "[CV] bootstrap=False, max_depth=90, max_features=sqrt, min_samples_leaf=10, min_samples_split=30, n_estimators=50 \n",
            "[CV]  bootstrap=False, max_depth=90, max_features=sqrt, min_samples_leaf=10, min_samples_split=30, n_estimators=50, total=   8.9s\n",
            "[CV] bootstrap=False, max_depth=90, max_features=sqrt, min_samples_leaf=10, min_samples_split=30, n_estimators=50 \n",
            "[CV]  bootstrap=False, max_depth=90, max_features=sqrt, min_samples_leaf=10, min_samples_split=30, n_estimators=50, total=   8.8s\n",
            "[CV] bootstrap=False, max_depth=90, max_features=sqrt, min_samples_leaf=10, min_samples_split=30, n_estimators=50 \n",
            "[CV]  bootstrap=False, max_depth=90, max_features=sqrt, min_samples_leaf=10, min_samples_split=30, n_estimators=50, total=   9.4s\n",
            "[CV] bootstrap=False, max_depth=90, max_features=sqrt, min_samples_leaf=10, min_samples_split=30, n_estimators=100 \n",
            "[CV]  bootstrap=False, max_depth=90, max_features=sqrt, min_samples_leaf=10, min_samples_split=30, n_estimators=100, total=  17.5s\n",
            "[CV] bootstrap=False, max_depth=90, max_features=sqrt, min_samples_leaf=10, min_samples_split=30, n_estimators=100 \n",
            "[CV]  bootstrap=False, max_depth=90, max_features=sqrt, min_samples_leaf=10, min_samples_split=30, n_estimators=100, total=  17.6s\n",
            "[CV] bootstrap=False, max_depth=90, max_features=sqrt, min_samples_leaf=10, min_samples_split=30, n_estimators=100 \n",
            "[CV]  bootstrap=False, max_depth=90, max_features=sqrt, min_samples_leaf=10, min_samples_split=30, n_estimators=100, total=  18.5s\n",
            "[CV] bootstrap=False, max_depth=90, max_features=sqrt, min_samples_leaf=20, min_samples_split=30, n_estimators=50 \n",
            "[CV]  bootstrap=False, max_depth=90, max_features=sqrt, min_samples_leaf=20, min_samples_split=30, n_estimators=50, total=   8.6s\n",
            "[CV] bootstrap=False, max_depth=90, max_features=sqrt, min_samples_leaf=20, min_samples_split=30, n_estimators=50 \n",
            "[CV]  bootstrap=False, max_depth=90, max_features=sqrt, min_samples_leaf=20, min_samples_split=30, n_estimators=50, total=   8.6s\n",
            "[CV] bootstrap=False, max_depth=90, max_features=sqrt, min_samples_leaf=20, min_samples_split=30, n_estimators=50 \n",
            "[CV]  bootstrap=False, max_depth=90, max_features=sqrt, min_samples_leaf=20, min_samples_split=30, n_estimators=50, total=   8.7s\n",
            "[CV] bootstrap=False, max_depth=90, max_features=sqrt, min_samples_leaf=20, min_samples_split=30, n_estimators=100 \n",
            "[CV]  bootstrap=False, max_depth=90, max_features=sqrt, min_samples_leaf=20, min_samples_split=30, n_estimators=100, total=  16.8s\n",
            "[CV] bootstrap=False, max_depth=90, max_features=sqrt, min_samples_leaf=20, min_samples_split=30, n_estimators=100 \n",
            "[CV]  bootstrap=False, max_depth=90, max_features=sqrt, min_samples_leaf=20, min_samples_split=30, n_estimators=100, total=  17.2s\n",
            "[CV] bootstrap=False, max_depth=90, max_features=sqrt, min_samples_leaf=20, min_samples_split=30, n_estimators=100 \n",
            "[CV]  bootstrap=False, max_depth=90, max_features=sqrt, min_samples_leaf=20, min_samples_split=30, n_estimators=100, total=  17.3s\n",
            "[CV] bootstrap=False, max_depth=90, max_features=sqrt, min_samples_leaf=50, min_samples_split=30, n_estimators=50 \n",
            "[CV]  bootstrap=False, max_depth=90, max_features=sqrt, min_samples_leaf=50, min_samples_split=30, n_estimators=50, total=   7.8s\n",
            "[CV] bootstrap=False, max_depth=90, max_features=sqrt, min_samples_leaf=50, min_samples_split=30, n_estimators=50 \n",
            "[CV]  bootstrap=False, max_depth=90, max_features=sqrt, min_samples_leaf=50, min_samples_split=30, n_estimators=50, total=   7.7s\n",
            "[CV] bootstrap=False, max_depth=90, max_features=sqrt, min_samples_leaf=50, min_samples_split=30, n_estimators=50 \n",
            "[CV]  bootstrap=False, max_depth=90, max_features=sqrt, min_samples_leaf=50, min_samples_split=30, n_estimators=50, total=   7.6s\n",
            "[CV] bootstrap=False, max_depth=90, max_features=sqrt, min_samples_leaf=50, min_samples_split=30, n_estimators=100 \n",
            "[CV]  bootstrap=False, max_depth=90, max_features=sqrt, min_samples_leaf=50, min_samples_split=30, n_estimators=100, total=  15.3s\n",
            "[CV] bootstrap=False, max_depth=90, max_features=sqrt, min_samples_leaf=50, min_samples_split=30, n_estimators=100 \n",
            "[CV]  bootstrap=False, max_depth=90, max_features=sqrt, min_samples_leaf=50, min_samples_split=30, n_estimators=100, total=  15.4s\n",
            "[CV] bootstrap=False, max_depth=90, max_features=sqrt, min_samples_leaf=50, min_samples_split=30, n_estimators=100 \n",
            "[CV]  bootstrap=False, max_depth=90, max_features=sqrt, min_samples_leaf=50, min_samples_split=30, n_estimators=100, total=  15.3s\n",
            "[CV] bootstrap=False, max_depth=110, max_features=auto, min_samples_leaf=10, min_samples_split=30, n_estimators=50 \n",
            "[CV]  bootstrap=False, max_depth=110, max_features=auto, min_samples_leaf=10, min_samples_split=30, n_estimators=50, total=  43.6s\n",
            "[CV] bootstrap=False, max_depth=110, max_features=auto, min_samples_leaf=10, min_samples_split=30, n_estimators=50 \n",
            "[CV]  bootstrap=False, max_depth=110, max_features=auto, min_samples_leaf=10, min_samples_split=30, n_estimators=50, total=  45.9s\n",
            "[CV] bootstrap=False, max_depth=110, max_features=auto, min_samples_leaf=10, min_samples_split=30, n_estimators=50 \n",
            "[CV]  bootstrap=False, max_depth=110, max_features=auto, min_samples_leaf=10, min_samples_split=30, n_estimators=50, total=  49.9s\n",
            "[CV] bootstrap=False, max_depth=110, max_features=auto, min_samples_leaf=10, min_samples_split=30, n_estimators=100 \n",
            "[CV]  bootstrap=False, max_depth=110, max_features=auto, min_samples_leaf=10, min_samples_split=30, n_estimators=100, total= 1.5min\n",
            "[CV] bootstrap=False, max_depth=110, max_features=auto, min_samples_leaf=10, min_samples_split=30, n_estimators=100 \n",
            "[CV]  bootstrap=False, max_depth=110, max_features=auto, min_samples_leaf=10, min_samples_split=30, n_estimators=100, total= 1.5min\n",
            "[CV] bootstrap=False, max_depth=110, max_features=auto, min_samples_leaf=10, min_samples_split=30, n_estimators=100 \n",
            "[CV]  bootstrap=False, max_depth=110, max_features=auto, min_samples_leaf=10, min_samples_split=30, n_estimators=100, total= 1.7min\n",
            "[CV] bootstrap=False, max_depth=110, max_features=auto, min_samples_leaf=20, min_samples_split=30, n_estimators=50 \n",
            "[CV]  bootstrap=False, max_depth=110, max_features=auto, min_samples_leaf=20, min_samples_split=30, n_estimators=50, total=  41.8s\n",
            "[CV] bootstrap=False, max_depth=110, max_features=auto, min_samples_leaf=20, min_samples_split=30, n_estimators=50 \n",
            "[CV]  bootstrap=False, max_depth=110, max_features=auto, min_samples_leaf=20, min_samples_split=30, n_estimators=50, total=  43.9s\n",
            "[CV] bootstrap=False, max_depth=110, max_features=auto, min_samples_leaf=20, min_samples_split=30, n_estimators=50 \n",
            "[CV]  bootstrap=False, max_depth=110, max_features=auto, min_samples_leaf=20, min_samples_split=30, n_estimators=50, total=  46.5s\n",
            "[CV] bootstrap=False, max_depth=110, max_features=auto, min_samples_leaf=20, min_samples_split=30, n_estimators=100 \n",
            "[CV]  bootstrap=False, max_depth=110, max_features=auto, min_samples_leaf=20, min_samples_split=30, n_estimators=100, total= 1.4min\n",
            "[CV] bootstrap=False, max_depth=110, max_features=auto, min_samples_leaf=20, min_samples_split=30, n_estimators=100 \n",
            "[CV]  bootstrap=False, max_depth=110, max_features=auto, min_samples_leaf=20, min_samples_split=30, n_estimators=100, total= 1.5min\n",
            "[CV] bootstrap=False, max_depth=110, max_features=auto, min_samples_leaf=20, min_samples_split=30, n_estimators=100 \n",
            "[CV]  bootstrap=False, max_depth=110, max_features=auto, min_samples_leaf=20, min_samples_split=30, n_estimators=100, total= 1.5min\n",
            "[CV] bootstrap=False, max_depth=110, max_features=auto, min_samples_leaf=50, min_samples_split=30, n_estimators=50 \n",
            "[CV]  bootstrap=False, max_depth=110, max_features=auto, min_samples_leaf=50, min_samples_split=30, n_estimators=50, total=  38.1s\n",
            "[CV] bootstrap=False, max_depth=110, max_features=auto, min_samples_leaf=50, min_samples_split=30, n_estimators=50 \n",
            "[CV]  bootstrap=False, max_depth=110, max_features=auto, min_samples_leaf=50, min_samples_split=30, n_estimators=50, total=  39.7s\n",
            "[CV] bootstrap=False, max_depth=110, max_features=auto, min_samples_leaf=50, min_samples_split=30, n_estimators=50 \n",
            "[CV]  bootstrap=False, max_depth=110, max_features=auto, min_samples_leaf=50, min_samples_split=30, n_estimators=50, total=  39.3s\n",
            "[CV] bootstrap=False, max_depth=110, max_features=auto, min_samples_leaf=50, min_samples_split=30, n_estimators=100 \n",
            "[CV]  bootstrap=False, max_depth=110, max_features=auto, min_samples_leaf=50, min_samples_split=30, n_estimators=100, total= 1.3min\n",
            "[CV] bootstrap=False, max_depth=110, max_features=auto, min_samples_leaf=50, min_samples_split=30, n_estimators=100 \n",
            "[CV]  bootstrap=False, max_depth=110, max_features=auto, min_samples_leaf=50, min_samples_split=30, n_estimators=100, total= 1.3min\n",
            "[CV] bootstrap=False, max_depth=110, max_features=auto, min_samples_leaf=50, min_samples_split=30, n_estimators=100 \n",
            "[CV]  bootstrap=False, max_depth=110, max_features=auto, min_samples_leaf=50, min_samples_split=30, n_estimators=100, total= 1.3min\n",
            "[CV] bootstrap=False, max_depth=110, max_features=sqrt, min_samples_leaf=10, min_samples_split=30, n_estimators=50 \n",
            "[CV]  bootstrap=False, max_depth=110, max_features=sqrt, min_samples_leaf=10, min_samples_split=30, n_estimators=50, total=   8.9s\n",
            "[CV] bootstrap=False, max_depth=110, max_features=sqrt, min_samples_leaf=10, min_samples_split=30, n_estimators=50 \n",
            "[CV]  bootstrap=False, max_depth=110, max_features=sqrt, min_samples_leaf=10, min_samples_split=30, n_estimators=50, total=   9.0s\n",
            "[CV] bootstrap=False, max_depth=110, max_features=sqrt, min_samples_leaf=10, min_samples_split=30, n_estimators=50 \n",
            "[CV]  bootstrap=False, max_depth=110, max_features=sqrt, min_samples_leaf=10, min_samples_split=30, n_estimators=50, total=   9.4s\n",
            "[CV] bootstrap=False, max_depth=110, max_features=sqrt, min_samples_leaf=10, min_samples_split=30, n_estimators=100 \n",
            "[CV]  bootstrap=False, max_depth=110, max_features=sqrt, min_samples_leaf=10, min_samples_split=30, n_estimators=100, total=  17.9s\n",
            "[CV] bootstrap=False, max_depth=110, max_features=sqrt, min_samples_leaf=10, min_samples_split=30, n_estimators=100 \n",
            "[CV]  bootstrap=False, max_depth=110, max_features=sqrt, min_samples_leaf=10, min_samples_split=30, n_estimators=100, total=  18.5s\n",
            "[CV] bootstrap=False, max_depth=110, max_features=sqrt, min_samples_leaf=10, min_samples_split=30, n_estimators=100 \n",
            "[CV]  bootstrap=False, max_depth=110, max_features=sqrt, min_samples_leaf=10, min_samples_split=30, n_estimators=100, total=  19.1s\n",
            "[CV] bootstrap=False, max_depth=110, max_features=sqrt, min_samples_leaf=20, min_samples_split=30, n_estimators=50 \n",
            "[CV]  bootstrap=False, max_depth=110, max_features=sqrt, min_samples_leaf=20, min_samples_split=30, n_estimators=50, total=   8.9s\n",
            "[CV] bootstrap=False, max_depth=110, max_features=sqrt, min_samples_leaf=20, min_samples_split=30, n_estimators=50 \n",
            "[CV]  bootstrap=False, max_depth=110, max_features=sqrt, min_samples_leaf=20, min_samples_split=30, n_estimators=50, total=   8.7s\n",
            "[CV] bootstrap=False, max_depth=110, max_features=sqrt, min_samples_leaf=20, min_samples_split=30, n_estimators=50 \n",
            "[CV]  bootstrap=False, max_depth=110, max_features=sqrt, min_samples_leaf=20, min_samples_split=30, n_estimators=50, total=   9.0s\n",
            "[CV] bootstrap=False, max_depth=110, max_features=sqrt, min_samples_leaf=20, min_samples_split=30, n_estimators=100 \n",
            "[CV]  bootstrap=False, max_depth=110, max_features=sqrt, min_samples_leaf=20, min_samples_split=30, n_estimators=100, total=  17.5s\n",
            "[CV] bootstrap=False, max_depth=110, max_features=sqrt, min_samples_leaf=20, min_samples_split=30, n_estimators=100 \n",
            "[CV]  bootstrap=False, max_depth=110, max_features=sqrt, min_samples_leaf=20, min_samples_split=30, n_estimators=100, total=  17.5s\n",
            "[CV] bootstrap=False, max_depth=110, max_features=sqrt, min_samples_leaf=20, min_samples_split=30, n_estimators=100 \n",
            "[CV]  bootstrap=False, max_depth=110, max_features=sqrt, min_samples_leaf=20, min_samples_split=30, n_estimators=100, total=  17.7s\n",
            "[CV] bootstrap=False, max_depth=110, max_features=sqrt, min_samples_leaf=50, min_samples_split=30, n_estimators=50 \n",
            "[CV]  bootstrap=False, max_depth=110, max_features=sqrt, min_samples_leaf=50, min_samples_split=30, n_estimators=50, total=   8.0s\n",
            "[CV] bootstrap=False, max_depth=110, max_features=sqrt, min_samples_leaf=50, min_samples_split=30, n_estimators=50 \n",
            "[CV]  bootstrap=False, max_depth=110, max_features=sqrt, min_samples_leaf=50, min_samples_split=30, n_estimators=50, total=   8.1s\n",
            "[CV] bootstrap=False, max_depth=110, max_features=sqrt, min_samples_leaf=50, min_samples_split=30, n_estimators=50 \n",
            "[CV]  bootstrap=False, max_depth=110, max_features=sqrt, min_samples_leaf=50, min_samples_split=30, n_estimators=50, total=   7.9s\n",
            "[CV] bootstrap=False, max_depth=110, max_features=sqrt, min_samples_leaf=50, min_samples_split=30, n_estimators=100 \n",
            "[CV]  bootstrap=False, max_depth=110, max_features=sqrt, min_samples_leaf=50, min_samples_split=30, n_estimators=100, total=  15.9s\n",
            "[CV] bootstrap=False, max_depth=110, max_features=sqrt, min_samples_leaf=50, min_samples_split=30, n_estimators=100 \n",
            "[CV]  bootstrap=False, max_depth=110, max_features=sqrt, min_samples_leaf=50, min_samples_split=30, n_estimators=100, total=  15.7s\n",
            "[CV] bootstrap=False, max_depth=110, max_features=sqrt, min_samples_leaf=50, min_samples_split=30, n_estimators=100 \n",
            "[CV]  bootstrap=False, max_depth=110, max_features=sqrt, min_samples_leaf=50, min_samples_split=30, n_estimators=100, total=  15.6s\n"
          ],
          "name": "stdout"
        },
        {
          "output_type": "stream",
          "text": [
            "[Parallel(n_jobs=1)]: Done 108 out of 108 | elapsed: 70.4min finished\n"
          ],
          "name": "stderr"
        }
      ]
    },
    {
      "metadata": {
        "id": "tSmyH4vGVUH-",
        "colab_type": "code",
        "outputId": "866e1198-1cf9-4aaa-a059-00fda77b90a1",
        "colab": {
          "base_uri": "https://localhost:8080/",
          "height": 119
        }
      },
      "cell_type": "code",
      "source": [
        "grid_search_forest.best_params_"
      ],
      "execution_count": 0,
      "outputs": [
        {
          "output_type": "execute_result",
          "data": {
            "text/plain": [
              "{'bootstrap': False,\n",
              " 'max_depth': 80,\n",
              " 'max_features': 'sqrt',\n",
              " 'min_samples_leaf': 10,\n",
              " 'min_samples_split': 30,\n",
              " 'n_estimators': 50}"
            ]
          },
          "metadata": {
            "tags": []
          },
          "execution_count": 25
        }
      ]
    },
    {
      "metadata": {
        "id": "c34rkU5pVreh",
        "colab_type": "code",
        "outputId": "7662c64e-6a5f-482c-9da4-24db72407fdd",
        "colab": {
          "base_uri": "https://localhost:8080/",
          "height": 119
        }
      },
      "cell_type": "code",
      "source": [
        "#find the best model of grid search\n",
        "grid_search_forest.best_estimator_"
      ],
      "execution_count": 0,
      "outputs": [
        {
          "output_type": "execute_result",
          "data": {
            "text/plain": [
              "RandomForestRegressor(bootstrap=False, criterion='mse', max_depth=80,\n",
              "           max_features='sqrt', max_leaf_nodes=None,\n",
              "           min_impurity_decrease=0.0, min_impurity_split=None,\n",
              "           min_samples_leaf=10, min_samples_split=30,\n",
              "           min_weight_fraction_leaf=0.0, n_estimators=50, n_jobs=-1,\n",
              "           oob_score=False, random_state=None, verbose=0, warm_start=False)"
            ]
          },
          "metadata": {
            "tags": []
          },
          "execution_count": 26
        }
      ]
    },
    {
      "metadata": {
        "id": "2LB7uKklsY2h",
        "colab_type": "text"
      },
      "cell_type": "markdown",
      "source": [
        "**Performance Metrics: Evaluating the Random Forest Grid CV model on Test set**"
      ]
    },
    {
      "metadata": {
        "id": "uP54UaU0LqMp",
        "colab_type": "code",
        "outputId": "abcb3f90-d18c-4e3e-f25a-eef575ad8087",
        "colab": {
          "base_uri": "https://localhost:8080/",
          "height": 85
        }
      },
      "cell_type": "code",
      "source": [
        "# Performance metrics\n",
        "grid_best2= grid_search_forest.best_estimator_.predict(x_test)\n",
        "errors = abs(grid_best2 - y_test)\n",
        "# Calculate mean absolute percentage error (MAPE)\n",
        "mape= 100*(np.mean(errors)/y_test)\n",
        "accuracy = (100 - mape)\n",
        "print('The best model from grid-search has an accuracy of', accuracy,'%'  'on the test data')\n",
        "\n"
      ],
      "execution_count": 0,
      "outputs": [
        {
          "output_type": "stream",
          "text": [
            "The best model from grid-search has an accuracy of [65.73869175 65.73869175 65.73869175 ...        -inf        -inf\n",
            " 65.73869175] %on the test data\n"
          ],
          "name": "stdout"
        },
        {
          "output_type": "stream",
          "text": [
            "/usr/local/lib/python3.6/dist-packages/ipykernel_launcher.py:4: RuntimeWarning: divide by zero encountered in true_divide\n",
            "  after removing the cwd from sys.path.\n"
          ],
          "name": "stderr"
        }
      ]
    },
    {
      "metadata": {
        "id": "zoahzpUEn5YZ",
        "colab_type": "text"
      },
      "cell_type": "markdown",
      "source": [
        "**Performance Metrics: Evaluating the Random Forest Grid CV model on Training set**"
      ]
    },
    {
      "metadata": {
        "id": "UOVTeR59nmb8",
        "colab_type": "code",
        "outputId": "4be24e2b-f725-4709-d85a-8c6d13ab9119",
        "colab": {
          "base_uri": "https://localhost:8080/",
          "height": 85
        }
      },
      "cell_type": "code",
      "source": [
        "# Performance metrics\n",
        "grid_best= grid_search_forest.best_estimator_.predict(x_train)\n",
        "errors = abs(grid_best - y_train)\n",
        "# Calculate mean absolute percentage error (MAPE)\n",
        "mape= 100*(np.mean(errors)/y_train)\n",
        "accuracy = (100 - mape)\n",
        "print('The best model from grid-search has an accuracy of', accuracy,'%'  'on the training data')\n",
        "\n",
        "\n"
      ],
      "execution_count": 0,
      "outputs": [
        {
          "output_type": "stream",
          "text": [
            "The best model from grid-search has an accuracy of [       -inf        -inf        -inf ... 76.05004496 76.05004496\n",
            " 76.05004496] %on the training data\n"
          ],
          "name": "stdout"
        },
        {
          "output_type": "stream",
          "text": [
            "/usr/local/lib/python3.6/dist-packages/ipykernel_launcher.py:4: RuntimeWarning: divide by zero encountered in true_divide\n",
            "  after removing the cwd from sys.path.\n"
          ],
          "name": "stderr"
        }
      ]
    },
    {
      "metadata": {
        "id": "J2mRc7kFlMYE",
        "colab_type": "text"
      },
      "cell_type": "markdown",
      "source": [
        "**Tuning hyperparameters with randomized search**"
      ]
    },
    {
      "metadata": {
        "id": "GH2ppva2cj4Y",
        "colab_type": "code",
        "outputId": "ef350039-30e8-47da-d9ea-e54d98138361",
        "colab": {
          "base_uri": "https://localhost:8080/",
          "height": 119
        }
      },
      "cell_type": "code",
      "source": [
        "from sklearn.ensemble import RandomForestRegressor\n",
        "from sklearn.model_selection import RandomizedSearchCV\n",
        "from pprint import pprint\n",
        "\n",
        "# Number of trees in random forest\n",
        "n_estimators = [int(x) for x in np.linspace(start = 20, stop =100, num = 5)]\n",
        "# Number of features to consider at every split\n",
        "max_features = ['auto', 'sqrt']\n",
        "# Maximum number of levels in tree\n",
        "max_depth = [int(x) for x in np.linspace(50, 120, num = 11)]\n",
        "max_depth.append(None)\n",
        "# Minimum number of samples required to split a node\n",
        "min_samples_split = [20, 30, 45]\n",
        "# Minimum number of samples required at each leaf node\n",
        "min_samples_leaf = [5, 7, 10]\n",
        "# Method of selecting samples for training each tree\n",
        "bootstrap = [True, False]\n",
        "\n",
        "\n",
        "# Create the random grid\n",
        "random_grid = {'n_estimators': n_estimators,\n",
        "               'max_features': max_features,\n",
        "               'max_depth': max_depth,\n",
        "               'min_samples_split': min_samples_split,\n",
        "               'min_samples_leaf': min_samples_leaf,\n",
        "               'bootstrap': bootstrap}\n",
        "\n",
        "pprint(random_grid)"
      ],
      "execution_count": 0,
      "outputs": [
        {
          "output_type": "stream",
          "text": [
            "{'bootstrap': [True, False],\n",
            " 'max_depth': [50, 57, 64, 71, 78, 85, 92, 99, 106, 113, 120, None],\n",
            " 'max_features': ['auto', 'sqrt'],\n",
            " 'min_samples_leaf': [5, 7, 10],\n",
            " 'min_samples_split': [20, 30, 45],\n",
            " 'n_estimators': [20, 40, 60, 80, 100]}\n"
          ],
          "name": "stdout"
        }
      ]
    },
    {
      "metadata": {
        "id": "S6I9ppH3YKll",
        "colab_type": "code",
        "outputId": "4c62aabe-5bba-497e-d521-604393dd9de0",
        "colab": {
          "base_uri": "https://localhost:8080/",
          "height": 6885
        }
      },
      "cell_type": "code",
      "source": [
        "# Use the random grid to search for best hyperparameters\n",
        "# First create the base model to tune\n",
        "rf = RandomForestRegressor(random_state = 42)\n",
        "# Random search of parameters, using 3 fold cross validation, \n",
        "# search across 100 different combinations, and use all available cores\n",
        "rf_random = RandomizedSearchCV(estimator=rf, param_distributions=random_grid,\n",
        "                              n_iter =20,scoring='neg_mean_absolute_error', \n",
        "                              cv = 10, verbose=2, random_state=42, n_jobs=1,\n",
        "                              return_train_score=True)\n",
        "\n",
        "# Fit the random search model\n",
        "rf_random = rf_random.fit(x_train, y_train);"
      ],
      "execution_count": 0,
      "outputs": [
        {
          "output_type": "stream",
          "text": [
            "Fitting 10 folds for each of 20 candidates, totalling 200 fits\n",
            "[CV] n_estimators=20, min_samples_split=30, min_samples_leaf=5, max_features=sqrt, max_depth=113, bootstrap=True \n"
          ],
          "name": "stdout"
        },
        {
          "output_type": "stream",
          "text": [
            "[Parallel(n_jobs=1)]: Using backend SequentialBackend with 1 concurrent workers.\n"
          ],
          "name": "stderr"
        },
        {
          "output_type": "stream",
          "text": [
            "[CV]  n_estimators=20, min_samples_split=30, min_samples_leaf=5, max_features=sqrt, max_depth=113, bootstrap=True, total=   4.0s\n",
            "[CV] n_estimators=20, min_samples_split=30, min_samples_leaf=5, max_features=sqrt, max_depth=113, bootstrap=True \n"
          ],
          "name": "stdout"
        },
        {
          "output_type": "stream",
          "text": [
            "[Parallel(n_jobs=1)]: Done   1 out of   1 | elapsed:    4.5s remaining:    0.0s\n"
          ],
          "name": "stderr"
        },
        {
          "output_type": "stream",
          "text": [
            "[CV]  n_estimators=20, min_samples_split=30, min_samples_leaf=5, max_features=sqrt, max_depth=113, bootstrap=True, total=   4.2s\n",
            "[CV] n_estimators=20, min_samples_split=30, min_samples_leaf=5, max_features=sqrt, max_depth=113, bootstrap=True \n",
            "[CV]  n_estimators=20, min_samples_split=30, min_samples_leaf=5, max_features=sqrt, max_depth=113, bootstrap=True, total=   4.1s\n",
            "[CV] n_estimators=20, min_samples_split=30, min_samples_leaf=5, max_features=sqrt, max_depth=113, bootstrap=True \n",
            "[CV]  n_estimators=20, min_samples_split=30, min_samples_leaf=5, max_features=sqrt, max_depth=113, bootstrap=True, total=   4.1s\n",
            "[CV] n_estimators=20, min_samples_split=30, min_samples_leaf=5, max_features=sqrt, max_depth=113, bootstrap=True \n",
            "[CV]  n_estimators=20, min_samples_split=30, min_samples_leaf=5, max_features=sqrt, max_depth=113, bootstrap=True, total=   4.1s\n",
            "[CV] n_estimators=20, min_samples_split=30, min_samples_leaf=5, max_features=sqrt, max_depth=113, bootstrap=True \n",
            "[CV]  n_estimators=20, min_samples_split=30, min_samples_leaf=5, max_features=sqrt, max_depth=113, bootstrap=True, total=   4.1s\n",
            "[CV] n_estimators=20, min_samples_split=30, min_samples_leaf=5, max_features=sqrt, max_depth=113, bootstrap=True \n",
            "[CV]  n_estimators=20, min_samples_split=30, min_samples_leaf=5, max_features=sqrt, max_depth=113, bootstrap=True, total=   4.1s\n",
            "[CV] n_estimators=20, min_samples_split=30, min_samples_leaf=5, max_features=sqrt, max_depth=113, bootstrap=True \n",
            "[CV]  n_estimators=20, min_samples_split=30, min_samples_leaf=5, max_features=sqrt, max_depth=113, bootstrap=True, total=   4.1s\n",
            "[CV] n_estimators=20, min_samples_split=30, min_samples_leaf=5, max_features=sqrt, max_depth=113, bootstrap=True \n",
            "[CV]  n_estimators=20, min_samples_split=30, min_samples_leaf=5, max_features=sqrt, max_depth=113, bootstrap=True, total=   4.2s\n",
            "[CV] n_estimators=20, min_samples_split=30, min_samples_leaf=5, max_features=sqrt, max_depth=113, bootstrap=True \n",
            "[CV]  n_estimators=20, min_samples_split=30, min_samples_leaf=5, max_features=sqrt, max_depth=113, bootstrap=True, total=   4.2s\n",
            "[CV] n_estimators=100, min_samples_split=20, min_samples_leaf=10, max_features=auto, max_depth=64, bootstrap=False \n",
            "[CV]  n_estimators=100, min_samples_split=20, min_samples_leaf=10, max_features=auto, max_depth=64, bootstrap=False, total= 3.0min\n",
            "[CV] n_estimators=100, min_samples_split=20, min_samples_leaf=10, max_features=auto, max_depth=64, bootstrap=False \n",
            "[CV]  n_estimators=100, min_samples_split=20, min_samples_leaf=10, max_features=auto, max_depth=64, bootstrap=False, total= 3.0min\n",
            "[CV] n_estimators=100, min_samples_split=20, min_samples_leaf=10, max_features=auto, max_depth=64, bootstrap=False \n",
            "[CV]  n_estimators=100, min_samples_split=20, min_samples_leaf=10, max_features=auto, max_depth=64, bootstrap=False, total= 2.9min\n",
            "[CV] n_estimators=100, min_samples_split=20, min_samples_leaf=10, max_features=auto, max_depth=64, bootstrap=False \n",
            "[CV]  n_estimators=100, min_samples_split=20, min_samples_leaf=10, max_features=auto, max_depth=64, bootstrap=False, total= 2.9min\n",
            "[CV] n_estimators=100, min_samples_split=20, min_samples_leaf=10, max_features=auto, max_depth=64, bootstrap=False \n",
            "[CV]  n_estimators=100, min_samples_split=20, min_samples_leaf=10, max_features=auto, max_depth=64, bootstrap=False, total= 3.0min\n",
            "[CV] n_estimators=100, min_samples_split=20, min_samples_leaf=10, max_features=auto, max_depth=64, bootstrap=False \n",
            "[CV]  n_estimators=100, min_samples_split=20, min_samples_leaf=10, max_features=auto, max_depth=64, bootstrap=False, total= 2.9min\n",
            "[CV] n_estimators=100, min_samples_split=20, min_samples_leaf=10, max_features=auto, max_depth=64, bootstrap=False \n",
            "[CV]  n_estimators=100, min_samples_split=20, min_samples_leaf=10, max_features=auto, max_depth=64, bootstrap=False, total= 3.0min\n",
            "[CV] n_estimators=100, min_samples_split=20, min_samples_leaf=10, max_features=auto, max_depth=64, bootstrap=False \n",
            "[CV]  n_estimators=100, min_samples_split=20, min_samples_leaf=10, max_features=auto, max_depth=64, bootstrap=False, total= 3.0min\n",
            "[CV] n_estimators=100, min_samples_split=20, min_samples_leaf=10, max_features=auto, max_depth=64, bootstrap=False \n",
            "[CV]  n_estimators=100, min_samples_split=20, min_samples_leaf=10, max_features=auto, max_depth=64, bootstrap=False, total= 3.0min\n",
            "[CV] n_estimators=100, min_samples_split=20, min_samples_leaf=10, max_features=auto, max_depth=64, bootstrap=False \n",
            "[CV]  n_estimators=100, min_samples_split=20, min_samples_leaf=10, max_features=auto, max_depth=64, bootstrap=False, total= 3.1min\n",
            "[CV] n_estimators=20, min_samples_split=30, min_samples_leaf=5, max_features=sqrt, max_depth=50, bootstrap=False \n",
            "[CV]  n_estimators=20, min_samples_split=30, min_samples_leaf=5, max_features=sqrt, max_depth=50, bootstrap=False, total=   6.3s\n",
            "[CV] n_estimators=20, min_samples_split=30, min_samples_leaf=5, max_features=sqrt, max_depth=50, bootstrap=False \n",
            "[CV]  n_estimators=20, min_samples_split=30, min_samples_leaf=5, max_features=sqrt, max_depth=50, bootstrap=False, total=   6.3s\n",
            "[CV] n_estimators=20, min_samples_split=30, min_samples_leaf=5, max_features=sqrt, max_depth=50, bootstrap=False \n",
            "[CV]  n_estimators=20, min_samples_split=30, min_samples_leaf=5, max_features=sqrt, max_depth=50, bootstrap=False, total=   6.5s\n",
            "[CV] n_estimators=20, min_samples_split=30, min_samples_leaf=5, max_features=sqrt, max_depth=50, bootstrap=False \n",
            "[CV]  n_estimators=20, min_samples_split=30, min_samples_leaf=5, max_features=sqrt, max_depth=50, bootstrap=False, total=   6.6s\n",
            "[CV] n_estimators=20, min_samples_split=30, min_samples_leaf=5, max_features=sqrt, max_depth=50, bootstrap=False \n",
            "[CV]  n_estimators=20, min_samples_split=30, min_samples_leaf=5, max_features=sqrt, max_depth=50, bootstrap=False, total=   6.5s\n",
            "[CV] n_estimators=20, min_samples_split=30, min_samples_leaf=5, max_features=sqrt, max_depth=50, bootstrap=False \n",
            "[CV]  n_estimators=20, min_samples_split=30, min_samples_leaf=5, max_features=sqrt, max_depth=50, bootstrap=False, total=   6.5s\n",
            "[CV] n_estimators=20, min_samples_split=30, min_samples_leaf=5, max_features=sqrt, max_depth=50, bootstrap=False \n",
            "[CV]  n_estimators=20, min_samples_split=30, min_samples_leaf=5, max_features=sqrt, max_depth=50, bootstrap=False, total=   6.5s\n",
            "[CV] n_estimators=20, min_samples_split=30, min_samples_leaf=5, max_features=sqrt, max_depth=50, bootstrap=False \n",
            "[CV]  n_estimators=20, min_samples_split=30, min_samples_leaf=5, max_features=sqrt, max_depth=50, bootstrap=False, total=   6.6s\n",
            "[CV] n_estimators=20, min_samples_split=30, min_samples_leaf=5, max_features=sqrt, max_depth=50, bootstrap=False \n",
            "[CV]  n_estimators=20, min_samples_split=30, min_samples_leaf=5, max_features=sqrt, max_depth=50, bootstrap=False, total=   6.9s\n",
            "[CV] n_estimators=20, min_samples_split=30, min_samples_leaf=5, max_features=sqrt, max_depth=50, bootstrap=False \n",
            "[CV]  n_estimators=20, min_samples_split=30, min_samples_leaf=5, max_features=sqrt, max_depth=50, bootstrap=False, total=   6.6s\n",
            "[CV] n_estimators=20, min_samples_split=20, min_samples_leaf=7, max_features=auto, max_depth=50, bootstrap=False \n",
            "[CV]  n_estimators=20, min_samples_split=20, min_samples_leaf=7, max_features=auto, max_depth=50, bootstrap=False, total=  36.6s\n",
            "[CV] n_estimators=20, min_samples_split=20, min_samples_leaf=7, max_features=auto, max_depth=50, bootstrap=False \n",
            "[CV]  n_estimators=20, min_samples_split=20, min_samples_leaf=7, max_features=auto, max_depth=50, bootstrap=False, total=  37.7s\n",
            "[CV] n_estimators=20, min_samples_split=20, min_samples_leaf=7, max_features=auto, max_depth=50, bootstrap=False \n",
            "[CV]  n_estimators=20, min_samples_split=20, min_samples_leaf=7, max_features=auto, max_depth=50, bootstrap=False, total=  35.9s\n",
            "[CV] n_estimators=20, min_samples_split=20, min_samples_leaf=7, max_features=auto, max_depth=50, bootstrap=False \n",
            "[CV]  n_estimators=20, min_samples_split=20, min_samples_leaf=7, max_features=auto, max_depth=50, bootstrap=False, total=  36.4s\n",
            "[CV] n_estimators=20, min_samples_split=20, min_samples_leaf=7, max_features=auto, max_depth=50, bootstrap=False \n",
            "[CV]  n_estimators=20, min_samples_split=20, min_samples_leaf=7, max_features=auto, max_depth=50, bootstrap=False, total=  37.2s\n",
            "[CV] n_estimators=20, min_samples_split=20, min_samples_leaf=7, max_features=auto, max_depth=50, bootstrap=False \n",
            "[CV]  n_estimators=20, min_samples_split=20, min_samples_leaf=7, max_features=auto, max_depth=50, bootstrap=False, total=  36.2s\n",
            "[CV] n_estimators=20, min_samples_split=20, min_samples_leaf=7, max_features=auto, max_depth=50, bootstrap=False \n",
            "[CV]  n_estimators=20, min_samples_split=20, min_samples_leaf=7, max_features=auto, max_depth=50, bootstrap=False, total=  36.0s\n",
            "[CV] n_estimators=20, min_samples_split=20, min_samples_leaf=7, max_features=auto, max_depth=50, bootstrap=False \n",
            "[CV]  n_estimators=20, min_samples_split=20, min_samples_leaf=7, max_features=auto, max_depth=50, bootstrap=False, total=  36.6s\n",
            "[CV] n_estimators=20, min_samples_split=20, min_samples_leaf=7, max_features=auto, max_depth=50, bootstrap=False \n",
            "[CV]  n_estimators=20, min_samples_split=20, min_samples_leaf=7, max_features=auto, max_depth=50, bootstrap=False, total=  37.4s\n",
            "[CV] n_estimators=20, min_samples_split=20, min_samples_leaf=7, max_features=auto, max_depth=50, bootstrap=False \n",
            "[CV]  n_estimators=20, min_samples_split=20, min_samples_leaf=7, max_features=auto, max_depth=50, bootstrap=False, total=  38.4s\n",
            "[CV] n_estimators=80, min_samples_split=20, min_samples_leaf=7, max_features=auto, max_depth=92, bootstrap=False \n",
            "[CV]  n_estimators=80, min_samples_split=20, min_samples_leaf=7, max_features=auto, max_depth=92, bootstrap=False, total= 2.4min\n",
            "[CV] n_estimators=80, min_samples_split=20, min_samples_leaf=7, max_features=auto, max_depth=92, bootstrap=False \n",
            "[CV]  n_estimators=80, min_samples_split=20, min_samples_leaf=7, max_features=auto, max_depth=92, bootstrap=False, total= 2.5min\n",
            "[CV] n_estimators=80, min_samples_split=20, min_samples_leaf=7, max_features=auto, max_depth=92, bootstrap=False \n",
            "[CV]  n_estimators=80, min_samples_split=20, min_samples_leaf=7, max_features=auto, max_depth=92, bootstrap=False, total= 2.4min\n",
            "[CV] n_estimators=80, min_samples_split=20, min_samples_leaf=7, max_features=auto, max_depth=92, bootstrap=False \n",
            "[CV]  n_estimators=80, min_samples_split=20, min_samples_leaf=7, max_features=auto, max_depth=92, bootstrap=False, total= 2.4min\n",
            "[CV] n_estimators=80, min_samples_split=20, min_samples_leaf=7, max_features=auto, max_depth=92, bootstrap=False \n",
            "[CV]  n_estimators=80, min_samples_split=20, min_samples_leaf=7, max_features=auto, max_depth=92, bootstrap=False, total= 2.5min\n",
            "[CV] n_estimators=80, min_samples_split=20, min_samples_leaf=7, max_features=auto, max_depth=92, bootstrap=False \n",
            "[CV]  n_estimators=80, min_samples_split=20, min_samples_leaf=7, max_features=auto, max_depth=92, bootstrap=False, total= 2.4min\n",
            "[CV] n_estimators=80, min_samples_split=20, min_samples_leaf=7, max_features=auto, max_depth=92, bootstrap=False \n",
            "[CV]  n_estimators=80, min_samples_split=20, min_samples_leaf=7, max_features=auto, max_depth=92, bootstrap=False, total= 2.4min\n",
            "[CV] n_estimators=80, min_samples_split=20, min_samples_leaf=7, max_features=auto, max_depth=92, bootstrap=False \n",
            "[CV]  n_estimators=80, min_samples_split=20, min_samples_leaf=7, max_features=auto, max_depth=92, bootstrap=False, total= 2.4min\n",
            "[CV] n_estimators=80, min_samples_split=20, min_samples_leaf=7, max_features=auto, max_depth=92, bootstrap=False \n",
            "[CV]  n_estimators=80, min_samples_split=20, min_samples_leaf=7, max_features=auto, max_depth=92, bootstrap=False, total= 2.5min\n",
            "[CV] n_estimators=80, min_samples_split=20, min_samples_leaf=7, max_features=auto, max_depth=92, bootstrap=False \n",
            "[CV]  n_estimators=80, min_samples_split=20, min_samples_leaf=7, max_features=auto, max_depth=92, bootstrap=False, total= 2.6min\n",
            "[CV] n_estimators=40, min_samples_split=20, min_samples_leaf=7, max_features=auto, max_depth=85, bootstrap=True \n",
            "[CV]  n_estimators=40, min_samples_split=20, min_samples_leaf=7, max_features=auto, max_depth=85, bootstrap=True, total=  43.7s\n",
            "[CV] n_estimators=40, min_samples_split=20, min_samples_leaf=7, max_features=auto, max_depth=85, bootstrap=True \n",
            "[CV]  n_estimators=40, min_samples_split=20, min_samples_leaf=7, max_features=auto, max_depth=85, bootstrap=True, total=  44.1s\n",
            "[CV] n_estimators=40, min_samples_split=20, min_samples_leaf=7, max_features=auto, max_depth=85, bootstrap=True \n",
            "[CV]  n_estimators=40, min_samples_split=20, min_samples_leaf=7, max_features=auto, max_depth=85, bootstrap=True, total=  43.8s\n",
            "[CV] n_estimators=40, min_samples_split=20, min_samples_leaf=7, max_features=auto, max_depth=85, bootstrap=True \n",
            "[CV]  n_estimators=40, min_samples_split=20, min_samples_leaf=7, max_features=auto, max_depth=85, bootstrap=True, total=  44.0s\n",
            "[CV] n_estimators=40, min_samples_split=20, min_samples_leaf=7, max_features=auto, max_depth=85, bootstrap=True \n",
            "[CV]  n_estimators=40, min_samples_split=20, min_samples_leaf=7, max_features=auto, max_depth=85, bootstrap=True, total=  44.1s\n",
            "[CV] n_estimators=40, min_samples_split=20, min_samples_leaf=7, max_features=auto, max_depth=85, bootstrap=True \n",
            "[CV]  n_estimators=40, min_samples_split=20, min_samples_leaf=7, max_features=auto, max_depth=85, bootstrap=True, total=  43.5s\n",
            "[CV] n_estimators=40, min_samples_split=20, min_samples_leaf=7, max_features=auto, max_depth=85, bootstrap=True \n",
            "[CV]  n_estimators=40, min_samples_split=20, min_samples_leaf=7, max_features=auto, max_depth=85, bootstrap=True, total=  44.7s\n",
            "[CV] n_estimators=40, min_samples_split=20, min_samples_leaf=7, max_features=auto, max_depth=85, bootstrap=True \n",
            "[CV]  n_estimators=40, min_samples_split=20, min_samples_leaf=7, max_features=auto, max_depth=85, bootstrap=True, total=  44.6s\n",
            "[CV] n_estimators=40, min_samples_split=20, min_samples_leaf=7, max_features=auto, max_depth=85, bootstrap=True \n",
            "[CV]  n_estimators=40, min_samples_split=20, min_samples_leaf=7, max_features=auto, max_depth=85, bootstrap=True, total=  46.5s\n",
            "[CV] n_estimators=40, min_samples_split=20, min_samples_leaf=7, max_features=auto, max_depth=85, bootstrap=True \n",
            "[CV]  n_estimators=40, min_samples_split=20, min_samples_leaf=7, max_features=auto, max_depth=85, bootstrap=True, total=  46.1s\n",
            "[CV] n_estimators=80, min_samples_split=30, min_samples_leaf=7, max_features=sqrt, max_depth=57, bootstrap=False \n",
            "[CV]  n_estimators=80, min_samples_split=30, min_samples_leaf=7, max_features=sqrt, max_depth=57, bootstrap=False, total=  26.4s\n",
            "[CV] n_estimators=80, min_samples_split=30, min_samples_leaf=7, max_features=sqrt, max_depth=57, bootstrap=False \n",
            "[CV]  n_estimators=80, min_samples_split=30, min_samples_leaf=7, max_features=sqrt, max_depth=57, bootstrap=False, total=  25.2s\n",
            "[CV] n_estimators=80, min_samples_split=30, min_samples_leaf=7, max_features=sqrt, max_depth=57, bootstrap=False \n",
            "[CV]  n_estimators=80, min_samples_split=30, min_samples_leaf=7, max_features=sqrt, max_depth=57, bootstrap=False, total=  25.4s\n",
            "[CV] n_estimators=80, min_samples_split=30, min_samples_leaf=7, max_features=sqrt, max_depth=57, bootstrap=False \n",
            "[CV]  n_estimators=80, min_samples_split=30, min_samples_leaf=7, max_features=sqrt, max_depth=57, bootstrap=False, total=  26.0s\n",
            "[CV] n_estimators=80, min_samples_split=30, min_samples_leaf=7, max_features=sqrt, max_depth=57, bootstrap=False \n",
            "[CV]  n_estimators=80, min_samples_split=30, min_samples_leaf=7, max_features=sqrt, max_depth=57, bootstrap=False, total=  25.1s\n",
            "[CV] n_estimators=80, min_samples_split=30, min_samples_leaf=7, max_features=sqrt, max_depth=57, bootstrap=False \n",
            "[CV]  n_estimators=80, min_samples_split=30, min_samples_leaf=7, max_features=sqrt, max_depth=57, bootstrap=False, total=  25.1s\n",
            "[CV] n_estimators=80, min_samples_split=30, min_samples_leaf=7, max_features=sqrt, max_depth=57, bootstrap=False \n",
            "[CV]  n_estimators=80, min_samples_split=30, min_samples_leaf=7, max_features=sqrt, max_depth=57, bootstrap=False, total=  25.3s\n",
            "[CV] n_estimators=80, min_samples_split=30, min_samples_leaf=7, max_features=sqrt, max_depth=57, bootstrap=False \n",
            "[CV]  n_estimators=80, min_samples_split=30, min_samples_leaf=7, max_features=sqrt, max_depth=57, bootstrap=False, total=  25.6s\n",
            "[CV] n_estimators=80, min_samples_split=30, min_samples_leaf=7, max_features=sqrt, max_depth=57, bootstrap=False \n",
            "[CV]  n_estimators=80, min_samples_split=30, min_samples_leaf=7, max_features=sqrt, max_depth=57, bootstrap=False, total=  25.7s\n",
            "[CV] n_estimators=80, min_samples_split=30, min_samples_leaf=7, max_features=sqrt, max_depth=57, bootstrap=False \n",
            "[CV]  n_estimators=80, min_samples_split=30, min_samples_leaf=7, max_features=sqrt, max_depth=57, bootstrap=False, total=  25.9s\n",
            "[CV] n_estimators=20, min_samples_split=20, min_samples_leaf=7, max_features=sqrt, max_depth=71, bootstrap=True \n",
            "[CV]  n_estimators=20, min_samples_split=20, min_samples_leaf=7, max_features=sqrt, max_depth=71, bootstrap=True, total=   4.1s\n",
            "[CV] n_estimators=20, min_samples_split=20, min_samples_leaf=7, max_features=sqrt, max_depth=71, bootstrap=True \n",
            "[CV]  n_estimators=20, min_samples_split=20, min_samples_leaf=7, max_features=sqrt, max_depth=71, bootstrap=True, total=   4.1s\n",
            "[CV] n_estimators=20, min_samples_split=20, min_samples_leaf=7, max_features=sqrt, max_depth=71, bootstrap=True \n",
            "[CV]  n_estimators=20, min_samples_split=20, min_samples_leaf=7, max_features=sqrt, max_depth=71, bootstrap=True, total=   4.1s\n",
            "[CV] n_estimators=20, min_samples_split=20, min_samples_leaf=7, max_features=sqrt, max_depth=71, bootstrap=True \n",
            "[CV]  n_estimators=20, min_samples_split=20, min_samples_leaf=7, max_features=sqrt, max_depth=71, bootstrap=True, total=   4.2s\n",
            "[CV] n_estimators=20, min_samples_split=20, min_samples_leaf=7, max_features=sqrt, max_depth=71, bootstrap=True \n",
            "[CV]  n_estimators=20, min_samples_split=20, min_samples_leaf=7, max_features=sqrt, max_depth=71, bootstrap=True, total=   4.1s\n",
            "[CV] n_estimators=20, min_samples_split=20, min_samples_leaf=7, max_features=sqrt, max_depth=71, bootstrap=True \n",
            "[CV]  n_estimators=20, min_samples_split=20, min_samples_leaf=7, max_features=sqrt, max_depth=71, bootstrap=True, total=   4.1s\n",
            "[CV] n_estimators=20, min_samples_split=20, min_samples_leaf=7, max_features=sqrt, max_depth=71, bootstrap=True \n",
            "[CV]  n_estimators=20, min_samples_split=20, min_samples_leaf=7, max_features=sqrt, max_depth=71, bootstrap=True, total=   4.1s\n",
            "[CV] n_estimators=20, min_samples_split=20, min_samples_leaf=7, max_features=sqrt, max_depth=71, bootstrap=True \n",
            "[CV]  n_estimators=20, min_samples_split=20, min_samples_leaf=7, max_features=sqrt, max_depth=71, bootstrap=True, total=   4.2s\n",
            "[CV] n_estimators=20, min_samples_split=20, min_samples_leaf=7, max_features=sqrt, max_depth=71, bootstrap=True \n",
            "[CV]  n_estimators=20, min_samples_split=20, min_samples_leaf=7, max_features=sqrt, max_depth=71, bootstrap=True, total=   4.2s\n",
            "[CV] n_estimators=20, min_samples_split=20, min_samples_leaf=7, max_features=sqrt, max_depth=71, bootstrap=True \n",
            "[CV]  n_estimators=20, min_samples_split=20, min_samples_leaf=7, max_features=sqrt, max_depth=71, bootstrap=True, total=   4.4s\n",
            "[CV] n_estimators=60, min_samples_split=45, min_samples_leaf=10, max_features=auto, max_depth=78, bootstrap=False \n",
            "[CV]  n_estimators=60, min_samples_split=45, min_samples_leaf=10, max_features=auto, max_depth=78, bootstrap=False, total= 1.7min\n",
            "[CV] n_estimators=60, min_samples_split=45, min_samples_leaf=10, max_features=auto, max_depth=78, bootstrap=False \n",
            "[CV]  n_estimators=60, min_samples_split=45, min_samples_leaf=10, max_features=auto, max_depth=78, bootstrap=False, total= 1.8min\n",
            "[CV] n_estimators=60, min_samples_split=45, min_samples_leaf=10, max_features=auto, max_depth=78, bootstrap=False \n",
            "[CV]  n_estimators=60, min_samples_split=45, min_samples_leaf=10, max_features=auto, max_depth=78, bootstrap=False, total= 1.7min\n",
            "[CV] n_estimators=60, min_samples_split=45, min_samples_leaf=10, max_features=auto, max_depth=78, bootstrap=False \n",
            "[CV]  n_estimators=60, min_samples_split=45, min_samples_leaf=10, max_features=auto, max_depth=78, bootstrap=False, total= 1.7min\n",
            "[CV] n_estimators=60, min_samples_split=45, min_samples_leaf=10, max_features=auto, max_depth=78, bootstrap=False \n",
            "[CV]  n_estimators=60, min_samples_split=45, min_samples_leaf=10, max_features=auto, max_depth=78, bootstrap=False, total= 1.7min\n",
            "[CV] n_estimators=60, min_samples_split=45, min_samples_leaf=10, max_features=auto, max_depth=78, bootstrap=False \n",
            "[CV]  n_estimators=60, min_samples_split=45, min_samples_leaf=10, max_features=auto, max_depth=78, bootstrap=False, total= 1.7min\n",
            "[CV] n_estimators=60, min_samples_split=45, min_samples_leaf=10, max_features=auto, max_depth=78, bootstrap=False \n",
            "[CV]  n_estimators=60, min_samples_split=45, min_samples_leaf=10, max_features=auto, max_depth=78, bootstrap=False, total= 1.7min\n",
            "[CV] n_estimators=60, min_samples_split=45, min_samples_leaf=10, max_features=auto, max_depth=78, bootstrap=False \n",
            "[CV]  n_estimators=60, min_samples_split=45, min_samples_leaf=10, max_features=auto, max_depth=78, bootstrap=False, total= 1.8min\n",
            "[CV] n_estimators=60, min_samples_split=45, min_samples_leaf=10, max_features=auto, max_depth=78, bootstrap=False \n",
            "[CV]  n_estimators=60, min_samples_split=45, min_samples_leaf=10, max_features=auto, max_depth=78, bootstrap=False, total= 1.8min\n",
            "[CV] n_estimators=60, min_samples_split=45, min_samples_leaf=10, max_features=auto, max_depth=78, bootstrap=False \n",
            "[CV]  n_estimators=60, min_samples_split=45, min_samples_leaf=10, max_features=auto, max_depth=78, bootstrap=False, total= 1.8min\n",
            "[CV] n_estimators=20, min_samples_split=30, min_samples_leaf=7, max_features=sqrt, max_depth=None, bootstrap=False \n",
            "[CV]  n_estimators=20, min_samples_split=30, min_samples_leaf=7, max_features=sqrt, max_depth=None, bootstrap=False, total=   6.4s\n",
            "[CV] n_estimators=20, min_samples_split=30, min_samples_leaf=7, max_features=sqrt, max_depth=None, bootstrap=False \n",
            "[CV]  n_estimators=20, min_samples_split=30, min_samples_leaf=7, max_features=sqrt, max_depth=None, bootstrap=False, total=   6.3s\n",
            "[CV] n_estimators=20, min_samples_split=30, min_samples_leaf=7, max_features=sqrt, max_depth=None, bootstrap=False \n",
            "[CV]  n_estimators=20, min_samples_split=30, min_samples_leaf=7, max_features=sqrt, max_depth=None, bootstrap=False, total=   6.3s\n",
            "[CV] n_estimators=20, min_samples_split=30, min_samples_leaf=7, max_features=sqrt, max_depth=None, bootstrap=False \n",
            "[CV]  n_estimators=20, min_samples_split=30, min_samples_leaf=7, max_features=sqrt, max_depth=None, bootstrap=False, total=   6.4s\n",
            "[CV] n_estimators=20, min_samples_split=30, min_samples_leaf=7, max_features=sqrt, max_depth=None, bootstrap=False \n",
            "[CV]  n_estimators=20, min_samples_split=30, min_samples_leaf=7, max_features=sqrt, max_depth=None, bootstrap=False, total=   6.3s\n",
            "[CV] n_estimators=20, min_samples_split=30, min_samples_leaf=7, max_features=sqrt, max_depth=None, bootstrap=False \n",
            "[CV]  n_estimators=20, min_samples_split=30, min_samples_leaf=7, max_features=sqrt, max_depth=None, bootstrap=False, total=   6.4s\n",
            "[CV] n_estimators=20, min_samples_split=30, min_samples_leaf=7, max_features=sqrt, max_depth=None, bootstrap=False \n",
            "[CV]  n_estimators=20, min_samples_split=30, min_samples_leaf=7, max_features=sqrt, max_depth=None, bootstrap=False, total=   6.4s\n",
            "[CV] n_estimators=20, min_samples_split=30, min_samples_leaf=7, max_features=sqrt, max_depth=None, bootstrap=False \n",
            "[CV]  n_estimators=20, min_samples_split=30, min_samples_leaf=7, max_features=sqrt, max_depth=None, bootstrap=False, total=   6.4s\n",
            "[CV] n_estimators=20, min_samples_split=30, min_samples_leaf=7, max_features=sqrt, max_depth=None, bootstrap=False \n",
            "[CV]  n_estimators=20, min_samples_split=30, min_samples_leaf=7, max_features=sqrt, max_depth=None, bootstrap=False, total=   6.4s\n",
            "[CV] n_estimators=20, min_samples_split=30, min_samples_leaf=7, max_features=sqrt, max_depth=None, bootstrap=False \n",
            "[CV]  n_estimators=20, min_samples_split=30, min_samples_leaf=7, max_features=sqrt, max_depth=None, bootstrap=False, total=   6.5s\n",
            "[CV] n_estimators=20, min_samples_split=45, min_samples_leaf=10, max_features=auto, max_depth=57, bootstrap=True \n",
            "[CV]  n_estimators=20, min_samples_split=45, min_samples_leaf=10, max_features=auto, max_depth=57, bootstrap=True, total=  20.8s\n",
            "[CV] n_estimators=20, min_samples_split=45, min_samples_leaf=10, max_features=auto, max_depth=57, bootstrap=True \n",
            "[CV]  n_estimators=20, min_samples_split=45, min_samples_leaf=10, max_features=auto, max_depth=57, bootstrap=True, total=  20.8s\n",
            "[CV] n_estimators=20, min_samples_split=45, min_samples_leaf=10, max_features=auto, max_depth=57, bootstrap=True \n",
            "[CV]  n_estimators=20, min_samples_split=45, min_samples_leaf=10, max_features=auto, max_depth=57, bootstrap=True, total=  20.9s\n",
            "[CV] n_estimators=20, min_samples_split=45, min_samples_leaf=10, max_features=auto, max_depth=57, bootstrap=True \n",
            "[CV]  n_estimators=20, min_samples_split=45, min_samples_leaf=10, max_features=auto, max_depth=57, bootstrap=True, total=  20.8s\n",
            "[CV] n_estimators=20, min_samples_split=45, min_samples_leaf=10, max_features=auto, max_depth=57, bootstrap=True \n",
            "[CV]  n_estimators=20, min_samples_split=45, min_samples_leaf=10, max_features=auto, max_depth=57, bootstrap=True, total=  21.0s\n",
            "[CV] n_estimators=20, min_samples_split=45, min_samples_leaf=10, max_features=auto, max_depth=57, bootstrap=True \n",
            "[CV]  n_estimators=20, min_samples_split=45, min_samples_leaf=10, max_features=auto, max_depth=57, bootstrap=True, total=  20.7s\n",
            "[CV] n_estimators=20, min_samples_split=45, min_samples_leaf=10, max_features=auto, max_depth=57, bootstrap=True \n",
            "[CV]  n_estimators=20, min_samples_split=45, min_samples_leaf=10, max_features=auto, max_depth=57, bootstrap=True, total=  21.2s\n",
            "[CV] n_estimators=20, min_samples_split=45, min_samples_leaf=10, max_features=auto, max_depth=57, bootstrap=True \n",
            "[CV]  n_estimators=20, min_samples_split=45, min_samples_leaf=10, max_features=auto, max_depth=57, bootstrap=True, total=  21.1s\n",
            "[CV] n_estimators=20, min_samples_split=45, min_samples_leaf=10, max_features=auto, max_depth=57, bootstrap=True \n",
            "[CV]  n_estimators=20, min_samples_split=45, min_samples_leaf=10, max_features=auto, max_depth=57, bootstrap=True, total=  22.0s\n",
            "[CV] n_estimators=20, min_samples_split=45, min_samples_leaf=10, max_features=auto, max_depth=57, bootstrap=True \n",
            "[CV]  n_estimators=20, min_samples_split=45, min_samples_leaf=10, max_features=auto, max_depth=57, bootstrap=True, total=  21.9s\n",
            "[CV] n_estimators=20, min_samples_split=30, min_samples_leaf=7, max_features=sqrt, max_depth=92, bootstrap=False \n",
            "[CV]  n_estimators=20, min_samples_split=30, min_samples_leaf=7, max_features=sqrt, max_depth=92, bootstrap=False, total=   6.4s\n",
            "[CV] n_estimators=20, min_samples_split=30, min_samples_leaf=7, max_features=sqrt, max_depth=92, bootstrap=False \n",
            "[CV]  n_estimators=20, min_samples_split=30, min_samples_leaf=7, max_features=sqrt, max_depth=92, bootstrap=False, total=   6.3s\n",
            "[CV] n_estimators=20, min_samples_split=30, min_samples_leaf=7, max_features=sqrt, max_depth=92, bootstrap=False \n",
            "[CV]  n_estimators=20, min_samples_split=30, min_samples_leaf=7, max_features=sqrt, max_depth=92, bootstrap=False, total=   6.4s\n",
            "[CV] n_estimators=20, min_samples_split=30, min_samples_leaf=7, max_features=sqrt, max_depth=92, bootstrap=False \n",
            "[CV]  n_estimators=20, min_samples_split=30, min_samples_leaf=7, max_features=sqrt, max_depth=92, bootstrap=False, total=   6.3s\n",
            "[CV] n_estimators=20, min_samples_split=30, min_samples_leaf=7, max_features=sqrt, max_depth=92, bootstrap=False \n",
            "[CV]  n_estimators=20, min_samples_split=30, min_samples_leaf=7, max_features=sqrt, max_depth=92, bootstrap=False, total=   6.4s\n",
            "[CV] n_estimators=20, min_samples_split=30, min_samples_leaf=7, max_features=sqrt, max_depth=92, bootstrap=False \n",
            "[CV]  n_estimators=20, min_samples_split=30, min_samples_leaf=7, max_features=sqrt, max_depth=92, bootstrap=False, total=   6.3s\n",
            "[CV] n_estimators=20, min_samples_split=30, min_samples_leaf=7, max_features=sqrt, max_depth=92, bootstrap=False \n",
            "[CV]  n_estimators=20, min_samples_split=30, min_samples_leaf=7, max_features=sqrt, max_depth=92, bootstrap=False, total=   6.5s\n",
            "[CV] n_estimators=20, min_samples_split=30, min_samples_leaf=7, max_features=sqrt, max_depth=92, bootstrap=False \n",
            "[CV]  n_estimators=20, min_samples_split=30, min_samples_leaf=7, max_features=sqrt, max_depth=92, bootstrap=False, total=   6.5s\n",
            "[CV] n_estimators=20, min_samples_split=30, min_samples_leaf=7, max_features=sqrt, max_depth=92, bootstrap=False \n",
            "[CV]  n_estimators=20, min_samples_split=30, min_samples_leaf=7, max_features=sqrt, max_depth=92, bootstrap=False, total=   6.5s\n",
            "[CV] n_estimators=20, min_samples_split=30, min_samples_leaf=7, max_features=sqrt, max_depth=92, bootstrap=False \n",
            "[CV]  n_estimators=20, min_samples_split=30, min_samples_leaf=7, max_features=sqrt, max_depth=92, bootstrap=False, total=   6.6s\n",
            "[CV] n_estimators=100, min_samples_split=20, min_samples_leaf=5, max_features=sqrt, max_depth=106, bootstrap=True \n",
            "[CV]  n_estimators=100, min_samples_split=20, min_samples_leaf=5, max_features=sqrt, max_depth=106, bootstrap=True, total=  20.7s\n",
            "[CV] n_estimators=100, min_samples_split=20, min_samples_leaf=5, max_features=sqrt, max_depth=106, bootstrap=True \n",
            "[CV]  n_estimators=100, min_samples_split=20, min_samples_leaf=5, max_features=sqrt, max_depth=106, bootstrap=True, total=  21.0s\n",
            "[CV] n_estimators=100, min_samples_split=20, min_samples_leaf=5, max_features=sqrt, max_depth=106, bootstrap=True \n",
            "[CV]  n_estimators=100, min_samples_split=20, min_samples_leaf=5, max_features=sqrt, max_depth=106, bootstrap=True, total=  20.9s\n",
            "[CV] n_estimators=100, min_samples_split=20, min_samples_leaf=5, max_features=sqrt, max_depth=106, bootstrap=True \n",
            "[CV]  n_estimators=100, min_samples_split=20, min_samples_leaf=5, max_features=sqrt, max_depth=106, bootstrap=True, total=  20.9s\n",
            "[CV] n_estimators=100, min_samples_split=20, min_samples_leaf=5, max_features=sqrt, max_depth=106, bootstrap=True \n",
            "[CV]  n_estimators=100, min_samples_split=20, min_samples_leaf=5, max_features=sqrt, max_depth=106, bootstrap=True, total=  21.0s\n",
            "[CV] n_estimators=100, min_samples_split=20, min_samples_leaf=5, max_features=sqrt, max_depth=106, bootstrap=True \n",
            "[CV]  n_estimators=100, min_samples_split=20, min_samples_leaf=5, max_features=sqrt, max_depth=106, bootstrap=True, total=  20.9s\n",
            "[CV] n_estimators=100, min_samples_split=20, min_samples_leaf=5, max_features=sqrt, max_depth=106, bootstrap=True \n",
            "[CV]  n_estimators=100, min_samples_split=20, min_samples_leaf=5, max_features=sqrt, max_depth=106, bootstrap=True, total=  21.0s\n",
            "[CV] n_estimators=100, min_samples_split=20, min_samples_leaf=5, max_features=sqrt, max_depth=106, bootstrap=True \n",
            "[CV]  n_estimators=100, min_samples_split=20, min_samples_leaf=5, max_features=sqrt, max_depth=106, bootstrap=True, total=  21.2s\n",
            "[CV] n_estimators=100, min_samples_split=20, min_samples_leaf=5, max_features=sqrt, max_depth=106, bootstrap=True \n",
            "[CV]  n_estimators=100, min_samples_split=20, min_samples_leaf=5, max_features=sqrt, max_depth=106, bootstrap=True, total=  21.3s\n",
            "[CV] n_estimators=100, min_samples_split=20, min_samples_leaf=5, max_features=sqrt, max_depth=106, bootstrap=True \n",
            "[CV]  n_estimators=100, min_samples_split=20, min_samples_leaf=5, max_features=sqrt, max_depth=106, bootstrap=True, total=  21.2s\n",
            "[CV] n_estimators=20, min_samples_split=20, min_samples_leaf=10, max_features=sqrt, max_depth=78, bootstrap=False \n",
            "[CV]  n_estimators=20, min_samples_split=20, min_samples_leaf=10, max_features=sqrt, max_depth=78, bootstrap=False, total=   6.4s\n",
            "[CV] n_estimators=20, min_samples_split=20, min_samples_leaf=10, max_features=sqrt, max_depth=78, bootstrap=False \n",
            "[CV]  n_estimators=20, min_samples_split=20, min_samples_leaf=10, max_features=sqrt, max_depth=78, bootstrap=False, total=   6.3s\n",
            "[CV] n_estimators=20, min_samples_split=20, min_samples_leaf=10, max_features=sqrt, max_depth=78, bootstrap=False \n",
            "[CV]  n_estimators=20, min_samples_split=20, min_samples_leaf=10, max_features=sqrt, max_depth=78, bootstrap=False, total=   6.2s\n",
            "[CV] n_estimators=20, min_samples_split=20, min_samples_leaf=10, max_features=sqrt, max_depth=78, bootstrap=False \n",
            "[CV]  n_estimators=20, min_samples_split=20, min_samples_leaf=10, max_features=sqrt, max_depth=78, bootstrap=False, total=   6.2s\n",
            "[CV] n_estimators=20, min_samples_split=20, min_samples_leaf=10, max_features=sqrt, max_depth=78, bootstrap=False \n",
            "[CV]  n_estimators=20, min_samples_split=20, min_samples_leaf=10, max_features=sqrt, max_depth=78, bootstrap=False, total=   6.4s\n",
            "[CV] n_estimators=20, min_samples_split=20, min_samples_leaf=10, max_features=sqrt, max_depth=78, bootstrap=False \n",
            "[CV]  n_estimators=20, min_samples_split=20, min_samples_leaf=10, max_features=sqrt, max_depth=78, bootstrap=False, total=   6.2s\n",
            "[CV] n_estimators=20, min_samples_split=20, min_samples_leaf=10, max_features=sqrt, max_depth=78, bootstrap=False \n",
            "[CV]  n_estimators=20, min_samples_split=20, min_samples_leaf=10, max_features=sqrt, max_depth=78, bootstrap=False, total=   6.4s\n",
            "[CV] n_estimators=20, min_samples_split=20, min_samples_leaf=10, max_features=sqrt, max_depth=78, bootstrap=False \n",
            "[CV]  n_estimators=20, min_samples_split=20, min_samples_leaf=10, max_features=sqrt, max_depth=78, bootstrap=False, total=   6.4s\n",
            "[CV] n_estimators=20, min_samples_split=20, min_samples_leaf=10, max_features=sqrt, max_depth=78, bootstrap=False \n",
            "[CV]  n_estimators=20, min_samples_split=20, min_samples_leaf=10, max_features=sqrt, max_depth=78, bootstrap=False, total=   6.6s\n",
            "[CV] n_estimators=20, min_samples_split=20, min_samples_leaf=10, max_features=sqrt, max_depth=78, bootstrap=False \n",
            "[CV]  n_estimators=20, min_samples_split=20, min_samples_leaf=10, max_features=sqrt, max_depth=78, bootstrap=False, total=   6.5s\n",
            "[CV] n_estimators=20, min_samples_split=20, min_samples_leaf=5, max_features=sqrt, max_depth=57, bootstrap=False \n",
            "[CV]  n_estimators=20, min_samples_split=20, min_samples_leaf=5, max_features=sqrt, max_depth=57, bootstrap=False, total=   6.6s\n",
            "[CV] n_estimators=20, min_samples_split=20, min_samples_leaf=5, max_features=sqrt, max_depth=57, bootstrap=False \n",
            "[CV]  n_estimators=20, min_samples_split=20, min_samples_leaf=5, max_features=sqrt, max_depth=57, bootstrap=False, total=   6.7s\n",
            "[CV] n_estimators=20, min_samples_split=20, min_samples_leaf=5, max_features=sqrt, max_depth=57, bootstrap=False \n",
            "[CV]  n_estimators=20, min_samples_split=20, min_samples_leaf=5, max_features=sqrt, max_depth=57, bootstrap=False, total=   6.6s\n",
            "[CV] n_estimators=20, min_samples_split=20, min_samples_leaf=5, max_features=sqrt, max_depth=57, bootstrap=False \n",
            "[CV]  n_estimators=20, min_samples_split=20, min_samples_leaf=5, max_features=sqrt, max_depth=57, bootstrap=False, total=   6.6s\n",
            "[CV] n_estimators=20, min_samples_split=20, min_samples_leaf=5, max_features=sqrt, max_depth=57, bootstrap=False \n",
            "[CV]  n_estimators=20, min_samples_split=20, min_samples_leaf=5, max_features=sqrt, max_depth=57, bootstrap=False, total=   6.6s\n",
            "[CV] n_estimators=20, min_samples_split=20, min_samples_leaf=5, max_features=sqrt, max_depth=57, bootstrap=False \n",
            "[CV]  n_estimators=20, min_samples_split=20, min_samples_leaf=5, max_features=sqrt, max_depth=57, bootstrap=False, total=   6.6s\n",
            "[CV] n_estimators=20, min_samples_split=20, min_samples_leaf=5, max_features=sqrt, max_depth=57, bootstrap=False \n",
            "[CV]  n_estimators=20, min_samples_split=20, min_samples_leaf=5, max_features=sqrt, max_depth=57, bootstrap=False, total=   6.5s\n",
            "[CV] n_estimators=20, min_samples_split=20, min_samples_leaf=5, max_features=sqrt, max_depth=57, bootstrap=False \n",
            "[CV]  n_estimators=20, min_samples_split=20, min_samples_leaf=5, max_features=sqrt, max_depth=57, bootstrap=False, total=   6.4s\n",
            "[CV] n_estimators=20, min_samples_split=20, min_samples_leaf=5, max_features=sqrt, max_depth=57, bootstrap=False \n",
            "[CV]  n_estimators=20, min_samples_split=20, min_samples_leaf=5, max_features=sqrt, max_depth=57, bootstrap=False, total=   6.8s\n",
            "[CV] n_estimators=20, min_samples_split=20, min_samples_leaf=5, max_features=sqrt, max_depth=57, bootstrap=False \n",
            "[CV]  n_estimators=20, min_samples_split=20, min_samples_leaf=5, max_features=sqrt, max_depth=57, bootstrap=False, total=   6.8s\n",
            "[CV] n_estimators=20, min_samples_split=45, min_samples_leaf=5, max_features=sqrt, max_depth=120, bootstrap=True \n",
            "[CV]  n_estimators=20, min_samples_split=45, min_samples_leaf=5, max_features=sqrt, max_depth=120, bootstrap=True, total=   4.1s\n",
            "[CV] n_estimators=20, min_samples_split=45, min_samples_leaf=5, max_features=sqrt, max_depth=120, bootstrap=True \n",
            "[CV]  n_estimators=20, min_samples_split=45, min_samples_leaf=5, max_features=sqrt, max_depth=120, bootstrap=True, total=   4.0s\n",
            "[CV] n_estimators=20, min_samples_split=45, min_samples_leaf=5, max_features=sqrt, max_depth=120, bootstrap=True \n",
            "[CV]  n_estimators=20, min_samples_split=45, min_samples_leaf=5, max_features=sqrt, max_depth=120, bootstrap=True, total=   4.0s\n",
            "[CV] n_estimators=20, min_samples_split=45, min_samples_leaf=5, max_features=sqrt, max_depth=120, bootstrap=True \n",
            "[CV]  n_estimators=20, min_samples_split=45, min_samples_leaf=5, max_features=sqrt, max_depth=120, bootstrap=True, total=   4.0s\n",
            "[CV] n_estimators=20, min_samples_split=45, min_samples_leaf=5, max_features=sqrt, max_depth=120, bootstrap=True \n",
            "[CV]  n_estimators=20, min_samples_split=45, min_samples_leaf=5, max_features=sqrt, max_depth=120, bootstrap=True, total=   4.0s\n",
            "[CV] n_estimators=20, min_samples_split=45, min_samples_leaf=5, max_features=sqrt, max_depth=120, bootstrap=True \n",
            "[CV]  n_estimators=20, min_samples_split=45, min_samples_leaf=5, max_features=sqrt, max_depth=120, bootstrap=True, total=   4.3s\n",
            "[CV] n_estimators=20, min_samples_split=45, min_samples_leaf=5, max_features=sqrt, max_depth=120, bootstrap=True \n",
            "[CV]  n_estimators=20, min_samples_split=45, min_samples_leaf=5, max_features=sqrt, max_depth=120, bootstrap=True, total=   4.1s\n",
            "[CV] n_estimators=20, min_samples_split=45, min_samples_leaf=5, max_features=sqrt, max_depth=120, bootstrap=True \n",
            "[CV]  n_estimators=20, min_samples_split=45, min_samples_leaf=5, max_features=sqrt, max_depth=120, bootstrap=True, total=   4.3s\n",
            "[CV] n_estimators=20, min_samples_split=45, min_samples_leaf=5, max_features=sqrt, max_depth=120, bootstrap=True \n",
            "[CV]  n_estimators=20, min_samples_split=45, min_samples_leaf=5, max_features=sqrt, max_depth=120, bootstrap=True, total=   4.2s\n",
            "[CV] n_estimators=20, min_samples_split=45, min_samples_leaf=5, max_features=sqrt, max_depth=120, bootstrap=True \n",
            "[CV]  n_estimators=20, min_samples_split=45, min_samples_leaf=5, max_features=sqrt, max_depth=120, bootstrap=True, total=   4.1s\n",
            "[CV] n_estimators=100, min_samples_split=45, min_samples_leaf=5, max_features=auto, max_depth=57, bootstrap=False \n",
            "[CV]  n_estimators=100, min_samples_split=45, min_samples_leaf=5, max_features=auto, max_depth=57, bootstrap=False, total= 3.0min\n",
            "[CV] n_estimators=100, min_samples_split=45, min_samples_leaf=5, max_features=auto, max_depth=57, bootstrap=False \n",
            "[CV]  n_estimators=100, min_samples_split=45, min_samples_leaf=5, max_features=auto, max_depth=57, bootstrap=False, total= 3.0min\n",
            "[CV] n_estimators=100, min_samples_split=45, min_samples_leaf=5, max_features=auto, max_depth=57, bootstrap=False \n",
            "[CV]  n_estimators=100, min_samples_split=45, min_samples_leaf=5, max_features=auto, max_depth=57, bootstrap=False, total= 2.9min\n",
            "[CV] n_estimators=100, min_samples_split=45, min_samples_leaf=5, max_features=auto, max_depth=57, bootstrap=False \n",
            "[CV]  n_estimators=100, min_samples_split=45, min_samples_leaf=5, max_features=auto, max_depth=57, bootstrap=False, total= 2.9min\n",
            "[CV] n_estimators=100, min_samples_split=45, min_samples_leaf=5, max_features=auto, max_depth=57, bootstrap=False \n",
            "[CV]  n_estimators=100, min_samples_split=45, min_samples_leaf=5, max_features=auto, max_depth=57, bootstrap=False, total= 3.0min\n",
            "[CV] n_estimators=100, min_samples_split=45, min_samples_leaf=5, max_features=auto, max_depth=57, bootstrap=False \n",
            "[CV]  n_estimators=100, min_samples_split=45, min_samples_leaf=5, max_features=auto, max_depth=57, bootstrap=False, total= 2.9min\n",
            "[CV] n_estimators=100, min_samples_split=45, min_samples_leaf=5, max_features=auto, max_depth=57, bootstrap=False \n",
            "[CV]  n_estimators=100, min_samples_split=45, min_samples_leaf=5, max_features=auto, max_depth=57, bootstrap=False, total= 2.9min\n",
            "[CV] n_estimators=100, min_samples_split=45, min_samples_leaf=5, max_features=auto, max_depth=57, bootstrap=False \n",
            "[CV]  n_estimators=100, min_samples_split=45, min_samples_leaf=5, max_features=auto, max_depth=57, bootstrap=False, total= 3.0min\n",
            "[CV] n_estimators=100, min_samples_split=45, min_samples_leaf=5, max_features=auto, max_depth=57, bootstrap=False \n",
            "[CV]  n_estimators=100, min_samples_split=45, min_samples_leaf=5, max_features=auto, max_depth=57, bootstrap=False, total= 3.0min\n",
            "[CV] n_estimators=100, min_samples_split=45, min_samples_leaf=5, max_features=auto, max_depth=57, bootstrap=False \n",
            "[CV]  n_estimators=100, min_samples_split=45, min_samples_leaf=5, max_features=auto, max_depth=57, bootstrap=False, total= 3.1min\n",
            "[CV] n_estimators=100, min_samples_split=30, min_samples_leaf=5, max_features=auto, max_depth=85, bootstrap=True \n",
            "[CV]  n_estimators=100, min_samples_split=30, min_samples_leaf=5, max_features=auto, max_depth=85, bootstrap=True, total= 1.8min\n",
            "[CV] n_estimators=100, min_samples_split=30, min_samples_leaf=5, max_features=auto, max_depth=85, bootstrap=True \n",
            "[CV]  n_estimators=100, min_samples_split=30, min_samples_leaf=5, max_features=auto, max_depth=85, bootstrap=True, total= 1.8min\n",
            "[CV] n_estimators=100, min_samples_split=30, min_samples_leaf=5, max_features=auto, max_depth=85, bootstrap=True \n",
            "[CV]  n_estimators=100, min_samples_split=30, min_samples_leaf=5, max_features=auto, max_depth=85, bootstrap=True, total= 1.8min\n",
            "[CV] n_estimators=100, min_samples_split=30, min_samples_leaf=5, max_features=auto, max_depth=85, bootstrap=True \n",
            "[CV]  n_estimators=100, min_samples_split=30, min_samples_leaf=5, max_features=auto, max_depth=85, bootstrap=True, total= 1.8min\n",
            "[CV] n_estimators=100, min_samples_split=30, min_samples_leaf=5, max_features=auto, max_depth=85, bootstrap=True \n",
            "[CV]  n_estimators=100, min_samples_split=30, min_samples_leaf=5, max_features=auto, max_depth=85, bootstrap=True, total= 1.8min\n",
            "[CV] n_estimators=100, min_samples_split=30, min_samples_leaf=5, max_features=auto, max_depth=85, bootstrap=True \n",
            "[CV]  n_estimators=100, min_samples_split=30, min_samples_leaf=5, max_features=auto, max_depth=85, bootstrap=True, total= 1.8min\n",
            "[CV] n_estimators=100, min_samples_split=30, min_samples_leaf=5, max_features=auto, max_depth=85, bootstrap=True \n",
            "[CV]  n_estimators=100, min_samples_split=30, min_samples_leaf=5, max_features=auto, max_depth=85, bootstrap=True, total= 1.8min\n",
            "[CV] n_estimators=100, min_samples_split=30, min_samples_leaf=5, max_features=auto, max_depth=85, bootstrap=True \n",
            "[CV]  n_estimators=100, min_samples_split=30, min_samples_leaf=5, max_features=auto, max_depth=85, bootstrap=True, total= 1.8min\n",
            "[CV] n_estimators=100, min_samples_split=30, min_samples_leaf=5, max_features=auto, max_depth=85, bootstrap=True \n",
            "[CV]  n_estimators=100, min_samples_split=30, min_samples_leaf=5, max_features=auto, max_depth=85, bootstrap=True, total= 1.9min\n",
            "[CV] n_estimators=100, min_samples_split=30, min_samples_leaf=5, max_features=auto, max_depth=85, bootstrap=True \n",
            "[CV]  n_estimators=100, min_samples_split=30, min_samples_leaf=5, max_features=auto, max_depth=85, bootstrap=True, total= 1.9min\n",
            "[CV] n_estimators=40, min_samples_split=30, min_samples_leaf=7, max_features=auto, max_depth=50, bootstrap=True \n",
            "[CV]  n_estimators=40, min_samples_split=30, min_samples_leaf=7, max_features=auto, max_depth=50, bootstrap=True, total=  43.0s\n",
            "[CV] n_estimators=40, min_samples_split=30, min_samples_leaf=7, max_features=auto, max_depth=50, bootstrap=True \n",
            "[CV]  n_estimators=40, min_samples_split=30, min_samples_leaf=7, max_features=auto, max_depth=50, bootstrap=True, total=  43.2s\n",
            "[CV] n_estimators=40, min_samples_split=30, min_samples_leaf=7, max_features=auto, max_depth=50, bootstrap=True \n",
            "[CV]  n_estimators=40, min_samples_split=30, min_samples_leaf=7, max_features=auto, max_depth=50, bootstrap=True, total=  43.0s\n",
            "[CV] n_estimators=40, min_samples_split=30, min_samples_leaf=7, max_features=auto, max_depth=50, bootstrap=True \n",
            "[CV]  n_estimators=40, min_samples_split=30, min_samples_leaf=7, max_features=auto, max_depth=50, bootstrap=True, total=  42.5s\n",
            "[CV] n_estimators=40, min_samples_split=30, min_samples_leaf=7, max_features=auto, max_depth=50, bootstrap=True \n",
            "[CV]  n_estimators=40, min_samples_split=30, min_samples_leaf=7, max_features=auto, max_depth=50, bootstrap=True, total=  43.2s\n",
            "[CV] n_estimators=40, min_samples_split=30, min_samples_leaf=7, max_features=auto, max_depth=50, bootstrap=True \n",
            "[CV]  n_estimators=40, min_samples_split=30, min_samples_leaf=7, max_features=auto, max_depth=50, bootstrap=True, total=  42.7s\n",
            "[CV] n_estimators=40, min_samples_split=30, min_samples_leaf=7, max_features=auto, max_depth=50, bootstrap=True \n",
            "[CV]  n_estimators=40, min_samples_split=30, min_samples_leaf=7, max_features=auto, max_depth=50, bootstrap=True, total=  43.5s\n",
            "[CV] n_estimators=40, min_samples_split=30, min_samples_leaf=7, max_features=auto, max_depth=50, bootstrap=True \n",
            "[CV]  n_estimators=40, min_samples_split=30, min_samples_leaf=7, max_features=auto, max_depth=50, bootstrap=True, total=  43.4s\n",
            "[CV] n_estimators=40, min_samples_split=30, min_samples_leaf=7, max_features=auto, max_depth=50, bootstrap=True \n",
            "[CV]  n_estimators=40, min_samples_split=30, min_samples_leaf=7, max_features=auto, max_depth=50, bootstrap=True, total=  45.6s\n",
            "[CV] n_estimators=40, min_samples_split=30, min_samples_leaf=7, max_features=auto, max_depth=50, bootstrap=True \n",
            "[CV]  n_estimators=40, min_samples_split=30, min_samples_leaf=7, max_features=auto, max_depth=50, bootstrap=True, total=  45.3s\n",
            "[CV] n_estimators=60, min_samples_split=45, min_samples_leaf=7, max_features=auto, max_depth=106, bootstrap=True \n",
            "[CV]  n_estimators=60, min_samples_split=45, min_samples_leaf=7, max_features=auto, max_depth=106, bootstrap=True, total= 1.1min\n",
            "[CV] n_estimators=60, min_samples_split=45, min_samples_leaf=7, max_features=auto, max_depth=106, bootstrap=True \n",
            "[CV]  n_estimators=60, min_samples_split=45, min_samples_leaf=7, max_features=auto, max_depth=106, bootstrap=True, total= 1.1min\n",
            "[CV] n_estimators=60, min_samples_split=45, min_samples_leaf=7, max_features=auto, max_depth=106, bootstrap=True \n",
            "[CV]  n_estimators=60, min_samples_split=45, min_samples_leaf=7, max_features=auto, max_depth=106, bootstrap=True, total= 1.1min\n",
            "[CV] n_estimators=60, min_samples_split=45, min_samples_leaf=7, max_features=auto, max_depth=106, bootstrap=True \n",
            "[CV]  n_estimators=60, min_samples_split=45, min_samples_leaf=7, max_features=auto, max_depth=106, bootstrap=True, total= 1.0min\n",
            "[CV] n_estimators=60, min_samples_split=45, min_samples_leaf=7, max_features=auto, max_depth=106, bootstrap=True \n",
            "[CV]  n_estimators=60, min_samples_split=45, min_samples_leaf=7, max_features=auto, max_depth=106, bootstrap=True, total= 1.1min\n",
            "[CV] n_estimators=60, min_samples_split=45, min_samples_leaf=7, max_features=auto, max_depth=106, bootstrap=True \n",
            "[CV]  n_estimators=60, min_samples_split=45, min_samples_leaf=7, max_features=auto, max_depth=106, bootstrap=True, total= 1.0min\n",
            "[CV] n_estimators=60, min_samples_split=45, min_samples_leaf=7, max_features=auto, max_depth=106, bootstrap=True \n",
            "[CV]  n_estimators=60, min_samples_split=45, min_samples_leaf=7, max_features=auto, max_depth=106, bootstrap=True, total= 1.1min\n",
            "[CV] n_estimators=60, min_samples_split=45, min_samples_leaf=7, max_features=auto, max_depth=106, bootstrap=True \n",
            "[CV]  n_estimators=60, min_samples_split=45, min_samples_leaf=7, max_features=auto, max_depth=106, bootstrap=True, total= 1.1min\n",
            "[CV] n_estimators=60, min_samples_split=45, min_samples_leaf=7, max_features=auto, max_depth=106, bootstrap=True \n",
            "[CV]  n_estimators=60, min_samples_split=45, min_samples_leaf=7, max_features=auto, max_depth=106, bootstrap=True, total= 1.1min\n",
            "[CV] n_estimators=60, min_samples_split=45, min_samples_leaf=7, max_features=auto, max_depth=106, bootstrap=True \n",
            "[CV]  n_estimators=60, min_samples_split=45, min_samples_leaf=7, max_features=auto, max_depth=106, bootstrap=True, total= 1.1min\n"
          ],
          "name": "stdout"
        },
        {
          "output_type": "stream",
          "text": [
            "[Parallel(n_jobs=1)]: Done 200 out of 200 | elapsed: 174.1min finished\n"
          ],
          "name": "stderr"
        }
      ]
    },
    {
      "metadata": {
        "id": "URGJXbzDopsT",
        "colab_type": "text"
      },
      "cell_type": "markdown",
      "source": [
        "**Performance Metrics: Evaluating the RandomForest Regressor model on Test set**"
      ]
    },
    {
      "metadata": {
        "id": "rbtF-E3T5Ji2",
        "colab_type": "code",
        "outputId": "0789bd7c-47ab-40a9-d598-fbe575136e97",
        "colab": {
          "base_uri": "https://localhost:8080/",
          "height": 85
        }
      },
      "cell_type": "code",
      "source": [
        "# Performance metrics (MAPE)\n",
        "random_best= rf_random.best_estimator_.predict(x_test)\n",
        "errors = abs(random_best - y_test)\n",
        "# Calculate mean absolute percentage error (MAPE)\n",
        "mape= 100*(np.mean(errors)/y_test)\n",
        "accuracy = (100 - mape)\n",
        "print('The best model from grid-search has an accuracy of', accuracy,'%'  'on the training data')\n",
        "  "
      ],
      "execution_count": 0,
      "outputs": [
        {
          "output_type": "stream",
          "text": [
            "The best model from grid-search has an accuracy of [66.80577582 66.80577582 66.80577582 ...        -inf        -inf\n",
            " 66.80577582] %on the training data\n"
          ],
          "name": "stdout"
        },
        {
          "output_type": "stream",
          "text": [
            "/usr/local/lib/python3.6/dist-packages/ipykernel_launcher.py:4: RuntimeWarning: divide by zero encountered in true_divide\n",
            "  after removing the cwd from sys.path.\n"
          ],
          "name": "stderr"
        }
      ]
    },
    {
      "metadata": {
        "id": "8kC6FrJuo2IA",
        "colab_type": "text"
      },
      "cell_type": "markdown",
      "source": [
        "** Performance Metrics: Evaluating the RandomForest Regressor model on Training set**"
      ]
    },
    {
      "metadata": {
        "id": "wuUxoRRtjt-K",
        "colab_type": "code",
        "outputId": "83ac5295-505f-4335-81ba-f85c01b97992",
        "colab": {
          "base_uri": "https://localhost:8080/",
          "height": 68
        }
      },
      "cell_type": "code",
      "source": [
        "# Performance metrics (MAPE)\n",
        "random_best= rf_random.best_estimator_.predict(x_train)\n",
        "errors = abs(random_best - y_train)\n",
        "# Calculate mean absolute percentage error (MAPE)\n",
        "mape= 100*(np.mean(errors)/y_train)\n",
        "accuracy = (100 - mape)\n",
        "print('The best model from grid-search has an accuracy of', accuracy,'%'  'on the training data')\n",
        "  \n"
      ],
      "execution_count": 0,
      "outputs": [
        {
          "output_type": "stream",
          "text": [
            "The best model from grid-search has an accuracy of [      -inf       -inf       -inf ... 82.5813274 82.5813274 82.5813274] %on the training data\n"
          ],
          "name": "stdout"
        },
        {
          "output_type": "stream",
          "text": [
            "/usr/local/lib/python3.6/dist-packages/ipykernel_launcher.py:4: RuntimeWarning: divide by zero encountered in true_divide\n",
            "  after removing the cwd from sys.path.\n"
          ],
          "name": "stderr"
        }
      ]
    },
    {
      "metadata": {
        "id": "3R6Ulu65tkEe",
        "colab_type": "text"
      },
      "cell_type": "markdown",
      "source": [
        "**Remarks on my random forest, GridCV  and Randomized search models**\n",
        "\n",
        "1) I tried creating a classification report, but got error thaat  classification report cannot handle binary data(from the labels) and continous data from the randomforest regressor.\n",
        "\n",
        "2) I also got an error when calculating accuracy that true divide by zero was observed . I donot know why. i sort for help and searched the internet but could not fix it. that's why i have arrays of the same accuracy value instead of a single mean value.\n",
        "\n",
        "3) The accuracy for the random forest classifier on the test data is higher than those of the grid cv regressor and randomized search regressor models. Hence, I will go with the random forest classifier.\n",
        "\n",
        "4) I plotted the ROC curve and noticed my curve i smooth, I searched for help in know why , but couln't get any. The important thing is that the curve is cloe th the upper left part of the plot."
      ]
    }
  ]
}